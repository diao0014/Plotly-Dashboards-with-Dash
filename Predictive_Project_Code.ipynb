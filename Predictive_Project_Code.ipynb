{
  "cells": [
    {
      "cell_type": "markdown",
      "metadata": {
        "id": "view-in-github",
        "colab_type": "text"
      },
      "source": [
        "<a href=\"https://colab.research.google.com/github/diao0014/Plotly-Dashboards-with-Dash/blob/master/Predictive_Project_Code.ipynb\" target=\"_parent\"><img src=\"https://colab.research.google.com/assets/colab-badge.svg\" alt=\"Open In Colab\"/></a>"
      ]
    },
    {
      "cell_type": "code",
      "execution_count": null,
      "metadata": {
        "id": "bt-E9K76_4oN"
      },
      "outputs": [],
      "source": [
        "import os\n",
        "import pandas as pd\n",
        "import numpy as np\n",
        "import matplotlib.pyplot as plt\n",
        "import pickle\n",
        "from sklearn.preprocessing import StandardScaler\n",
        "from sklearn.pipeline import Pipeline\n",
        "from sklearn.compose import ColumnTransformer\n",
        "from sklearn.impute import SimpleImputer\n",
        "from sklearn.pipeline import FeatureUnion\n",
        "from sklearn.impute import MissingIndicator\n"
      ]
    },
    {
      "cell_type": "code",
      "execution_count": null,
      "metadata": {
        "colab": {
          "base_uri": "https://localhost:8080/",
          "height": 299
        },
        "id": "xMywfJoe_E7B",
        "outputId": "93c4edf4-eeb7-45ed-abb4-8df2b5e43f6e"
      },
      "outputs": [
        {
          "output_type": "execute_result",
          "data": {
            "text/plain": [
              "  RiskPerformance  ExternalRiskEstimate  MSinceOldestTradeOpen  \\\n",
              "0             Bad                    55                    144   \n",
              "1             Bad                    61                     58   \n",
              "2             Bad                    67                     66   \n",
              "3             Bad                    66                    169   \n",
              "4             Bad                    81                    333   \n",
              "\n",
              "   MSinceMostRecentTradeOpen  AverageMInFile  NumSatisfactoryTrades  \\\n",
              "0                          4              84                     20   \n",
              "1                         15              41                      2   \n",
              "2                          5              24                      9   \n",
              "3                          1              73                     28   \n",
              "4                         27             132                     12   \n",
              "\n",
              "   NumTrades60Ever2DerogPubRec  NumTrades90Ever2DerogPubRec  \\\n",
              "0                            3                            0   \n",
              "1                            4                            4   \n",
              "2                            0                            0   \n",
              "3                            1                            1   \n",
              "4                            0                            0   \n",
              "\n",
              "   PercentTradesNeverDelq  MSinceMostRecentDelq  ...  PercentInstallTrades  \\\n",
              "0                      83                     2  ...                    43   \n",
              "1                     100                    -7  ...                    67   \n",
              "2                     100                    -7  ...                    44   \n",
              "3                      93                    76  ...                    57   \n",
              "4                     100                    -7  ...                    25   \n",
              "\n",
              "   MSinceMostRecentInqexcl7days  NumInqLast6M  NumInqLast6Mexcl7days  \\\n",
              "0                             0             0                      0   \n",
              "1                             0             0                      0   \n",
              "2                             0             4                      4   \n",
              "3                             0             5                      4   \n",
              "4                             0             1                      1   \n",
              "\n",
              "   NetFractionRevolvingBurden  NetFractionInstallBurden  \\\n",
              "0                          33                        -8   \n",
              "1                           0                        -8   \n",
              "2                          53                        66   \n",
              "3                          72                        83   \n",
              "4                          51                        89   \n",
              "\n",
              "   NumRevolvingTradesWBalance  NumInstallTradesWBalance  \\\n",
              "0                           8                         1   \n",
              "1                           0                        -8   \n",
              "2                           4                         2   \n",
              "3                           6                         4   \n",
              "4                           3                         1   \n",
              "\n",
              "   NumBank2NatlTradesWHighUtilization  PercentTradesWBalance  \n",
              "0                                   1                     69  \n",
              "1                                  -8                      0  \n",
              "2                                   1                     86  \n",
              "3                                   3                     91  \n",
              "4                                   0                     80  \n",
              "\n",
              "[5 rows x 24 columns]"
            ],
            "text/html": [
              "\n",
              "  <div id=\"df-2b847faf-c8aa-4759-8939-b71eced1603c\">\n",
              "    <div class=\"colab-df-container\">\n",
              "      <div>\n",
              "<style scoped>\n",
              "    .dataframe tbody tr th:only-of-type {\n",
              "        vertical-align: middle;\n",
              "    }\n",
              "\n",
              "    .dataframe tbody tr th {\n",
              "        vertical-align: top;\n",
              "    }\n",
              "\n",
              "    .dataframe thead th {\n",
              "        text-align: right;\n",
              "    }\n",
              "</style>\n",
              "<table border=\"1\" class=\"dataframe\">\n",
              "  <thead>\n",
              "    <tr style=\"text-align: right;\">\n",
              "      <th></th>\n",
              "      <th>RiskPerformance</th>\n",
              "      <th>ExternalRiskEstimate</th>\n",
              "      <th>MSinceOldestTradeOpen</th>\n",
              "      <th>MSinceMostRecentTradeOpen</th>\n",
              "      <th>AverageMInFile</th>\n",
              "      <th>NumSatisfactoryTrades</th>\n",
              "      <th>NumTrades60Ever2DerogPubRec</th>\n",
              "      <th>NumTrades90Ever2DerogPubRec</th>\n",
              "      <th>PercentTradesNeverDelq</th>\n",
              "      <th>MSinceMostRecentDelq</th>\n",
              "      <th>...</th>\n",
              "      <th>PercentInstallTrades</th>\n",
              "      <th>MSinceMostRecentInqexcl7days</th>\n",
              "      <th>NumInqLast6M</th>\n",
              "      <th>NumInqLast6Mexcl7days</th>\n",
              "      <th>NetFractionRevolvingBurden</th>\n",
              "      <th>NetFractionInstallBurden</th>\n",
              "      <th>NumRevolvingTradesWBalance</th>\n",
              "      <th>NumInstallTradesWBalance</th>\n",
              "      <th>NumBank2NatlTradesWHighUtilization</th>\n",
              "      <th>PercentTradesWBalance</th>\n",
              "    </tr>\n",
              "  </thead>\n",
              "  <tbody>\n",
              "    <tr>\n",
              "      <th>0</th>\n",
              "      <td>Bad</td>\n",
              "      <td>55</td>\n",
              "      <td>144</td>\n",
              "      <td>4</td>\n",
              "      <td>84</td>\n",
              "      <td>20</td>\n",
              "      <td>3</td>\n",
              "      <td>0</td>\n",
              "      <td>83</td>\n",
              "      <td>2</td>\n",
              "      <td>...</td>\n",
              "      <td>43</td>\n",
              "      <td>0</td>\n",
              "      <td>0</td>\n",
              "      <td>0</td>\n",
              "      <td>33</td>\n",
              "      <td>-8</td>\n",
              "      <td>8</td>\n",
              "      <td>1</td>\n",
              "      <td>1</td>\n",
              "      <td>69</td>\n",
              "    </tr>\n",
              "    <tr>\n",
              "      <th>1</th>\n",
              "      <td>Bad</td>\n",
              "      <td>61</td>\n",
              "      <td>58</td>\n",
              "      <td>15</td>\n",
              "      <td>41</td>\n",
              "      <td>2</td>\n",
              "      <td>4</td>\n",
              "      <td>4</td>\n",
              "      <td>100</td>\n",
              "      <td>-7</td>\n",
              "      <td>...</td>\n",
              "      <td>67</td>\n",
              "      <td>0</td>\n",
              "      <td>0</td>\n",
              "      <td>0</td>\n",
              "      <td>0</td>\n",
              "      <td>-8</td>\n",
              "      <td>0</td>\n",
              "      <td>-8</td>\n",
              "      <td>-8</td>\n",
              "      <td>0</td>\n",
              "    </tr>\n",
              "    <tr>\n",
              "      <th>2</th>\n",
              "      <td>Bad</td>\n",
              "      <td>67</td>\n",
              "      <td>66</td>\n",
              "      <td>5</td>\n",
              "      <td>24</td>\n",
              "      <td>9</td>\n",
              "      <td>0</td>\n",
              "      <td>0</td>\n",
              "      <td>100</td>\n",
              "      <td>-7</td>\n",
              "      <td>...</td>\n",
              "      <td>44</td>\n",
              "      <td>0</td>\n",
              "      <td>4</td>\n",
              "      <td>4</td>\n",
              "      <td>53</td>\n",
              "      <td>66</td>\n",
              "      <td>4</td>\n",
              "      <td>2</td>\n",
              "      <td>1</td>\n",
              "      <td>86</td>\n",
              "    </tr>\n",
              "    <tr>\n",
              "      <th>3</th>\n",
              "      <td>Bad</td>\n",
              "      <td>66</td>\n",
              "      <td>169</td>\n",
              "      <td>1</td>\n",
              "      <td>73</td>\n",
              "      <td>28</td>\n",
              "      <td>1</td>\n",
              "      <td>1</td>\n",
              "      <td>93</td>\n",
              "      <td>76</td>\n",
              "      <td>...</td>\n",
              "      <td>57</td>\n",
              "      <td>0</td>\n",
              "      <td>5</td>\n",
              "      <td>4</td>\n",
              "      <td>72</td>\n",
              "      <td>83</td>\n",
              "      <td>6</td>\n",
              "      <td>4</td>\n",
              "      <td>3</td>\n",
              "      <td>91</td>\n",
              "    </tr>\n",
              "    <tr>\n",
              "      <th>4</th>\n",
              "      <td>Bad</td>\n",
              "      <td>81</td>\n",
              "      <td>333</td>\n",
              "      <td>27</td>\n",
              "      <td>132</td>\n",
              "      <td>12</td>\n",
              "      <td>0</td>\n",
              "      <td>0</td>\n",
              "      <td>100</td>\n",
              "      <td>-7</td>\n",
              "      <td>...</td>\n",
              "      <td>25</td>\n",
              "      <td>0</td>\n",
              "      <td>1</td>\n",
              "      <td>1</td>\n",
              "      <td>51</td>\n",
              "      <td>89</td>\n",
              "      <td>3</td>\n",
              "      <td>1</td>\n",
              "      <td>0</td>\n",
              "      <td>80</td>\n",
              "    </tr>\n",
              "  </tbody>\n",
              "</table>\n",
              "<p>5 rows × 24 columns</p>\n",
              "</div>\n",
              "      <button class=\"colab-df-convert\" onclick=\"convertToInteractive('df-2b847faf-c8aa-4759-8939-b71eced1603c')\"\n",
              "              title=\"Convert this dataframe to an interactive table.\"\n",
              "              style=\"display:none;\">\n",
              "        \n",
              "  <svg xmlns=\"http://www.w3.org/2000/svg\" height=\"24px\"viewBox=\"0 0 24 24\"\n",
              "       width=\"24px\">\n",
              "    <path d=\"M0 0h24v24H0V0z\" fill=\"none\"/>\n",
              "    <path d=\"M18.56 5.44l.94 2.06.94-2.06 2.06-.94-2.06-.94-.94-2.06-.94 2.06-2.06.94zm-11 1L8.5 8.5l.94-2.06 2.06-.94-2.06-.94L8.5 2.5l-.94 2.06-2.06.94zm10 10l.94 2.06.94-2.06 2.06-.94-2.06-.94-.94-2.06-.94 2.06-2.06.94z\"/><path d=\"M17.41 7.96l-1.37-1.37c-.4-.4-.92-.59-1.43-.59-.52 0-1.04.2-1.43.59L10.3 9.45l-7.72 7.72c-.78.78-.78 2.05 0 2.83L4 21.41c.39.39.9.59 1.41.59.51 0 1.02-.2 1.41-.59l7.78-7.78 2.81-2.81c.8-.78.8-2.07 0-2.86zM5.41 20L4 18.59l7.72-7.72 1.47 1.35L5.41 20z\"/>\n",
              "  </svg>\n",
              "      </button>\n",
              "      \n",
              "  <style>\n",
              "    .colab-df-container {\n",
              "      display:flex;\n",
              "      flex-wrap:wrap;\n",
              "      gap: 12px;\n",
              "    }\n",
              "\n",
              "    .colab-df-convert {\n",
              "      background-color: #E8F0FE;\n",
              "      border: none;\n",
              "      border-radius: 50%;\n",
              "      cursor: pointer;\n",
              "      display: none;\n",
              "      fill: #1967D2;\n",
              "      height: 32px;\n",
              "      padding: 0 0 0 0;\n",
              "      width: 32px;\n",
              "    }\n",
              "\n",
              "    .colab-df-convert:hover {\n",
              "      background-color: #E2EBFA;\n",
              "      box-shadow: 0px 1px 2px rgba(60, 64, 67, 0.3), 0px 1px 3px 1px rgba(60, 64, 67, 0.15);\n",
              "      fill: #174EA6;\n",
              "    }\n",
              "\n",
              "    [theme=dark] .colab-df-convert {\n",
              "      background-color: #3B4455;\n",
              "      fill: #D2E3FC;\n",
              "    }\n",
              "\n",
              "    [theme=dark] .colab-df-convert:hover {\n",
              "      background-color: #434B5C;\n",
              "      box-shadow: 0px 1px 3px 1px rgba(0, 0, 0, 0.15);\n",
              "      filter: drop-shadow(0px 1px 2px rgba(0, 0, 0, 0.3));\n",
              "      fill: #FFFFFF;\n",
              "    }\n",
              "  </style>\n",
              "\n",
              "      <script>\n",
              "        const buttonEl =\n",
              "          document.querySelector('#df-2b847faf-c8aa-4759-8939-b71eced1603c button.colab-df-convert');\n",
              "        buttonEl.style.display =\n",
              "          google.colab.kernel.accessAllowed ? 'block' : 'none';\n",
              "\n",
              "        async function convertToInteractive(key) {\n",
              "          const element = document.querySelector('#df-2b847faf-c8aa-4759-8939-b71eced1603c');\n",
              "          const dataTable =\n",
              "            await google.colab.kernel.invokeFunction('convertToInteractive',\n",
              "                                                     [key], {});\n",
              "          if (!dataTable) return;\n",
              "\n",
              "          const docLinkHtml = 'Like what you see? Visit the ' +\n",
              "            '<a target=\"_blank\" href=https://colab.research.google.com/notebooks/data_table.ipynb>data table notebook</a>'\n",
              "            + ' to learn more about interactive tables.';\n",
              "          element.innerHTML = '';\n",
              "          dataTable['output_type'] = 'display_data';\n",
              "          await google.colab.output.renderOutput(dataTable, element);\n",
              "          const docLink = document.createElement('div');\n",
              "          docLink.innerHTML = docLinkHtml;\n",
              "          element.appendChild(docLink);\n",
              "        }\n",
              "      </script>\n",
              "    </div>\n",
              "  </div>\n",
              "  "
            ]
          },
          "metadata": {},
          "execution_count": 3
        }
      ],
      "source": [
        "df = pd.read_csv(\"heloc_dataset_v1.csv\")\n",
        "df.head(5)"
      ]
    },
    {
      "cell_type": "markdown",
      "metadata": {
        "id": "m4EjrExohq7m"
      },
      "source": [
        "**1. Preprocessing**"
      ]
    },
    {
      "cell_type": "code",
      "execution_count": null,
      "metadata": {
        "colab": {
          "base_uri": "https://localhost:8080/"
        },
        "id": "lF8tmA_zFSin",
        "outputId": "aa5a29f2-ae76-486e-9c00-86825134c5f7"
      },
      "outputs": [
        {
          "output_type": "stream",
          "name": "stdout",
          "text": [
            "(10459, 23) (10459,)\n"
          ]
        }
      ],
      "source": [
        "\n",
        "X = df.iloc[:,1:]\n",
        "Y = (df.iloc[:,0]=='Bad').astype(int)\n",
        "print(X.shape, Y.shape)"
      ]
    },
    {
      "cell_type": "code",
      "execution_count": null,
      "metadata": {
        "id": "H9RbeWl5Jf0w"
      },
      "outputs": [],
      "source": [
        "from sklearn.model_selection import train_test_split\n",
        "X_train, X_test, Y_train, Y_test = train_test_split(X, Y, test_size=0.2, random_state=1234)"
      ]
    },
    {
      "cell_type": "code",
      "execution_count": null,
      "metadata": {
        "colab": {
          "base_uri": "https://localhost:8080/",
          "height": 236
        },
        "id": "WXd3naIWJf7K",
        "outputId": "f5cfba95-b6b9-4f7c-d4b5-f2744a8790cc"
      },
      "outputs": [
        {
          "output_type": "execute_result",
          "data": {
            "text/plain": [
              "      ExternalRiskEstimate  MSinceOldestTradeOpen  MSinceMostRecentTradeOpen  \\\n",
              "7175                    80                    198                         19   \n",
              "8239                    81                    141                          3   \n",
              "4675                    69                    410                          1   \n",
              "\n",
              "      AverageMInFile  NumSatisfactoryTrades  NumTrades60Ever2DerogPubRec  \\\n",
              "7175              94                     16                            0   \n",
              "8239              59                     34                            1   \n",
              "4675             124                     49                            0   \n",
              "\n",
              "      NumTrades90Ever2DerogPubRec  PercentTradesNeverDelq  \\\n",
              "7175                            0                     100   \n",
              "8239                            0                      97   \n",
              "4675                            0                     100   \n",
              "\n",
              "      MSinceMostRecentDelq  MaxDelq2PublicRecLast12M  ...  \\\n",
              "7175                    -7                         7  ...   \n",
              "8239                    54                         6  ...   \n",
              "4675                    -7                         7  ...   \n",
              "\n",
              "      MSinceMostRecentInqexcl7days  NumInqLast6M  NumInqLast6Mexcl7days  \\\n",
              "7175                             0             0                      0   \n",
              "8239                             0             1                      1   \n",
              "4675                             1             1                      1   \n",
              "\n",
              "      NetFractionRevolvingBurden  NetFractionInstallBurden  \\\n",
              "7175                          25                        -8   \n",
              "8239                           4                        94   \n",
              "4675                          41                        15   \n",
              "\n",
              "      NumRevolvingTradesWBalance  NumInstallTradesWBalance  \\\n",
              "7175                           3                         1   \n",
              "8239                           2                         2   \n",
              "4675                          11                         2   \n",
              "\n",
              "      NumBank2NatlTradesWHighUtilization  PercentTradesWBalance  \\\n",
              "7175                                   2                     40   \n",
              "8239                                   0                     44   \n",
              "4675                                   1                     58   \n",
              "\n",
              "      RiskPerformance  \n",
              "7175                0  \n",
              "8239                0  \n",
              "4675                1  \n",
              "\n",
              "[3 rows x 24 columns]"
            ],
            "text/html": [
              "\n",
              "  <div id=\"df-13d9e571-c3c6-49f6-b05e-632be56ad85c\">\n",
              "    <div class=\"colab-df-container\">\n",
              "      <div>\n",
              "<style scoped>\n",
              "    .dataframe tbody tr th:only-of-type {\n",
              "        vertical-align: middle;\n",
              "    }\n",
              "\n",
              "    .dataframe tbody tr th {\n",
              "        vertical-align: top;\n",
              "    }\n",
              "\n",
              "    .dataframe thead th {\n",
              "        text-align: right;\n",
              "    }\n",
              "</style>\n",
              "<table border=\"1\" class=\"dataframe\">\n",
              "  <thead>\n",
              "    <tr style=\"text-align: right;\">\n",
              "      <th></th>\n",
              "      <th>ExternalRiskEstimate</th>\n",
              "      <th>MSinceOldestTradeOpen</th>\n",
              "      <th>MSinceMostRecentTradeOpen</th>\n",
              "      <th>AverageMInFile</th>\n",
              "      <th>NumSatisfactoryTrades</th>\n",
              "      <th>NumTrades60Ever2DerogPubRec</th>\n",
              "      <th>NumTrades90Ever2DerogPubRec</th>\n",
              "      <th>PercentTradesNeverDelq</th>\n",
              "      <th>MSinceMostRecentDelq</th>\n",
              "      <th>MaxDelq2PublicRecLast12M</th>\n",
              "      <th>...</th>\n",
              "      <th>MSinceMostRecentInqexcl7days</th>\n",
              "      <th>NumInqLast6M</th>\n",
              "      <th>NumInqLast6Mexcl7days</th>\n",
              "      <th>NetFractionRevolvingBurden</th>\n",
              "      <th>NetFractionInstallBurden</th>\n",
              "      <th>NumRevolvingTradesWBalance</th>\n",
              "      <th>NumInstallTradesWBalance</th>\n",
              "      <th>NumBank2NatlTradesWHighUtilization</th>\n",
              "      <th>PercentTradesWBalance</th>\n",
              "      <th>RiskPerformance</th>\n",
              "    </tr>\n",
              "  </thead>\n",
              "  <tbody>\n",
              "    <tr>\n",
              "      <th>7175</th>\n",
              "      <td>80</td>\n",
              "      <td>198</td>\n",
              "      <td>19</td>\n",
              "      <td>94</td>\n",
              "      <td>16</td>\n",
              "      <td>0</td>\n",
              "      <td>0</td>\n",
              "      <td>100</td>\n",
              "      <td>-7</td>\n",
              "      <td>7</td>\n",
              "      <td>...</td>\n",
              "      <td>0</td>\n",
              "      <td>0</td>\n",
              "      <td>0</td>\n",
              "      <td>25</td>\n",
              "      <td>-8</td>\n",
              "      <td>3</td>\n",
              "      <td>1</td>\n",
              "      <td>2</td>\n",
              "      <td>40</td>\n",
              "      <td>0</td>\n",
              "    </tr>\n",
              "    <tr>\n",
              "      <th>8239</th>\n",
              "      <td>81</td>\n",
              "      <td>141</td>\n",
              "      <td>3</td>\n",
              "      <td>59</td>\n",
              "      <td>34</td>\n",
              "      <td>1</td>\n",
              "      <td>0</td>\n",
              "      <td>97</td>\n",
              "      <td>54</td>\n",
              "      <td>6</td>\n",
              "      <td>...</td>\n",
              "      <td>0</td>\n",
              "      <td>1</td>\n",
              "      <td>1</td>\n",
              "      <td>4</td>\n",
              "      <td>94</td>\n",
              "      <td>2</td>\n",
              "      <td>2</td>\n",
              "      <td>0</td>\n",
              "      <td>44</td>\n",
              "      <td>0</td>\n",
              "    </tr>\n",
              "    <tr>\n",
              "      <th>4675</th>\n",
              "      <td>69</td>\n",
              "      <td>410</td>\n",
              "      <td>1</td>\n",
              "      <td>124</td>\n",
              "      <td>49</td>\n",
              "      <td>0</td>\n",
              "      <td>0</td>\n",
              "      <td>100</td>\n",
              "      <td>-7</td>\n",
              "      <td>7</td>\n",
              "      <td>...</td>\n",
              "      <td>1</td>\n",
              "      <td>1</td>\n",
              "      <td>1</td>\n",
              "      <td>41</td>\n",
              "      <td>15</td>\n",
              "      <td>11</td>\n",
              "      <td>2</td>\n",
              "      <td>1</td>\n",
              "      <td>58</td>\n",
              "      <td>1</td>\n",
              "    </tr>\n",
              "  </tbody>\n",
              "</table>\n",
              "<p>3 rows × 24 columns</p>\n",
              "</div>\n",
              "      <button class=\"colab-df-convert\" onclick=\"convertToInteractive('df-13d9e571-c3c6-49f6-b05e-632be56ad85c')\"\n",
              "              title=\"Convert this dataframe to an interactive table.\"\n",
              "              style=\"display:none;\">\n",
              "        \n",
              "  <svg xmlns=\"http://www.w3.org/2000/svg\" height=\"24px\"viewBox=\"0 0 24 24\"\n",
              "       width=\"24px\">\n",
              "    <path d=\"M0 0h24v24H0V0z\" fill=\"none\"/>\n",
              "    <path d=\"M18.56 5.44l.94 2.06.94-2.06 2.06-.94-2.06-.94-.94-2.06-.94 2.06-2.06.94zm-11 1L8.5 8.5l.94-2.06 2.06-.94-2.06-.94L8.5 2.5l-.94 2.06-2.06.94zm10 10l.94 2.06.94-2.06 2.06-.94-2.06-.94-.94-2.06-.94 2.06-2.06.94z\"/><path d=\"M17.41 7.96l-1.37-1.37c-.4-.4-.92-.59-1.43-.59-.52 0-1.04.2-1.43.59L10.3 9.45l-7.72 7.72c-.78.78-.78 2.05 0 2.83L4 21.41c.39.39.9.59 1.41.59.51 0 1.02-.2 1.41-.59l7.78-7.78 2.81-2.81c.8-.78.8-2.07 0-2.86zM5.41 20L4 18.59l7.72-7.72 1.47 1.35L5.41 20z\"/>\n",
              "  </svg>\n",
              "      </button>\n",
              "      \n",
              "  <style>\n",
              "    .colab-df-container {\n",
              "      display:flex;\n",
              "      flex-wrap:wrap;\n",
              "      gap: 12px;\n",
              "    }\n",
              "\n",
              "    .colab-df-convert {\n",
              "      background-color: #E8F0FE;\n",
              "      border: none;\n",
              "      border-radius: 50%;\n",
              "      cursor: pointer;\n",
              "      display: none;\n",
              "      fill: #1967D2;\n",
              "      height: 32px;\n",
              "      padding: 0 0 0 0;\n",
              "      width: 32px;\n",
              "    }\n",
              "\n",
              "    .colab-df-convert:hover {\n",
              "      background-color: #E2EBFA;\n",
              "      box-shadow: 0px 1px 2px rgba(60, 64, 67, 0.3), 0px 1px 3px 1px rgba(60, 64, 67, 0.15);\n",
              "      fill: #174EA6;\n",
              "    }\n",
              "\n",
              "    [theme=dark] .colab-df-convert {\n",
              "      background-color: #3B4455;\n",
              "      fill: #D2E3FC;\n",
              "    }\n",
              "\n",
              "    [theme=dark] .colab-df-convert:hover {\n",
              "      background-color: #434B5C;\n",
              "      box-shadow: 0px 1px 3px 1px rgba(0, 0, 0, 0.15);\n",
              "      filter: drop-shadow(0px 1px 2px rgba(0, 0, 0, 0.3));\n",
              "      fill: #FFFFFF;\n",
              "    }\n",
              "  </style>\n",
              "\n",
              "      <script>\n",
              "        const buttonEl =\n",
              "          document.querySelector('#df-13d9e571-c3c6-49f6-b05e-632be56ad85c button.colab-df-convert');\n",
              "        buttonEl.style.display =\n",
              "          google.colab.kernel.accessAllowed ? 'block' : 'none';\n",
              "\n",
              "        async function convertToInteractive(key) {\n",
              "          const element = document.querySelector('#df-13d9e571-c3c6-49f6-b05e-632be56ad85c');\n",
              "          const dataTable =\n",
              "            await google.colab.kernel.invokeFunction('convertToInteractive',\n",
              "                                                     [key], {});\n",
              "          if (!dataTable) return;\n",
              "\n",
              "          const docLinkHtml = 'Like what you see? Visit the ' +\n",
              "            '<a target=\"_blank\" href=https://colab.research.google.com/notebooks/data_table.ipynb>data table notebook</a>'\n",
              "            + ' to learn more about interactive tables.';\n",
              "          element.innerHTML = '';\n",
              "          dataTable['output_type'] = 'display_data';\n",
              "          await google.colab.output.renderOutput(dataTable, element);\n",
              "          const docLink = document.createElement('div');\n",
              "          docLink.innerHTML = docLinkHtml;\n",
              "          element.appendChild(docLink);\n",
              "        }\n",
              "      </script>\n",
              "    </div>\n",
              "  </div>\n",
              "  "
            ]
          },
          "metadata": {},
          "execution_count": 6
        }
      ],
      "source": [
        "df_train = pd.concat([X_train, Y_train], axis=1)\n",
        "df_train.head(3)"
      ]
    },
    {
      "cell_type": "code",
      "execution_count": null,
      "metadata": {
        "colab": {
          "base_uri": "https://localhost:8080/",
          "height": 770
        },
        "id": "ZlYQXbW1JgDz",
        "outputId": "2b5e201e-cd66-409d-ca5b-07e69f5db610"
      },
      "outputs": [
        {
          "output_type": "execute_result",
          "data": {
            "text/plain": [
              "                                      -7    -8   -9\n",
              "ExternalRiskEstimate                   0     0  460\n",
              "MSinceOldestTradeOpen                  0   201  451\n",
              "MSinceMostRecentTradeOpen              0     0  451\n",
              "AverageMInFile                         0     0  451\n",
              "NumSatisfactoryTrades                  0     0  451\n",
              "NumTrades60Ever2DerogPubRec            0     0  451\n",
              "NumTrades90Ever2DerogPubRec            0     0  451\n",
              "PercentTradesNeverDelq                 0     0  451\n",
              "MSinceMostRecentDelq                3746   137  451\n",
              "MaxDelq2PublicRecLast12M               0     0  451\n",
              "MaxDelqEver                            0     0  451\n",
              "NumTotalTrades                         0     0  451\n",
              "NumTradesOpeninLast12M                 0     0  451\n",
              "PercentInstallTrades                   0     0  451\n",
              "MSinceMostRecentInqexcl7days        1501   371  451\n",
              "NumInqLast6M                           0     0  451\n",
              "NumInqLast6Mexcl7days                  0     0  451\n",
              "NetFractionRevolvingBurden             0   140  451\n",
              "NetFractionInstallBurden               0  2733  451\n",
              "NumRevolvingTradesWBalance             0   122  451\n",
              "NumInstallTradesWBalance               0   682  451\n",
              "NumBank2NatlTradesWHighUtilization     0   443  451\n",
              "PercentTradesWBalance                  0    17  451"
            ],
            "text/html": [
              "\n",
              "  <div id=\"df-0ef6666e-a748-42ce-89be-766251160142\">\n",
              "    <div class=\"colab-df-container\">\n",
              "      <div>\n",
              "<style scoped>\n",
              "    .dataframe tbody tr th:only-of-type {\n",
              "        vertical-align: middle;\n",
              "    }\n",
              "\n",
              "    .dataframe tbody tr th {\n",
              "        vertical-align: top;\n",
              "    }\n",
              "\n",
              "    .dataframe thead th {\n",
              "        text-align: right;\n",
              "    }\n",
              "</style>\n",
              "<table border=\"1\" class=\"dataframe\">\n",
              "  <thead>\n",
              "    <tr style=\"text-align: right;\">\n",
              "      <th></th>\n",
              "      <th>-7</th>\n",
              "      <th>-8</th>\n",
              "      <th>-9</th>\n",
              "    </tr>\n",
              "  </thead>\n",
              "  <tbody>\n",
              "    <tr>\n",
              "      <th>ExternalRiskEstimate</th>\n",
              "      <td>0</td>\n",
              "      <td>0</td>\n",
              "      <td>460</td>\n",
              "    </tr>\n",
              "    <tr>\n",
              "      <th>MSinceOldestTradeOpen</th>\n",
              "      <td>0</td>\n",
              "      <td>201</td>\n",
              "      <td>451</td>\n",
              "    </tr>\n",
              "    <tr>\n",
              "      <th>MSinceMostRecentTradeOpen</th>\n",
              "      <td>0</td>\n",
              "      <td>0</td>\n",
              "      <td>451</td>\n",
              "    </tr>\n",
              "    <tr>\n",
              "      <th>AverageMInFile</th>\n",
              "      <td>0</td>\n",
              "      <td>0</td>\n",
              "      <td>451</td>\n",
              "    </tr>\n",
              "    <tr>\n",
              "      <th>NumSatisfactoryTrades</th>\n",
              "      <td>0</td>\n",
              "      <td>0</td>\n",
              "      <td>451</td>\n",
              "    </tr>\n",
              "    <tr>\n",
              "      <th>NumTrades60Ever2DerogPubRec</th>\n",
              "      <td>0</td>\n",
              "      <td>0</td>\n",
              "      <td>451</td>\n",
              "    </tr>\n",
              "    <tr>\n",
              "      <th>NumTrades90Ever2DerogPubRec</th>\n",
              "      <td>0</td>\n",
              "      <td>0</td>\n",
              "      <td>451</td>\n",
              "    </tr>\n",
              "    <tr>\n",
              "      <th>PercentTradesNeverDelq</th>\n",
              "      <td>0</td>\n",
              "      <td>0</td>\n",
              "      <td>451</td>\n",
              "    </tr>\n",
              "    <tr>\n",
              "      <th>MSinceMostRecentDelq</th>\n",
              "      <td>3746</td>\n",
              "      <td>137</td>\n",
              "      <td>451</td>\n",
              "    </tr>\n",
              "    <tr>\n",
              "      <th>MaxDelq2PublicRecLast12M</th>\n",
              "      <td>0</td>\n",
              "      <td>0</td>\n",
              "      <td>451</td>\n",
              "    </tr>\n",
              "    <tr>\n",
              "      <th>MaxDelqEver</th>\n",
              "      <td>0</td>\n",
              "      <td>0</td>\n",
              "      <td>451</td>\n",
              "    </tr>\n",
              "    <tr>\n",
              "      <th>NumTotalTrades</th>\n",
              "      <td>0</td>\n",
              "      <td>0</td>\n",
              "      <td>451</td>\n",
              "    </tr>\n",
              "    <tr>\n",
              "      <th>NumTradesOpeninLast12M</th>\n",
              "      <td>0</td>\n",
              "      <td>0</td>\n",
              "      <td>451</td>\n",
              "    </tr>\n",
              "    <tr>\n",
              "      <th>PercentInstallTrades</th>\n",
              "      <td>0</td>\n",
              "      <td>0</td>\n",
              "      <td>451</td>\n",
              "    </tr>\n",
              "    <tr>\n",
              "      <th>MSinceMostRecentInqexcl7days</th>\n",
              "      <td>1501</td>\n",
              "      <td>371</td>\n",
              "      <td>451</td>\n",
              "    </tr>\n",
              "    <tr>\n",
              "      <th>NumInqLast6M</th>\n",
              "      <td>0</td>\n",
              "      <td>0</td>\n",
              "      <td>451</td>\n",
              "    </tr>\n",
              "    <tr>\n",
              "      <th>NumInqLast6Mexcl7days</th>\n",
              "      <td>0</td>\n",
              "      <td>0</td>\n",
              "      <td>451</td>\n",
              "    </tr>\n",
              "    <tr>\n",
              "      <th>NetFractionRevolvingBurden</th>\n",
              "      <td>0</td>\n",
              "      <td>140</td>\n",
              "      <td>451</td>\n",
              "    </tr>\n",
              "    <tr>\n",
              "      <th>NetFractionInstallBurden</th>\n",
              "      <td>0</td>\n",
              "      <td>2733</td>\n",
              "      <td>451</td>\n",
              "    </tr>\n",
              "    <tr>\n",
              "      <th>NumRevolvingTradesWBalance</th>\n",
              "      <td>0</td>\n",
              "      <td>122</td>\n",
              "      <td>451</td>\n",
              "    </tr>\n",
              "    <tr>\n",
              "      <th>NumInstallTradesWBalance</th>\n",
              "      <td>0</td>\n",
              "      <td>682</td>\n",
              "      <td>451</td>\n",
              "    </tr>\n",
              "    <tr>\n",
              "      <th>NumBank2NatlTradesWHighUtilization</th>\n",
              "      <td>0</td>\n",
              "      <td>443</td>\n",
              "      <td>451</td>\n",
              "    </tr>\n",
              "    <tr>\n",
              "      <th>PercentTradesWBalance</th>\n",
              "      <td>0</td>\n",
              "      <td>17</td>\n",
              "      <td>451</td>\n",
              "    </tr>\n",
              "  </tbody>\n",
              "</table>\n",
              "</div>\n",
              "      <button class=\"colab-df-convert\" onclick=\"convertToInteractive('df-0ef6666e-a748-42ce-89be-766251160142')\"\n",
              "              title=\"Convert this dataframe to an interactive table.\"\n",
              "              style=\"display:none;\">\n",
              "        \n",
              "  <svg xmlns=\"http://www.w3.org/2000/svg\" height=\"24px\"viewBox=\"0 0 24 24\"\n",
              "       width=\"24px\">\n",
              "    <path d=\"M0 0h24v24H0V0z\" fill=\"none\"/>\n",
              "    <path d=\"M18.56 5.44l.94 2.06.94-2.06 2.06-.94-2.06-.94-.94-2.06-.94 2.06-2.06.94zm-11 1L8.5 8.5l.94-2.06 2.06-.94-2.06-.94L8.5 2.5l-.94 2.06-2.06.94zm10 10l.94 2.06.94-2.06 2.06-.94-2.06-.94-.94-2.06-.94 2.06-2.06.94z\"/><path d=\"M17.41 7.96l-1.37-1.37c-.4-.4-.92-.59-1.43-.59-.52 0-1.04.2-1.43.59L10.3 9.45l-7.72 7.72c-.78.78-.78 2.05 0 2.83L4 21.41c.39.39.9.59 1.41.59.51 0 1.02-.2 1.41-.59l7.78-7.78 2.81-2.81c.8-.78.8-2.07 0-2.86zM5.41 20L4 18.59l7.72-7.72 1.47 1.35L5.41 20z\"/>\n",
              "  </svg>\n",
              "      </button>\n",
              "      \n",
              "  <style>\n",
              "    .colab-df-container {\n",
              "      display:flex;\n",
              "      flex-wrap:wrap;\n",
              "      gap: 12px;\n",
              "    }\n",
              "\n",
              "    .colab-df-convert {\n",
              "      background-color: #E8F0FE;\n",
              "      border: none;\n",
              "      border-radius: 50%;\n",
              "      cursor: pointer;\n",
              "      display: none;\n",
              "      fill: #1967D2;\n",
              "      height: 32px;\n",
              "      padding: 0 0 0 0;\n",
              "      width: 32px;\n",
              "    }\n",
              "\n",
              "    .colab-df-convert:hover {\n",
              "      background-color: #E2EBFA;\n",
              "      box-shadow: 0px 1px 2px rgba(60, 64, 67, 0.3), 0px 1px 3px 1px rgba(60, 64, 67, 0.15);\n",
              "      fill: #174EA6;\n",
              "    }\n",
              "\n",
              "    [theme=dark] .colab-df-convert {\n",
              "      background-color: #3B4455;\n",
              "      fill: #D2E3FC;\n",
              "    }\n",
              "\n",
              "    [theme=dark] .colab-df-convert:hover {\n",
              "      background-color: #434B5C;\n",
              "      box-shadow: 0px 1px 3px 1px rgba(0, 0, 0, 0.15);\n",
              "      filter: drop-shadow(0px 1px 2px rgba(0, 0, 0, 0.3));\n",
              "      fill: #FFFFFF;\n",
              "    }\n",
              "  </style>\n",
              "\n",
              "      <script>\n",
              "        const buttonEl =\n",
              "          document.querySelector('#df-0ef6666e-a748-42ce-89be-766251160142 button.colab-df-convert');\n",
              "        buttonEl.style.display =\n",
              "          google.colab.kernel.accessAllowed ? 'block' : 'none';\n",
              "\n",
              "        async function convertToInteractive(key) {\n",
              "          const element = document.querySelector('#df-0ef6666e-a748-42ce-89be-766251160142');\n",
              "          const dataTable =\n",
              "            await google.colab.kernel.invokeFunction('convertToInteractive',\n",
              "                                                     [key], {});\n",
              "          if (!dataTable) return;\n",
              "\n",
              "          const docLinkHtml = 'Like what you see? Visit the ' +\n",
              "            '<a target=\"_blank\" href=https://colab.research.google.com/notebooks/data_table.ipynb>data table notebook</a>'\n",
              "            + ' to learn more about interactive tables.';\n",
              "          element.innerHTML = '';\n",
              "          dataTable['output_type'] = 'display_data';\n",
              "          await google.colab.output.renderOutput(dataTable, element);\n",
              "          const docLink = document.createElement('div');\n",
              "          docLink.innerHTML = docLinkHtml;\n",
              "          element.appendChild(docLink);\n",
              "        }\n",
              "      </script>\n",
              "    </div>\n",
              "  </div>\n",
              "  "
            ]
          },
          "metadata": {},
          "execution_count": 7
        }
      ],
      "source": [
        "# you implemented similar code in the previous assignment\n",
        "df_count_missing = pd.concat([(X_train==-7).sum(), (X_train==-8).sum(), (X_train==-9).sum()], axis=1)\n",
        "df_count_missing.columns = [-7,-8,-9]\n",
        "df_count_missing"
      ]
    },
    {
      "cell_type": "code",
      "execution_count": null,
      "metadata": {
        "colab": {
          "base_uri": "https://localhost:8080/",
          "height": 487
        },
        "id": "XxNQrsbrW3Qc",
        "outputId": "ee481978-bdc3-4441-d959-e18616c476f4"
      },
      "outputs": [
        {
          "output_type": "execute_result",
          "data": {
            "text/plain": [
              "      ExternalRiskEstimate  MSinceOldestTradeOpen  MSinceMostRecentTradeOpen  \\\n",
              "7175                    80                    198                         19   \n",
              "8239                    81                    141                          3   \n",
              "4675                    69                    410                          1   \n",
              "2600                    68                    264                          5   \n",
              "1061                    58                    254                          9   \n",
              "...                    ...                    ...                        ...   \n",
              "6833                    69                     99                          8   \n",
              "6137                    76                    393                          1   \n",
              "7540                    63                    176                          3   \n",
              "7221                    62                    161                          1   \n",
              "8915                    72                    198                         13   \n",
              "\n",
              "      AverageMInFile  NumSatisfactoryTrades  NumTrades60Ever2DerogPubRec  \\\n",
              "7175              94                     16                            0   \n",
              "8239              59                     34                            1   \n",
              "4675             124                     49                            0   \n",
              "2600              72                     54                            2   \n",
              "1061             142                     31                            2   \n",
              "...              ...                    ...                          ...   \n",
              "6833              40                     16                            0   \n",
              "6137             112                     40                            0   \n",
              "7540              69                     10                            9   \n",
              "7221              60                     16                            1   \n",
              "8915              91                     16                            0   \n",
              "\n",
              "      NumTrades90Ever2DerogPubRec  PercentTradesNeverDelq  \\\n",
              "7175                            0                     100   \n",
              "8239                            0                      97   \n",
              "4675                            0                     100   \n",
              "2600                            2                      96   \n",
              "1061                            2                      82   \n",
              "...                           ...                     ...   \n",
              "6833                            0                      94   \n",
              "6137                            0                     100   \n",
              "7540                            9                      77   \n",
              "7221                            0                      79   \n",
              "8915                            0                      94   \n",
              "\n",
              "      MSinceMostRecentDelq  MaxDelq2PublicRecLast12M  ...  \\\n",
              "7175                    -7                         7  ...   \n",
              "8239                    54                         6  ...   \n",
              "4675                    -7                         7  ...   \n",
              "2600                    30                         6  ...   \n",
              "1061                    25                         6  ...   \n",
              "...                    ...                       ...  ...   \n",
              "6833                     8                         4  ...   \n",
              "6137                    -7                         7  ...   \n",
              "7540                    12                         6  ...   \n",
              "7221                     4                         4  ...   \n",
              "8915                    53                         6  ...   \n",
              "\n",
              "      PercentInstallTrades  MSinceMostRecentInqexcl7days  NumInqLast6M  \\\n",
              "7175                    25                             0             0   \n",
              "8239                    51                             0             1   \n",
              "4675                    23                             1             1   \n",
              "2600                    46                            -7             1   \n",
              "1061                    67                             0             5   \n",
              "...                    ...                           ...           ...   \n",
              "6833                    19                             9             0   \n",
              "6137                    12                             2             1   \n",
              "7540                    46                             0             2   \n",
              "7221                    16                             0             1   \n",
              "8915                    39                             0             1   \n",
              "\n",
              "      NumInqLast6Mexcl7days  NetFractionRevolvingBurden  \\\n",
              "7175                      0                          25   \n",
              "8239                      1                           4   \n",
              "4675                      1                          41   \n",
              "2600                      1                          18   \n",
              "1061                      5                          61   \n",
              "...                     ...                         ...   \n",
              "6833                      0                          22   \n",
              "6137                      1                          20   \n",
              "7540                      1                          89   \n",
              "7221                      1                          20   \n",
              "8915                      1                          88   \n",
              "\n",
              "      NetFractionInstallBurden  NumRevolvingTradesWBalance  \\\n",
              "7175                        -8                           3   \n",
              "8239                        94                           2   \n",
              "4675                        15                          11   \n",
              "2600                        83                           4   \n",
              "1061                        33                           2   \n",
              "...                        ...                         ...   \n",
              "6833                        -8                           5   \n",
              "6137                        86                          10   \n",
              "7540                        -8                           3   \n",
              "7221                        25                           4   \n",
              "8915                        86                           5   \n",
              "\n",
              "      NumInstallTradesWBalance  NumBank2NatlTradesWHighUtilization  \\\n",
              "7175                         1                                   2   \n",
              "8239                         2                                   0   \n",
              "4675                         2                                   1   \n",
              "2600                         7                                   1   \n",
              "1061                         4                                   1   \n",
              "...                        ...                                 ...   \n",
              "6833                        -8                                   1   \n",
              "6137                         2                                   2   \n",
              "7540                         1                                   1   \n",
              "7221                         2                                   0   \n",
              "8915                         2                                   2   \n",
              "\n",
              "      PercentTradesWBalance  \n",
              "7175                     40  \n",
              "8239                     44  \n",
              "4675                     58  \n",
              "2600                     50  \n",
              "1061                     88  \n",
              "...                     ...  \n",
              "6833                    100  \n",
              "6137                     57  \n",
              "7540                    100  \n",
              "7221                     47  \n",
              "8915                    100  \n",
              "\n",
              "[7907 rows x 23 columns]"
            ],
            "text/html": [
              "\n",
              "  <div id=\"df-804e2e81-fad2-4a9e-bf6c-294d4169d5a6\">\n",
              "    <div class=\"colab-df-container\">\n",
              "      <div>\n",
              "<style scoped>\n",
              "    .dataframe tbody tr th:only-of-type {\n",
              "        vertical-align: middle;\n",
              "    }\n",
              "\n",
              "    .dataframe tbody tr th {\n",
              "        vertical-align: top;\n",
              "    }\n",
              "\n",
              "    .dataframe thead th {\n",
              "        text-align: right;\n",
              "    }\n",
              "</style>\n",
              "<table border=\"1\" class=\"dataframe\">\n",
              "  <thead>\n",
              "    <tr style=\"text-align: right;\">\n",
              "      <th></th>\n",
              "      <th>ExternalRiskEstimate</th>\n",
              "      <th>MSinceOldestTradeOpen</th>\n",
              "      <th>MSinceMostRecentTradeOpen</th>\n",
              "      <th>AverageMInFile</th>\n",
              "      <th>NumSatisfactoryTrades</th>\n",
              "      <th>NumTrades60Ever2DerogPubRec</th>\n",
              "      <th>NumTrades90Ever2DerogPubRec</th>\n",
              "      <th>PercentTradesNeverDelq</th>\n",
              "      <th>MSinceMostRecentDelq</th>\n",
              "      <th>MaxDelq2PublicRecLast12M</th>\n",
              "      <th>...</th>\n",
              "      <th>PercentInstallTrades</th>\n",
              "      <th>MSinceMostRecentInqexcl7days</th>\n",
              "      <th>NumInqLast6M</th>\n",
              "      <th>NumInqLast6Mexcl7days</th>\n",
              "      <th>NetFractionRevolvingBurden</th>\n",
              "      <th>NetFractionInstallBurden</th>\n",
              "      <th>NumRevolvingTradesWBalance</th>\n",
              "      <th>NumInstallTradesWBalance</th>\n",
              "      <th>NumBank2NatlTradesWHighUtilization</th>\n",
              "      <th>PercentTradesWBalance</th>\n",
              "    </tr>\n",
              "  </thead>\n",
              "  <tbody>\n",
              "    <tr>\n",
              "      <th>7175</th>\n",
              "      <td>80</td>\n",
              "      <td>198</td>\n",
              "      <td>19</td>\n",
              "      <td>94</td>\n",
              "      <td>16</td>\n",
              "      <td>0</td>\n",
              "      <td>0</td>\n",
              "      <td>100</td>\n",
              "      <td>-7</td>\n",
              "      <td>7</td>\n",
              "      <td>...</td>\n",
              "      <td>25</td>\n",
              "      <td>0</td>\n",
              "      <td>0</td>\n",
              "      <td>0</td>\n",
              "      <td>25</td>\n",
              "      <td>-8</td>\n",
              "      <td>3</td>\n",
              "      <td>1</td>\n",
              "      <td>2</td>\n",
              "      <td>40</td>\n",
              "    </tr>\n",
              "    <tr>\n",
              "      <th>8239</th>\n",
              "      <td>81</td>\n",
              "      <td>141</td>\n",
              "      <td>3</td>\n",
              "      <td>59</td>\n",
              "      <td>34</td>\n",
              "      <td>1</td>\n",
              "      <td>0</td>\n",
              "      <td>97</td>\n",
              "      <td>54</td>\n",
              "      <td>6</td>\n",
              "      <td>...</td>\n",
              "      <td>51</td>\n",
              "      <td>0</td>\n",
              "      <td>1</td>\n",
              "      <td>1</td>\n",
              "      <td>4</td>\n",
              "      <td>94</td>\n",
              "      <td>2</td>\n",
              "      <td>2</td>\n",
              "      <td>0</td>\n",
              "      <td>44</td>\n",
              "    </tr>\n",
              "    <tr>\n",
              "      <th>4675</th>\n",
              "      <td>69</td>\n",
              "      <td>410</td>\n",
              "      <td>1</td>\n",
              "      <td>124</td>\n",
              "      <td>49</td>\n",
              "      <td>0</td>\n",
              "      <td>0</td>\n",
              "      <td>100</td>\n",
              "      <td>-7</td>\n",
              "      <td>7</td>\n",
              "      <td>...</td>\n",
              "      <td>23</td>\n",
              "      <td>1</td>\n",
              "      <td>1</td>\n",
              "      <td>1</td>\n",
              "      <td>41</td>\n",
              "      <td>15</td>\n",
              "      <td>11</td>\n",
              "      <td>2</td>\n",
              "      <td>1</td>\n",
              "      <td>58</td>\n",
              "    </tr>\n",
              "    <tr>\n",
              "      <th>2600</th>\n",
              "      <td>68</td>\n",
              "      <td>264</td>\n",
              "      <td>5</td>\n",
              "      <td>72</td>\n",
              "      <td>54</td>\n",
              "      <td>2</td>\n",
              "      <td>2</td>\n",
              "      <td>96</td>\n",
              "      <td>30</td>\n",
              "      <td>6</td>\n",
              "      <td>...</td>\n",
              "      <td>46</td>\n",
              "      <td>-7</td>\n",
              "      <td>1</td>\n",
              "      <td>1</td>\n",
              "      <td>18</td>\n",
              "      <td>83</td>\n",
              "      <td>4</td>\n",
              "      <td>7</td>\n",
              "      <td>1</td>\n",
              "      <td>50</td>\n",
              "    </tr>\n",
              "    <tr>\n",
              "      <th>1061</th>\n",
              "      <td>58</td>\n",
              "      <td>254</td>\n",
              "      <td>9</td>\n",
              "      <td>142</td>\n",
              "      <td>31</td>\n",
              "      <td>2</td>\n",
              "      <td>2</td>\n",
              "      <td>82</td>\n",
              "      <td>25</td>\n",
              "      <td>6</td>\n",
              "      <td>...</td>\n",
              "      <td>67</td>\n",
              "      <td>0</td>\n",
              "      <td>5</td>\n",
              "      <td>5</td>\n",
              "      <td>61</td>\n",
              "      <td>33</td>\n",
              "      <td>2</td>\n",
              "      <td>4</td>\n",
              "      <td>1</td>\n",
              "      <td>88</td>\n",
              "    </tr>\n",
              "    <tr>\n",
              "      <th>...</th>\n",
              "      <td>...</td>\n",
              "      <td>...</td>\n",
              "      <td>...</td>\n",
              "      <td>...</td>\n",
              "      <td>...</td>\n",
              "      <td>...</td>\n",
              "      <td>...</td>\n",
              "      <td>...</td>\n",
              "      <td>...</td>\n",
              "      <td>...</td>\n",
              "      <td>...</td>\n",
              "      <td>...</td>\n",
              "      <td>...</td>\n",
              "      <td>...</td>\n",
              "      <td>...</td>\n",
              "      <td>...</td>\n",
              "      <td>...</td>\n",
              "      <td>...</td>\n",
              "      <td>...</td>\n",
              "      <td>...</td>\n",
              "      <td>...</td>\n",
              "    </tr>\n",
              "    <tr>\n",
              "      <th>6833</th>\n",
              "      <td>69</td>\n",
              "      <td>99</td>\n",
              "      <td>8</td>\n",
              "      <td>40</td>\n",
              "      <td>16</td>\n",
              "      <td>0</td>\n",
              "      <td>0</td>\n",
              "      <td>94</td>\n",
              "      <td>8</td>\n",
              "      <td>4</td>\n",
              "      <td>...</td>\n",
              "      <td>19</td>\n",
              "      <td>9</td>\n",
              "      <td>0</td>\n",
              "      <td>0</td>\n",
              "      <td>22</td>\n",
              "      <td>-8</td>\n",
              "      <td>5</td>\n",
              "      <td>-8</td>\n",
              "      <td>1</td>\n",
              "      <td>100</td>\n",
              "    </tr>\n",
              "    <tr>\n",
              "      <th>6137</th>\n",
              "      <td>76</td>\n",
              "      <td>393</td>\n",
              "      <td>1</td>\n",
              "      <td>112</td>\n",
              "      <td>40</td>\n",
              "      <td>0</td>\n",
              "      <td>0</td>\n",
              "      <td>100</td>\n",
              "      <td>-7</td>\n",
              "      <td>7</td>\n",
              "      <td>...</td>\n",
              "      <td>12</td>\n",
              "      <td>2</td>\n",
              "      <td>1</td>\n",
              "      <td>1</td>\n",
              "      <td>20</td>\n",
              "      <td>86</td>\n",
              "      <td>10</td>\n",
              "      <td>2</td>\n",
              "      <td>2</td>\n",
              "      <td>57</td>\n",
              "    </tr>\n",
              "    <tr>\n",
              "      <th>7540</th>\n",
              "      <td>63</td>\n",
              "      <td>176</td>\n",
              "      <td>3</td>\n",
              "      <td>69</td>\n",
              "      <td>10</td>\n",
              "      <td>9</td>\n",
              "      <td>9</td>\n",
              "      <td>77</td>\n",
              "      <td>12</td>\n",
              "      <td>6</td>\n",
              "      <td>...</td>\n",
              "      <td>46</td>\n",
              "      <td>0</td>\n",
              "      <td>2</td>\n",
              "      <td>1</td>\n",
              "      <td>89</td>\n",
              "      <td>-8</td>\n",
              "      <td>3</td>\n",
              "      <td>1</td>\n",
              "      <td>1</td>\n",
              "      <td>100</td>\n",
              "    </tr>\n",
              "    <tr>\n",
              "      <th>7221</th>\n",
              "      <td>62</td>\n",
              "      <td>161</td>\n",
              "      <td>1</td>\n",
              "      <td>60</td>\n",
              "      <td>16</td>\n",
              "      <td>1</td>\n",
              "      <td>0</td>\n",
              "      <td>79</td>\n",
              "      <td>4</td>\n",
              "      <td>4</td>\n",
              "      <td>...</td>\n",
              "      <td>16</td>\n",
              "      <td>0</td>\n",
              "      <td>1</td>\n",
              "      <td>1</td>\n",
              "      <td>20</td>\n",
              "      <td>25</td>\n",
              "      <td>4</td>\n",
              "      <td>2</td>\n",
              "      <td>0</td>\n",
              "      <td>47</td>\n",
              "    </tr>\n",
              "    <tr>\n",
              "      <th>8915</th>\n",
              "      <td>72</td>\n",
              "      <td>198</td>\n",
              "      <td>13</td>\n",
              "      <td>91</td>\n",
              "      <td>16</td>\n",
              "      <td>0</td>\n",
              "      <td>0</td>\n",
              "      <td>94</td>\n",
              "      <td>53</td>\n",
              "      <td>6</td>\n",
              "      <td>...</td>\n",
              "      <td>39</td>\n",
              "      <td>0</td>\n",
              "      <td>1</td>\n",
              "      <td>1</td>\n",
              "      <td>88</td>\n",
              "      <td>86</td>\n",
              "      <td>5</td>\n",
              "      <td>2</td>\n",
              "      <td>2</td>\n",
              "      <td>100</td>\n",
              "    </tr>\n",
              "  </tbody>\n",
              "</table>\n",
              "<p>7907 rows × 23 columns</p>\n",
              "</div>\n",
              "      <button class=\"colab-df-convert\" onclick=\"convertToInteractive('df-804e2e81-fad2-4a9e-bf6c-294d4169d5a6')\"\n",
              "              title=\"Convert this dataframe to an interactive table.\"\n",
              "              style=\"display:none;\">\n",
              "        \n",
              "  <svg xmlns=\"http://www.w3.org/2000/svg\" height=\"24px\"viewBox=\"0 0 24 24\"\n",
              "       width=\"24px\">\n",
              "    <path d=\"M0 0h24v24H0V0z\" fill=\"none\"/>\n",
              "    <path d=\"M18.56 5.44l.94 2.06.94-2.06 2.06-.94-2.06-.94-.94-2.06-.94 2.06-2.06.94zm-11 1L8.5 8.5l.94-2.06 2.06-.94-2.06-.94L8.5 2.5l-.94 2.06-2.06.94zm10 10l.94 2.06.94-2.06 2.06-.94-2.06-.94-.94-2.06-.94 2.06-2.06.94z\"/><path d=\"M17.41 7.96l-1.37-1.37c-.4-.4-.92-.59-1.43-.59-.52 0-1.04.2-1.43.59L10.3 9.45l-7.72 7.72c-.78.78-.78 2.05 0 2.83L4 21.41c.39.39.9.59 1.41.59.51 0 1.02-.2 1.41-.59l7.78-7.78 2.81-2.81c.8-.78.8-2.07 0-2.86zM5.41 20L4 18.59l7.72-7.72 1.47 1.35L5.41 20z\"/>\n",
              "  </svg>\n",
              "      </button>\n",
              "      \n",
              "  <style>\n",
              "    .colab-df-container {\n",
              "      display:flex;\n",
              "      flex-wrap:wrap;\n",
              "      gap: 12px;\n",
              "    }\n",
              "\n",
              "    .colab-df-convert {\n",
              "      background-color: #E8F0FE;\n",
              "      border: none;\n",
              "      border-radius: 50%;\n",
              "      cursor: pointer;\n",
              "      display: none;\n",
              "      fill: #1967D2;\n",
              "      height: 32px;\n",
              "      padding: 0 0 0 0;\n",
              "      width: 32px;\n",
              "    }\n",
              "\n",
              "    .colab-df-convert:hover {\n",
              "      background-color: #E2EBFA;\n",
              "      box-shadow: 0px 1px 2px rgba(60, 64, 67, 0.3), 0px 1px 3px 1px rgba(60, 64, 67, 0.15);\n",
              "      fill: #174EA6;\n",
              "    }\n",
              "\n",
              "    [theme=dark] .colab-df-convert {\n",
              "      background-color: #3B4455;\n",
              "      fill: #D2E3FC;\n",
              "    }\n",
              "\n",
              "    [theme=dark] .colab-df-convert:hover {\n",
              "      background-color: #434B5C;\n",
              "      box-shadow: 0px 1px 3px 1px rgba(0, 0, 0, 0.15);\n",
              "      filter: drop-shadow(0px 1px 2px rgba(0, 0, 0, 0.3));\n",
              "      fill: #FFFFFF;\n",
              "    }\n",
              "  </style>\n",
              "\n",
              "      <script>\n",
              "        const buttonEl =\n",
              "          document.querySelector('#df-804e2e81-fad2-4a9e-bf6c-294d4169d5a6 button.colab-df-convert');\n",
              "        buttonEl.style.display =\n",
              "          google.colab.kernel.accessAllowed ? 'block' : 'none';\n",
              "\n",
              "        async function convertToInteractive(key) {\n",
              "          const element = document.querySelector('#df-804e2e81-fad2-4a9e-bf6c-294d4169d5a6');\n",
              "          const dataTable =\n",
              "            await google.colab.kernel.invokeFunction('convertToInteractive',\n",
              "                                                     [key], {});\n",
              "          if (!dataTable) return;\n",
              "\n",
              "          const docLinkHtml = 'Like what you see? Visit the ' +\n",
              "            '<a target=\"_blank\" href=https://colab.research.google.com/notebooks/data_table.ipynb>data table notebook</a>'\n",
              "            + ' to learn more about interactive tables.';\n",
              "          element.innerHTML = '';\n",
              "          dataTable['output_type'] = 'display_data';\n",
              "          await google.colab.output.renderOutput(dataTable, element);\n",
              "          const docLink = document.createElement('div');\n",
              "          docLink.innerHTML = docLinkHtml;\n",
              "          element.appendChild(docLink);\n",
              "        }\n",
              "      </script>\n",
              "    </div>\n",
              "  </div>\n",
              "  "
            ]
          },
          "metadata": {},
          "execution_count": 8
        }
      ],
      "source": [
        "X_train = X_train[(X_train[\"ExternalRiskEstimate\"]!=-9) &\n",
        "                 (X_train[\"ExternalRiskEstimate\"]!=-8) &\n",
        "                 (X_train[\"ExternalRiskEstimate\"]!=-7)]\n",
        "X_test  = X_test[(X_test[\"ExternalRiskEstimate\"]!=-9) &\n",
        "                 (X_test[\"ExternalRiskEstimate\"]!=-8) &\n",
        "                 (X_test[\"ExternalRiskEstimate\"]!=-7)]\n",
        "Y_train = Y_train[X_train.index]\n",
        "Y_test  = Y_test[X_test.index]\n",
        "X_train"
      ]
    },
    {
      "cell_type": "code",
      "execution_count": null,
      "metadata": {
        "colab": {
          "base_uri": "https://localhost:8080/",
          "height": 770
        },
        "id": "LTyVjb-GJgH-",
        "outputId": "197248f6-9ca1-48a5-a719-d0e5627fa2c2"
      },
      "outputs": [
        {
          "output_type": "execute_result",
          "data": {
            "text/plain": [
              "                                      -7    -8  -9\n",
              "ExternalRiskEstimate                   0     0   0\n",
              "MSinceOldestTradeOpen                  0   201   0\n",
              "MSinceMostRecentTradeOpen              0     0   0\n",
              "AverageMInFile                         0     0   0\n",
              "NumSatisfactoryTrades                  0     0   0\n",
              "NumTrades60Ever2DerogPubRec            0     0   0\n",
              "NumTrades90Ever2DerogPubRec            0     0   0\n",
              "PercentTradesNeverDelq                 0     0   0\n",
              "MSinceMostRecentDelq                3740   137   0\n",
              "MaxDelq2PublicRecLast12M               0     0   0\n",
              "MaxDelqEver                            0     0   0\n",
              "NumTotalTrades                         0     0   0\n",
              "NumTradesOpeninLast12M                 0     0   0\n",
              "PercentInstallTrades                   0     0   0\n",
              "MSinceMostRecentInqexcl7days        1499   371   0\n",
              "NumInqLast6M                           0     0   0\n",
              "NumInqLast6Mexcl7days                  0     0   0\n",
              "NetFractionRevolvingBurden             0   133   0\n",
              "NetFractionInstallBurden               0  2726   0\n",
              "NumRevolvingTradesWBalance             0   115   0\n",
              "NumInstallTradesWBalance               0   675   0\n",
              "NumBank2NatlTradesWHighUtilization     0   436   0\n",
              "PercentTradesWBalance                  0    10   0"
            ],
            "text/html": [
              "\n",
              "  <div id=\"df-7a17ca52-df5b-4c3c-a9d4-af5b4518d3e8\">\n",
              "    <div class=\"colab-df-container\">\n",
              "      <div>\n",
              "<style scoped>\n",
              "    .dataframe tbody tr th:only-of-type {\n",
              "        vertical-align: middle;\n",
              "    }\n",
              "\n",
              "    .dataframe tbody tr th {\n",
              "        vertical-align: top;\n",
              "    }\n",
              "\n",
              "    .dataframe thead th {\n",
              "        text-align: right;\n",
              "    }\n",
              "</style>\n",
              "<table border=\"1\" class=\"dataframe\">\n",
              "  <thead>\n",
              "    <tr style=\"text-align: right;\">\n",
              "      <th></th>\n",
              "      <th>-7</th>\n",
              "      <th>-8</th>\n",
              "      <th>-9</th>\n",
              "    </tr>\n",
              "  </thead>\n",
              "  <tbody>\n",
              "    <tr>\n",
              "      <th>ExternalRiskEstimate</th>\n",
              "      <td>0</td>\n",
              "      <td>0</td>\n",
              "      <td>0</td>\n",
              "    </tr>\n",
              "    <tr>\n",
              "      <th>MSinceOldestTradeOpen</th>\n",
              "      <td>0</td>\n",
              "      <td>201</td>\n",
              "      <td>0</td>\n",
              "    </tr>\n",
              "    <tr>\n",
              "      <th>MSinceMostRecentTradeOpen</th>\n",
              "      <td>0</td>\n",
              "      <td>0</td>\n",
              "      <td>0</td>\n",
              "    </tr>\n",
              "    <tr>\n",
              "      <th>AverageMInFile</th>\n",
              "      <td>0</td>\n",
              "      <td>0</td>\n",
              "      <td>0</td>\n",
              "    </tr>\n",
              "    <tr>\n",
              "      <th>NumSatisfactoryTrades</th>\n",
              "      <td>0</td>\n",
              "      <td>0</td>\n",
              "      <td>0</td>\n",
              "    </tr>\n",
              "    <tr>\n",
              "      <th>NumTrades60Ever2DerogPubRec</th>\n",
              "      <td>0</td>\n",
              "      <td>0</td>\n",
              "      <td>0</td>\n",
              "    </tr>\n",
              "    <tr>\n",
              "      <th>NumTrades90Ever2DerogPubRec</th>\n",
              "      <td>0</td>\n",
              "      <td>0</td>\n",
              "      <td>0</td>\n",
              "    </tr>\n",
              "    <tr>\n",
              "      <th>PercentTradesNeverDelq</th>\n",
              "      <td>0</td>\n",
              "      <td>0</td>\n",
              "      <td>0</td>\n",
              "    </tr>\n",
              "    <tr>\n",
              "      <th>MSinceMostRecentDelq</th>\n",
              "      <td>3740</td>\n",
              "      <td>137</td>\n",
              "      <td>0</td>\n",
              "    </tr>\n",
              "    <tr>\n",
              "      <th>MaxDelq2PublicRecLast12M</th>\n",
              "      <td>0</td>\n",
              "      <td>0</td>\n",
              "      <td>0</td>\n",
              "    </tr>\n",
              "    <tr>\n",
              "      <th>MaxDelqEver</th>\n",
              "      <td>0</td>\n",
              "      <td>0</td>\n",
              "      <td>0</td>\n",
              "    </tr>\n",
              "    <tr>\n",
              "      <th>NumTotalTrades</th>\n",
              "      <td>0</td>\n",
              "      <td>0</td>\n",
              "      <td>0</td>\n",
              "    </tr>\n",
              "    <tr>\n",
              "      <th>NumTradesOpeninLast12M</th>\n",
              "      <td>0</td>\n",
              "      <td>0</td>\n",
              "      <td>0</td>\n",
              "    </tr>\n",
              "    <tr>\n",
              "      <th>PercentInstallTrades</th>\n",
              "      <td>0</td>\n",
              "      <td>0</td>\n",
              "      <td>0</td>\n",
              "    </tr>\n",
              "    <tr>\n",
              "      <th>MSinceMostRecentInqexcl7days</th>\n",
              "      <td>1499</td>\n",
              "      <td>371</td>\n",
              "      <td>0</td>\n",
              "    </tr>\n",
              "    <tr>\n",
              "      <th>NumInqLast6M</th>\n",
              "      <td>0</td>\n",
              "      <td>0</td>\n",
              "      <td>0</td>\n",
              "    </tr>\n",
              "    <tr>\n",
              "      <th>NumInqLast6Mexcl7days</th>\n",
              "      <td>0</td>\n",
              "      <td>0</td>\n",
              "      <td>0</td>\n",
              "    </tr>\n",
              "    <tr>\n",
              "      <th>NetFractionRevolvingBurden</th>\n",
              "      <td>0</td>\n",
              "      <td>133</td>\n",
              "      <td>0</td>\n",
              "    </tr>\n",
              "    <tr>\n",
              "      <th>NetFractionInstallBurden</th>\n",
              "      <td>0</td>\n",
              "      <td>2726</td>\n",
              "      <td>0</td>\n",
              "    </tr>\n",
              "    <tr>\n",
              "      <th>NumRevolvingTradesWBalance</th>\n",
              "      <td>0</td>\n",
              "      <td>115</td>\n",
              "      <td>0</td>\n",
              "    </tr>\n",
              "    <tr>\n",
              "      <th>NumInstallTradesWBalance</th>\n",
              "      <td>0</td>\n",
              "      <td>675</td>\n",
              "      <td>0</td>\n",
              "    </tr>\n",
              "    <tr>\n",
              "      <th>NumBank2NatlTradesWHighUtilization</th>\n",
              "      <td>0</td>\n",
              "      <td>436</td>\n",
              "      <td>0</td>\n",
              "    </tr>\n",
              "    <tr>\n",
              "      <th>PercentTradesWBalance</th>\n",
              "      <td>0</td>\n",
              "      <td>10</td>\n",
              "      <td>0</td>\n",
              "    </tr>\n",
              "  </tbody>\n",
              "</table>\n",
              "</div>\n",
              "      <button class=\"colab-df-convert\" onclick=\"convertToInteractive('df-7a17ca52-df5b-4c3c-a9d4-af5b4518d3e8')\"\n",
              "              title=\"Convert this dataframe to an interactive table.\"\n",
              "              style=\"display:none;\">\n",
              "        \n",
              "  <svg xmlns=\"http://www.w3.org/2000/svg\" height=\"24px\"viewBox=\"0 0 24 24\"\n",
              "       width=\"24px\">\n",
              "    <path d=\"M0 0h24v24H0V0z\" fill=\"none\"/>\n",
              "    <path d=\"M18.56 5.44l.94 2.06.94-2.06 2.06-.94-2.06-.94-.94-2.06-.94 2.06-2.06.94zm-11 1L8.5 8.5l.94-2.06 2.06-.94-2.06-.94L8.5 2.5l-.94 2.06-2.06.94zm10 10l.94 2.06.94-2.06 2.06-.94-2.06-.94-.94-2.06-.94 2.06-2.06.94z\"/><path d=\"M17.41 7.96l-1.37-1.37c-.4-.4-.92-.59-1.43-.59-.52 0-1.04.2-1.43.59L10.3 9.45l-7.72 7.72c-.78.78-.78 2.05 0 2.83L4 21.41c.39.39.9.59 1.41.59.51 0 1.02-.2 1.41-.59l7.78-7.78 2.81-2.81c.8-.78.8-2.07 0-2.86zM5.41 20L4 18.59l7.72-7.72 1.47 1.35L5.41 20z\"/>\n",
              "  </svg>\n",
              "      </button>\n",
              "      \n",
              "  <style>\n",
              "    .colab-df-container {\n",
              "      display:flex;\n",
              "      flex-wrap:wrap;\n",
              "      gap: 12px;\n",
              "    }\n",
              "\n",
              "    .colab-df-convert {\n",
              "      background-color: #E8F0FE;\n",
              "      border: none;\n",
              "      border-radius: 50%;\n",
              "      cursor: pointer;\n",
              "      display: none;\n",
              "      fill: #1967D2;\n",
              "      height: 32px;\n",
              "      padding: 0 0 0 0;\n",
              "      width: 32px;\n",
              "    }\n",
              "\n",
              "    .colab-df-convert:hover {\n",
              "      background-color: #E2EBFA;\n",
              "      box-shadow: 0px 1px 2px rgba(60, 64, 67, 0.3), 0px 1px 3px 1px rgba(60, 64, 67, 0.15);\n",
              "      fill: #174EA6;\n",
              "    }\n",
              "\n",
              "    [theme=dark] .colab-df-convert {\n",
              "      background-color: #3B4455;\n",
              "      fill: #D2E3FC;\n",
              "    }\n",
              "\n",
              "    [theme=dark] .colab-df-convert:hover {\n",
              "      background-color: #434B5C;\n",
              "      box-shadow: 0px 1px 3px 1px rgba(0, 0, 0, 0.15);\n",
              "      filter: drop-shadow(0px 1px 2px rgba(0, 0, 0, 0.3));\n",
              "      fill: #FFFFFF;\n",
              "    }\n",
              "  </style>\n",
              "\n",
              "      <script>\n",
              "        const buttonEl =\n",
              "          document.querySelector('#df-7a17ca52-df5b-4c3c-a9d4-af5b4518d3e8 button.colab-df-convert');\n",
              "        buttonEl.style.display =\n",
              "          google.colab.kernel.accessAllowed ? 'block' : 'none';\n",
              "\n",
              "        async function convertToInteractive(key) {\n",
              "          const element = document.querySelector('#df-7a17ca52-df5b-4c3c-a9d4-af5b4518d3e8');\n",
              "          const dataTable =\n",
              "            await google.colab.kernel.invokeFunction('convertToInteractive',\n",
              "                                                     [key], {});\n",
              "          if (!dataTable) return;\n",
              "\n",
              "          const docLinkHtml = 'Like what you see? Visit the ' +\n",
              "            '<a target=\"_blank\" href=https://colab.research.google.com/notebooks/data_table.ipynb>data table notebook</a>'\n",
              "            + ' to learn more about interactive tables.';\n",
              "          element.innerHTML = '';\n",
              "          dataTable['output_type'] = 'display_data';\n",
              "          await google.colab.output.renderOutput(dataTable, element);\n",
              "          const docLink = document.createElement('div');\n",
              "          docLink.innerHTML = docLinkHtml;\n",
              "          element.appendChild(docLink);\n",
              "        }\n",
              "      </script>\n",
              "    </div>\n",
              "  </div>\n",
              "  "
            ]
          },
          "metadata": {},
          "execution_count": 9
        }
      ],
      "source": [
        "# you implemented similar code in the previous assignment\n",
        "df_count_missing = pd.concat([(X_train==-7).sum(), (X_train==-8).sum(), (X_train==-9).sum()], axis=1)\n",
        "df_count_missing.columns = [-7,-8,-9]\n",
        "df_count_missing"
      ]
    },
    {
      "cell_type": "code",
      "execution_count": null,
      "metadata": {
        "id": "C1ehPpTRcdXx"
      },
      "outputs": [],
      "source": [
        "\n",
        "\n",
        "do_nothing_imputer = ColumnTransformer([(\"Imputer -7 to mean\", SimpleImputer(missing_values=-7, strategy='mean'), [])], remainder='passthrough')\n",
        "\n",
        "feature_expansion = FeatureUnion([(\"do nothing\", do_nothing_imputer),\n",
        "                                  (\"add features for -7\", MissingIndicator(missing_values=-7, features='missing-only')),\n",
        "                                  (\"add features for -8\", MissingIndicator(missing_values=-8, features='missing-only'))])\n",
        "\n",
        "\n"
      ]
    },
    {
      "cell_type": "code",
      "execution_count": null,
      "metadata": {
        "id": "WvpLW6lzQ4tX"
      },
      "outputs": [],
      "source": [
        "scaler_transformer = ColumnTransformer([(\"standard scaler\", StandardScaler(), slice(None, 23))], remainder='passthrough')\n",
        "\n",
        "pipeline = Pipeline([(\"expand features\", feature_expansion),\n",
        "                     (\"replace -7 with -8\", SimpleImputer(missing_values=-7, strategy='constant', fill_value=-8)),\n",
        "                     (\"replace -8 with mean\", SimpleImputer(missing_values=-8, strategy='mean')),\n",
        "                     (\"scale first 23 columns\", scaler_transformer)])\n",
        "\n",
        "arr_X_train_t = pipeline.fit_transform(X_train)"
      ]
    },
    {
      "cell_type": "code",
      "execution_count": null,
      "metadata": {
        "colab": {
          "base_uri": "https://localhost:8080/"
        },
        "id": "MlylBnLrRq_s",
        "outputId": "3b78de33-d6f4-4dcf-f64a-9bf44cf6a0c8"
      },
      "outputs": [
        {
          "output_type": "execute_result",
          "data": {
            "text/plain": [
              "(7907, 34)"
            ]
          },
          "metadata": {},
          "execution_count": 134
        }
      ],
      "source": [
        "arr_X_train_t.shape"
      ]
    },
    {
      "cell_type": "code",
      "execution_count": null,
      "metadata": {
        "colab": {
          "base_uri": "https://localhost:8080/"
        },
        "id": "9RYNLD5NJgUb",
        "outputId": "aee00e30-b6f4-4e07-a25c-7cb5950fb63a"
      },
      "outputs": [
        {
          "output_type": "execute_result",
          "data": {
            "text/plain": [
              "['ExternalRiskEstimate',\n",
              " 'MSinceOldestTradeOpen',\n",
              " 'MSinceMostRecentTradeOpen',\n",
              " 'AverageMInFile',\n",
              " 'NumSatisfactoryTrades',\n",
              " 'NumTrades60Ever2DerogPubRec',\n",
              " 'NumTrades90Ever2DerogPubRec',\n",
              " 'PercentTradesNeverDelq',\n",
              " 'MSinceMostRecentDelq',\n",
              " 'MaxDelq2PublicRecLast12M',\n",
              " 'MaxDelqEver',\n",
              " 'NumTotalTrades',\n",
              " 'NumTradesOpeninLast12M',\n",
              " 'PercentInstallTrades',\n",
              " 'MSinceMostRecentInqexcl7days',\n",
              " 'NumInqLast6M',\n",
              " 'NumInqLast6Mexcl7days',\n",
              " 'NetFractionRevolvingBurden',\n",
              " 'NetFractionInstallBurden',\n",
              " 'NumRevolvingTradesWBalance',\n",
              " 'NumInstallTradesWBalance',\n",
              " 'NumBank2NatlTradesWHighUtilization',\n",
              " 'PercentTradesWBalance',\n",
              " 'MSinceMostRecentDelq=-7',\n",
              " 'MSinceMostRecentInqexcl7days=-7',\n",
              " 'MSinceOldestTradeOpen=-8',\n",
              " 'MSinceMostRecentDelq=-8',\n",
              " 'MSinceMostRecentInqexcl7days=-8',\n",
              " 'NetFractionRevolvingBurden=-8',\n",
              " 'NetFractionInstallBurden=-8',\n",
              " 'NumRevolvingTradesWBalance=-8',\n",
              " 'NumInstallTradesWBalance=-8',\n",
              " 'NumBank2NatlTradesWHighUtilization=-8',\n",
              " 'PercentTradesWBalance=-8']"
            ]
          },
          "metadata": {},
          "execution_count": 12
        }
      ],
      "source": [
        "minus_7_indicator_transformer = MissingIndicator(missing_values=-7, features='missing-only').fit(X_train)\n",
        "minus_8_indicator_transformer = MissingIndicator(missing_values=-8, features='missing-only').fit(X_train)\n",
        "\n",
        "col_names_minus_7 = X_train.columns.values[minus_7_indicator_transformer.features_].tolist()\n",
        "col_names_minus_7 = list(map(lambda s:str(s)+'=-7',col_names_minus_7))\n",
        "col_names_minus_8 = X_train.columns.values[minus_8_indicator_transformer.features_].tolist()\n",
        "col_names_minus_8 = list(map(lambda s:str(s)+'=-8',col_names_minus_8))\n",
        "\n",
        "\n",
        "column_names = X_train.columns.values.tolist() + col_names_minus_7 + col_names_minus_8\n",
        "column_names"
      ]
    },
    {
      "cell_type": "code",
      "execution_count": null,
      "metadata": {
        "id": "J8_3nJ39eTIu"
      },
      "outputs": [],
      "source": [
        "#X_train_t = pd.DataFrame(arr_X_train_t, columns = column_names)\n",
        "# split\n",
        "#X_train_t_tr, X_train_t_val, Y_train_t_tr, Y_train_t_val = train_test_split(X_train_t, Y_train, test_size=0.25, random_state=1234)\n",
        "\n",
        "\n",
        "# do the same to X_test\n",
        "#arr_X_test = pipeline.fit_transform(X_test)\n",
        "#arr_X_test_selected = arr_X_test[:, top15_idx]\n",
        "#X_test_t = pd.DataFrame(arr_X_test, columns = column_names)"
      ]
    },
    {
      "cell_type": "code",
      "execution_count": null,
      "metadata": {
        "colab": {
          "base_uri": "https://localhost:8080/"
        },
        "id": "FBdEsTkdbLxd",
        "outputId": "89cf603e-06a0-42ef-bada-873f00e0761d"
      },
      "outputs": [
        {
          "output_type": "stream",
          "name": "stdout",
          "text": [
            "[-9.48709379e-02 -1.29292153e-03  3.87039479e-03 -5.20257075e-02\n",
            " -7.49862626e-02  9.25679570e-03 -4.01699955e-03 -8.61038767e-03\n",
            " -2.10559419e-02 -1.27880292e-02  1.02757747e-02 -7.85221530e-03\n",
            "  6.00257093e-03  3.14489822e-02 -4.51647134e-02  1.60200245e-01\n",
            " -1.39044853e-01  5.86941081e-02  5.05749940e-03  3.85299578e-02\n",
            "  9.68399532e-06  2.80412944e-02 -1.55133695e-02 -9.15210184e-02\n",
            "  7.93387482e-02 -3.50604567e-03  1.61496426e-02 -1.67606669e-01\n",
            "  9.51673915e-02  3.21959216e-03 -1.44825479e-01  2.67354182e-02\n",
            "  6.03134389e-02 -6.53089029e-02]\n"
          ]
        }
      ],
      "source": [
        "# train Ridge model\n",
        "from sklearn.linear_model import Ridge\n",
        "ridge = Ridge(alpha=1.0)\n",
        "ridge.fit(arr_X_train_t, Y_train)\n",
        "\n",
        "# print out coefficients\n",
        "coefficients = ridge.coef_\n",
        "print(coefficients)"
      ]
    },
    {
      "cell_type": "code",
      "execution_count": null,
      "metadata": {
        "id": "cNVg35xJfCSx"
      },
      "outputs": [],
      "source": [
        "# calculate absolute value of coefficients\n",
        "abs_coef = abs(coefficients)\n",
        "\n",
        "# get indices of top 10 features\n",
        "top15_idx = abs_coef.argsort()[::-1][:15]\n",
        "top15_idx\n",
        "# select top 15 features from X_train_t_tr\n",
        "arr_X_train_t_selected = arr_X_train_t[:, top15_idx]"
      ]
    },
    {
      "cell_type": "code",
      "execution_count": null,
      "metadata": {
        "colab": {
          "base_uri": "https://localhost:8080/"
        },
        "id": "7GUaX0xmggYZ",
        "outputId": "9b0d308a-5f4b-4c2d-81c8-c518a13375fc"
      },
      "outputs": [
        {
          "output_type": "stream",
          "name": "stdout",
          "text": [
            "['MSinceMostRecentInqexcl7days=-8', 'NumInqLast6M', 'NumRevolvingTradesWBalance=-8', 'NumInqLast6Mexcl7days', 'NetFractionRevolvingBurden=-8', 'ExternalRiskEstimate', 'MSinceMostRecentDelq=-7', 'MSinceMostRecentInqexcl7days=-7', 'NumSatisfactoryTrades', 'PercentTradesWBalance=-8', 'NumBank2NatlTradesWHighUtilization=-8', 'NetFractionRevolvingBurden', 'AverageMInFile', 'MSinceMostRecentInqexcl7days', 'NumRevolvingTradesWBalance']\n"
          ]
        }
      ],
      "source": [
        "# Convert numpy array to Python list\n",
        "top15_idx_list = top15_idx.tolist()\n",
        "\n",
        "# Slice the original list using the list of indices\n",
        "top15_columns = [column_names[i] for i in top15_idx_list]\n",
        "\n",
        "print(top15_columns)\n"
      ]
    },
    {
      "cell_type": "code",
      "source": [
        "top15_columns = ['Excluding the last 7 days, is there a recent inquiry (yes=0, no=1)',\n",
        "                 'Number of inquiries in the past 6 months',\n",
        "                 'Do you have revolving trades with a balance (yes = 0, no = 1)',\n",
        "                 'Number of inquiries in the past 6 months (excluding recent 7 days)',\n",
        "                 'Availability of revolving balances and credit limits to calculate Net Fraction Revolving Burden (yes=0, no=1)',\n",
        "                 'Consolidated version of risk markers',\n",
        "                 'Do you have a previous Delinquency (no=1, yes=0)',\n",
        "                 'Excluding the last 7 days, whether eligible for inquiries (yes=0, no=1)',\n",
        "                 'Number of satisfied trades',\n",
        "                 'Availability or validity of transactions to calculate the percentage of transactions with a balance (yes=0, no=1)',\n",
        "                 'Availability of banks or national trading companies with high utilization rates (yes=0, no=1)',\n",
        "                 'Net Fraction Revolving Burden',\n",
        "                 'Average Months in File',\n",
        "                 'Months since the most recent inqueries (excluding recent 7 days)',\n",
        "                 'Number of revolving trades with balance'\n",
        "]"
      ],
      "metadata": {
        "id": "ImgN6by9OmuZ"
      },
      "execution_count": null,
      "outputs": []
    },
    {
      "cell_type": "code",
      "source": [
        "X_train_t = pd.DataFrame(arr_X_train_t_selected, columns = top15_columns)"
      ],
      "metadata": {
        "id": "4t2jDcn9PC41"
      },
      "execution_count": null,
      "outputs": []
    },
    {
      "cell_type": "code",
      "execution_count": null,
      "metadata": {
        "id": "rKGU3YiOjvJB",
        "colab": {
          "base_uri": "https://localhost:8080/",
          "height": 834
        },
        "outputId": "8f086735-a029-4fee-af8d-c295a180b6bc"
      },
      "outputs": [
        {
          "output_type": "execute_result",
          "data": {
            "text/plain": [
              "      Excluding the last 7 days, is there a recent inquiry (yes=0, no=1)  \\\n",
              "0                                                   0.0                    \n",
              "1                                                   0.0                    \n",
              "2                                                   0.0                    \n",
              "3                                                   0.0                    \n",
              "4                                                   0.0                    \n",
              "...                                                 ...                    \n",
              "7902                                                0.0                    \n",
              "7903                                                0.0                    \n",
              "7904                                                0.0                    \n",
              "7905                                                0.0                    \n",
              "7906                                                0.0                    \n",
              "\n",
              "      Number of inquiries in the past 6 months  \\\n",
              "0                                    -0.674743   \n",
              "1                                    -0.210126   \n",
              "2                                    -0.210126   \n",
              "3                                    -0.210126   \n",
              "4                                     1.648341   \n",
              "...                                        ...   \n",
              "7902                                 -0.674743   \n",
              "7903                                 -0.210126   \n",
              "7904                                  0.254490   \n",
              "7905                                 -0.210126   \n",
              "7906                                 -0.210126   \n",
              "\n",
              "      Do you have revolving trades with a balance (yes = 0, no = 1)  \\\n",
              "0                                                   0.0               \n",
              "1                                                   0.0               \n",
              "2                                                   0.0               \n",
              "3                                                   0.0               \n",
              "4                                                   0.0               \n",
              "...                                                 ...               \n",
              "7902                                                0.0               \n",
              "7903                                                0.0               \n",
              "7904                                                0.0               \n",
              "7905                                                0.0               \n",
              "7906                                                0.0               \n",
              "\n",
              "      Number of inquiries in the past 6 months (excluding recent 7 days)  \\\n",
              "0                                             -0.659694                    \n",
              "1                                             -0.186826                    \n",
              "2                                             -0.186826                    \n",
              "3                                             -0.186826                    \n",
              "4                                              1.704642                    \n",
              "...                                                 ...                    \n",
              "7902                                          -0.659694                    \n",
              "7903                                          -0.186826                    \n",
              "7904                                          -0.186826                    \n",
              "7905                                          -0.186826                    \n",
              "7906                                          -0.186826                    \n",
              "\n",
              "      Availability of revolving balances and credit limits to calculate Net Fraction Revolving Burden (yes=0, no=1)  \\\n",
              "0                                                   0.0                                                               \n",
              "1                                                   0.0                                                               \n",
              "2                                                   0.0                                                               \n",
              "3                                                   0.0                                                               \n",
              "4                                                   0.0                                                               \n",
              "...                                                 ...                                                               \n",
              "7902                                                0.0                                                               \n",
              "7903                                                0.0                                                               \n",
              "7904                                                0.0                                                               \n",
              "7905                                                0.0                                                               \n",
              "7906                                                0.0                                                               \n",
              "\n",
              "      Consolidated version of risk markers  \\\n",
              "0                                 0.802086   \n",
              "1                                 0.903011   \n",
              "2                                -0.308083   \n",
              "3                                -0.409008   \n",
              "4                                -1.418253   \n",
              "...                                    ...   \n",
              "7902                             -0.308083   \n",
              "7903                              0.398388   \n",
              "7904                             -0.913630   \n",
              "7905                             -1.014555   \n",
              "7906                             -0.005310   \n",
              "\n",
              "      Do you have a previous Delinquency (no=1, yes=0)  \\\n",
              "0                                                  1.0   \n",
              "1                                                  0.0   \n",
              "2                                                  1.0   \n",
              "3                                                  0.0   \n",
              "4                                                  0.0   \n",
              "...                                                ...   \n",
              "7902                                               0.0   \n",
              "7903                                               1.0   \n",
              "7904                                               0.0   \n",
              "7905                                               0.0   \n",
              "7906                                               0.0   \n",
              "\n",
              "      Excluding the last 7 days, whether eligible for inquiries (yes=0, no=1)  \\\n",
              "0                                                   0.0                         \n",
              "1                                                   0.0                         \n",
              "2                                                   0.0                         \n",
              "3                                                   1.0                         \n",
              "4                                                   0.0                         \n",
              "...                                                 ...                         \n",
              "7902                                                0.0                         \n",
              "7903                                                0.0                         \n",
              "7904                                                0.0                         \n",
              "7905                                                0.0                         \n",
              "7906                                                0.0                         \n",
              "\n",
              "      Number of satisfied trades  \\\n",
              "0                      -0.464439   \n",
              "1                       1.136321   \n",
              "2                       2.470287   \n",
              "3                       2.914943   \n",
              "4                       0.869527   \n",
              "...                          ...   \n",
              "7902                   -0.464439   \n",
              "7903                    1.669907   \n",
              "7904                   -0.998026   \n",
              "7905                   -0.464439   \n",
              "7906                   -0.464439   \n",
              "\n",
              "      Availability or validity of transactions to calculate the percentage of transactions with a balance (yes=0, no=1)  \\\n",
              "0                                                   0.0                                                                   \n",
              "1                                                   0.0                                                                   \n",
              "2                                                   0.0                                                                   \n",
              "3                                                   0.0                                                                   \n",
              "4                                                   0.0                                                                   \n",
              "...                                                 ...                                                                   \n",
              "7902                                                0.0                                                                   \n",
              "7903                                                0.0                                                                   \n",
              "7904                                                0.0                                                                   \n",
              "7905                                                0.0                                                                   \n",
              "7906                                                0.0                                                                   \n",
              "\n",
              "      Availability of banks or national trading companies with high utilization rates (yes=0, no=1)  \\\n",
              "0                                                   0.0                                               \n",
              "1                                                   0.0                                               \n",
              "2                                                   0.0                                               \n",
              "3                                                   0.0                                               \n",
              "4                                                   0.0                                               \n",
              "...                                                 ...                                               \n",
              "7902                                                0.0                                               \n",
              "7903                                                0.0                                               \n",
              "7904                                                0.0                                               \n",
              "7905                                                0.0                                               \n",
              "7906                                                0.0                                               \n",
              "\n",
              "      Net Fraction Revolving Burden  Average Months in File  \\\n",
              "0                         -0.346356                0.452129   \n",
              "1                         -1.080826               -0.584004   \n",
              "2                          0.213241                1.340244   \n",
              "3                         -0.591179               -0.199155   \n",
              "4                          0.912736                1.873113   \n",
              "...                             ...                     ...   \n",
              "7902                      -0.451280               -1.146477   \n",
              "7903                      -0.521229                0.984998   \n",
              "7904                       1.892030               -0.287966   \n",
              "7905                      -0.521229               -0.554400   \n",
              "7906                       1.857055                0.363318   \n",
              "\n",
              "      Months since the most recent inqueries (excluding recent 7 days)  \\\n",
              "0                                         -5.969137e-01                  \n",
              "1                                         -5.969137e-01                  \n",
              "2                                         -3.571234e-01                  \n",
              "3                                          1.064883e-16                  \n",
              "4                                         -5.969137e-01                  \n",
              "...                                                 ...                  \n",
              "7902                                       1.561199e+00                  \n",
              "7903                                      -1.173332e-01                  \n",
              "7904                                      -5.969137e-01                  \n",
              "7905                                      -5.969137e-01                  \n",
              "7906                                      -5.969137e-01                  \n",
              "\n",
              "      Number of revolving trades with balance  \n",
              "0                                   -0.371804  \n",
              "1                                   -0.704841  \n",
              "2                                    2.292497  \n",
              "3                                   -0.038766  \n",
              "4                                   -0.704841  \n",
              "...                                       ...  \n",
              "7902                                 0.294272  \n",
              "7903                                 1.959460  \n",
              "7904                                -0.371804  \n",
              "7905                                -0.038766  \n",
              "7906                                 0.294272  \n",
              "\n",
              "[7907 rows x 15 columns]"
            ],
            "text/html": [
              "\n",
              "  <div id=\"df-533cd0d0-16d3-45b4-9099-b7ffeed7d644\">\n",
              "    <div class=\"colab-df-container\">\n",
              "      <div>\n",
              "<style scoped>\n",
              "    .dataframe tbody tr th:only-of-type {\n",
              "        vertical-align: middle;\n",
              "    }\n",
              "\n",
              "    .dataframe tbody tr th {\n",
              "        vertical-align: top;\n",
              "    }\n",
              "\n",
              "    .dataframe thead th {\n",
              "        text-align: right;\n",
              "    }\n",
              "</style>\n",
              "<table border=\"1\" class=\"dataframe\">\n",
              "  <thead>\n",
              "    <tr style=\"text-align: right;\">\n",
              "      <th></th>\n",
              "      <th>Excluding the last 7 days, is there a recent inquiry (yes=0, no=1)</th>\n",
              "      <th>Number of inquiries in the past 6 months</th>\n",
              "      <th>Do you have revolving trades with a balance (yes = 0, no = 1)</th>\n",
              "      <th>Number of inquiries in the past 6 months (excluding recent 7 days)</th>\n",
              "      <th>Availability of revolving balances and credit limits to calculate Net Fraction Revolving Burden (yes=0, no=1)</th>\n",
              "      <th>Consolidated version of risk markers</th>\n",
              "      <th>Do you have a previous Delinquency (no=1, yes=0)</th>\n",
              "      <th>Excluding the last 7 days, whether eligible for inquiries (yes=0, no=1)</th>\n",
              "      <th>Number of satisfied trades</th>\n",
              "      <th>Availability or validity of transactions to calculate the percentage of transactions with a balance (yes=0, no=1)</th>\n",
              "      <th>Availability of banks or national trading companies with high utilization rates (yes=0, no=1)</th>\n",
              "      <th>Net Fraction Revolving Burden</th>\n",
              "      <th>Average Months in File</th>\n",
              "      <th>Months since the most recent inqueries (excluding recent 7 days)</th>\n",
              "      <th>Number of revolving trades with balance</th>\n",
              "    </tr>\n",
              "  </thead>\n",
              "  <tbody>\n",
              "    <tr>\n",
              "      <th>0</th>\n",
              "      <td>0.0</td>\n",
              "      <td>-0.674743</td>\n",
              "      <td>0.0</td>\n",
              "      <td>-0.659694</td>\n",
              "      <td>0.0</td>\n",
              "      <td>0.802086</td>\n",
              "      <td>1.0</td>\n",
              "      <td>0.0</td>\n",
              "      <td>-0.464439</td>\n",
              "      <td>0.0</td>\n",
              "      <td>0.0</td>\n",
              "      <td>-0.346356</td>\n",
              "      <td>0.452129</td>\n",
              "      <td>-5.969137e-01</td>\n",
              "      <td>-0.371804</td>\n",
              "    </tr>\n",
              "    <tr>\n",
              "      <th>1</th>\n",
              "      <td>0.0</td>\n",
              "      <td>-0.210126</td>\n",
              "      <td>0.0</td>\n",
              "      <td>-0.186826</td>\n",
              "      <td>0.0</td>\n",
              "      <td>0.903011</td>\n",
              "      <td>0.0</td>\n",
              "      <td>0.0</td>\n",
              "      <td>1.136321</td>\n",
              "      <td>0.0</td>\n",
              "      <td>0.0</td>\n",
              "      <td>-1.080826</td>\n",
              "      <td>-0.584004</td>\n",
              "      <td>-5.969137e-01</td>\n",
              "      <td>-0.704841</td>\n",
              "    </tr>\n",
              "    <tr>\n",
              "      <th>2</th>\n",
              "      <td>0.0</td>\n",
              "      <td>-0.210126</td>\n",
              "      <td>0.0</td>\n",
              "      <td>-0.186826</td>\n",
              "      <td>0.0</td>\n",
              "      <td>-0.308083</td>\n",
              "      <td>1.0</td>\n",
              "      <td>0.0</td>\n",
              "      <td>2.470287</td>\n",
              "      <td>0.0</td>\n",
              "      <td>0.0</td>\n",
              "      <td>0.213241</td>\n",
              "      <td>1.340244</td>\n",
              "      <td>-3.571234e-01</td>\n",
              "      <td>2.292497</td>\n",
              "    </tr>\n",
              "    <tr>\n",
              "      <th>3</th>\n",
              "      <td>0.0</td>\n",
              "      <td>-0.210126</td>\n",
              "      <td>0.0</td>\n",
              "      <td>-0.186826</td>\n",
              "      <td>0.0</td>\n",
              "      <td>-0.409008</td>\n",
              "      <td>0.0</td>\n",
              "      <td>1.0</td>\n",
              "      <td>2.914943</td>\n",
              "      <td>0.0</td>\n",
              "      <td>0.0</td>\n",
              "      <td>-0.591179</td>\n",
              "      <td>-0.199155</td>\n",
              "      <td>1.064883e-16</td>\n",
              "      <td>-0.038766</td>\n",
              "    </tr>\n",
              "    <tr>\n",
              "      <th>4</th>\n",
              "      <td>0.0</td>\n",
              "      <td>1.648341</td>\n",
              "      <td>0.0</td>\n",
              "      <td>1.704642</td>\n",
              "      <td>0.0</td>\n",
              "      <td>-1.418253</td>\n",
              "      <td>0.0</td>\n",
              "      <td>0.0</td>\n",
              "      <td>0.869527</td>\n",
              "      <td>0.0</td>\n",
              "      <td>0.0</td>\n",
              "      <td>0.912736</td>\n",
              "      <td>1.873113</td>\n",
              "      <td>-5.969137e-01</td>\n",
              "      <td>-0.704841</td>\n",
              "    </tr>\n",
              "    <tr>\n",
              "      <th>...</th>\n",
              "      <td>...</td>\n",
              "      <td>...</td>\n",
              "      <td>...</td>\n",
              "      <td>...</td>\n",
              "      <td>...</td>\n",
              "      <td>...</td>\n",
              "      <td>...</td>\n",
              "      <td>...</td>\n",
              "      <td>...</td>\n",
              "      <td>...</td>\n",
              "      <td>...</td>\n",
              "      <td>...</td>\n",
              "      <td>...</td>\n",
              "      <td>...</td>\n",
              "      <td>...</td>\n",
              "    </tr>\n",
              "    <tr>\n",
              "      <th>7902</th>\n",
              "      <td>0.0</td>\n",
              "      <td>-0.674743</td>\n",
              "      <td>0.0</td>\n",
              "      <td>-0.659694</td>\n",
              "      <td>0.0</td>\n",
              "      <td>-0.308083</td>\n",
              "      <td>0.0</td>\n",
              "      <td>0.0</td>\n",
              "      <td>-0.464439</td>\n",
              "      <td>0.0</td>\n",
              "      <td>0.0</td>\n",
              "      <td>-0.451280</td>\n",
              "      <td>-1.146477</td>\n",
              "      <td>1.561199e+00</td>\n",
              "      <td>0.294272</td>\n",
              "    </tr>\n",
              "    <tr>\n",
              "      <th>7903</th>\n",
              "      <td>0.0</td>\n",
              "      <td>-0.210126</td>\n",
              "      <td>0.0</td>\n",
              "      <td>-0.186826</td>\n",
              "      <td>0.0</td>\n",
              "      <td>0.398388</td>\n",
              "      <td>1.0</td>\n",
              "      <td>0.0</td>\n",
              "      <td>1.669907</td>\n",
              "      <td>0.0</td>\n",
              "      <td>0.0</td>\n",
              "      <td>-0.521229</td>\n",
              "      <td>0.984998</td>\n",
              "      <td>-1.173332e-01</td>\n",
              "      <td>1.959460</td>\n",
              "    </tr>\n",
              "    <tr>\n",
              "      <th>7904</th>\n",
              "      <td>0.0</td>\n",
              "      <td>0.254490</td>\n",
              "      <td>0.0</td>\n",
              "      <td>-0.186826</td>\n",
              "      <td>0.0</td>\n",
              "      <td>-0.913630</td>\n",
              "      <td>0.0</td>\n",
              "      <td>0.0</td>\n",
              "      <td>-0.998026</td>\n",
              "      <td>0.0</td>\n",
              "      <td>0.0</td>\n",
              "      <td>1.892030</td>\n",
              "      <td>-0.287966</td>\n",
              "      <td>-5.969137e-01</td>\n",
              "      <td>-0.371804</td>\n",
              "    </tr>\n",
              "    <tr>\n",
              "      <th>7905</th>\n",
              "      <td>0.0</td>\n",
              "      <td>-0.210126</td>\n",
              "      <td>0.0</td>\n",
              "      <td>-0.186826</td>\n",
              "      <td>0.0</td>\n",
              "      <td>-1.014555</td>\n",
              "      <td>0.0</td>\n",
              "      <td>0.0</td>\n",
              "      <td>-0.464439</td>\n",
              "      <td>0.0</td>\n",
              "      <td>0.0</td>\n",
              "      <td>-0.521229</td>\n",
              "      <td>-0.554400</td>\n",
              "      <td>-5.969137e-01</td>\n",
              "      <td>-0.038766</td>\n",
              "    </tr>\n",
              "    <tr>\n",
              "      <th>7906</th>\n",
              "      <td>0.0</td>\n",
              "      <td>-0.210126</td>\n",
              "      <td>0.0</td>\n",
              "      <td>-0.186826</td>\n",
              "      <td>0.0</td>\n",
              "      <td>-0.005310</td>\n",
              "      <td>0.0</td>\n",
              "      <td>0.0</td>\n",
              "      <td>-0.464439</td>\n",
              "      <td>0.0</td>\n",
              "      <td>0.0</td>\n",
              "      <td>1.857055</td>\n",
              "      <td>0.363318</td>\n",
              "      <td>-5.969137e-01</td>\n",
              "      <td>0.294272</td>\n",
              "    </tr>\n",
              "  </tbody>\n",
              "</table>\n",
              "<p>7907 rows × 15 columns</p>\n",
              "</div>\n",
              "      <button class=\"colab-df-convert\" onclick=\"convertToInteractive('df-533cd0d0-16d3-45b4-9099-b7ffeed7d644')\"\n",
              "              title=\"Convert this dataframe to an interactive table.\"\n",
              "              style=\"display:none;\">\n",
              "        \n",
              "  <svg xmlns=\"http://www.w3.org/2000/svg\" height=\"24px\"viewBox=\"0 0 24 24\"\n",
              "       width=\"24px\">\n",
              "    <path d=\"M0 0h24v24H0V0z\" fill=\"none\"/>\n",
              "    <path d=\"M18.56 5.44l.94 2.06.94-2.06 2.06-.94-2.06-.94-.94-2.06-.94 2.06-2.06.94zm-11 1L8.5 8.5l.94-2.06 2.06-.94-2.06-.94L8.5 2.5l-.94 2.06-2.06.94zm10 10l.94 2.06.94-2.06 2.06-.94-2.06-.94-.94-2.06-.94 2.06-2.06.94z\"/><path d=\"M17.41 7.96l-1.37-1.37c-.4-.4-.92-.59-1.43-.59-.52 0-1.04.2-1.43.59L10.3 9.45l-7.72 7.72c-.78.78-.78 2.05 0 2.83L4 21.41c.39.39.9.59 1.41.59.51 0 1.02-.2 1.41-.59l7.78-7.78 2.81-2.81c.8-.78.8-2.07 0-2.86zM5.41 20L4 18.59l7.72-7.72 1.47 1.35L5.41 20z\"/>\n",
              "  </svg>\n",
              "      </button>\n",
              "      \n",
              "  <style>\n",
              "    .colab-df-container {\n",
              "      display:flex;\n",
              "      flex-wrap:wrap;\n",
              "      gap: 12px;\n",
              "    }\n",
              "\n",
              "    .colab-df-convert {\n",
              "      background-color: #E8F0FE;\n",
              "      border: none;\n",
              "      border-radius: 50%;\n",
              "      cursor: pointer;\n",
              "      display: none;\n",
              "      fill: #1967D2;\n",
              "      height: 32px;\n",
              "      padding: 0 0 0 0;\n",
              "      width: 32px;\n",
              "    }\n",
              "\n",
              "    .colab-df-convert:hover {\n",
              "      background-color: #E2EBFA;\n",
              "      box-shadow: 0px 1px 2px rgba(60, 64, 67, 0.3), 0px 1px 3px 1px rgba(60, 64, 67, 0.15);\n",
              "      fill: #174EA6;\n",
              "    }\n",
              "\n",
              "    [theme=dark] .colab-df-convert {\n",
              "      background-color: #3B4455;\n",
              "      fill: #D2E3FC;\n",
              "    }\n",
              "\n",
              "    [theme=dark] .colab-df-convert:hover {\n",
              "      background-color: #434B5C;\n",
              "      box-shadow: 0px 1px 3px 1px rgba(0, 0, 0, 0.15);\n",
              "      filter: drop-shadow(0px 1px 2px rgba(0, 0, 0, 0.3));\n",
              "      fill: #FFFFFF;\n",
              "    }\n",
              "  </style>\n",
              "\n",
              "      <script>\n",
              "        const buttonEl =\n",
              "          document.querySelector('#df-533cd0d0-16d3-45b4-9099-b7ffeed7d644 button.colab-df-convert');\n",
              "        buttonEl.style.display =\n",
              "          google.colab.kernel.accessAllowed ? 'block' : 'none';\n",
              "\n",
              "        async function convertToInteractive(key) {\n",
              "          const element = document.querySelector('#df-533cd0d0-16d3-45b4-9099-b7ffeed7d644');\n",
              "          const dataTable =\n",
              "            await google.colab.kernel.invokeFunction('convertToInteractive',\n",
              "                                                     [key], {});\n",
              "          if (!dataTable) return;\n",
              "\n",
              "          const docLinkHtml = 'Like what you see? Visit the ' +\n",
              "            '<a target=\"_blank\" href=https://colab.research.google.com/notebooks/data_table.ipynb>data table notebook</a>'\n",
              "            + ' to learn more about interactive tables.';\n",
              "          element.innerHTML = '';\n",
              "          dataTable['output_type'] = 'display_data';\n",
              "          await google.colab.output.renderOutput(dataTable, element);\n",
              "          const docLink = document.createElement('div');\n",
              "          docLink.innerHTML = docLinkHtml;\n",
              "          element.appendChild(docLink);\n",
              "        }\n",
              "      </script>\n",
              "    </div>\n",
              "  </div>\n",
              "  "
            ]
          },
          "metadata": {},
          "execution_count": 18
        }
      ],
      "source": [
        "X_train_t = pd.DataFrame(arr_X_train_t_selected, columns = top15_columns)\n",
        "X_train_t"
      ]
    },
    {
      "cell_type": "code",
      "execution_count": null,
      "metadata": {
        "id": "KLmiZbQ9kHEa"
      },
      "outputs": [],
      "source": [
        "X_train_t.to_csv('X_train_t.csv', index=False)"
      ]
    },
    {
      "cell_type": "code",
      "execution_count": null,
      "metadata": {
        "id": "r3gvCw0IlwaD"
      },
      "outputs": [],
      "source": [
        "# split\n",
        "X_train_t_tr, X_train_t_val, Y_train_t_tr, Y_train_t_val = train_test_split(X_train_t, Y_train, test_size=0.25, random_state=1234)"
      ]
    },
    {
      "cell_type": "code",
      "execution_count": null,
      "metadata": {
        "id": "QssrXiRRmQS9"
      },
      "outputs": [],
      "source": [
        "# Do the same to X_test data\n",
        "arr_X_test = pipeline.transform(X_test)\n",
        "arr_X_test_selected = arr_X_test[:, top15_idx]\n",
        "X_test_t = pd.DataFrame(arr_X_test_selected, columns = top15_columns)"
      ]
    },
    {
      "cell_type": "code",
      "execution_count": null,
      "metadata": {
        "colab": {
          "base_uri": "https://localhost:8080/"
        },
        "id": "ryStW4zBa1AM",
        "outputId": "7e2449e4-3c4a-41d5-a2a7-ab053df5257a"
      },
      "outputs": [
        {
          "output_type": "stream",
          "name": "stdout",
          "text": [
            "The proportion of train:validation:test data is 0.6:0.2:0.2\n"
          ]
        }
      ],
      "source": [
        "print('The proportion of train:validation:test data is %.1f:%.1f:%.1f'%(len(Y_train_t_tr)/len(Y), len(Y_train_t_val)/len(Y), len(Y_test)/len(Y)))"
      ]
    },
    {
      "cell_type": "code",
      "execution_count": null,
      "metadata": {
        "id": "ALrPNLB0KrYr"
      },
      "outputs": [],
      "source": []
    },
    {
      "cell_type": "markdown",
      "metadata": {
        "id": "Z9-FUVPsc7Sf"
      },
      "source": [
        "**2. Logistic Model**"
      ]
    },
    {
      "cell_type": "code",
      "execution_count": null,
      "metadata": {
        "id": "KdSrYTyX3eql"
      },
      "outputs": [],
      "source": [
        "from sklearn.linear_model import LogisticRegression\n",
        "from sklearn.naive_bayes import BernoulliNB\n",
        "from sklearn.discriminant_analysis import LinearDiscriminantAnalysis\n",
        "from sklearn.linear_model import SGDClassifier\n",
        "\n",
        "from sklearn import tree, linear_model, neighbors, svm\n",
        "\n",
        "log_reg = LogisticRegression(max_iter=10000, random_state=0).fit(X_train_t_tr, Y_train_t_tr) # Logistic regression\n",
        "svc     = svm.SVC(kernel='linear',C=1).fit(X_train_t_tr, Y_train_t_tr)       # Linear SVM\n",
        "lda     = LinearDiscriminantAnalysis().fit(X_train_t_tr, Y_train_t_tr)                       # LDA"
      ]
    },
    {
      "cell_type": "code",
      "execution_count": null,
      "metadata": {
        "colab": {
          "base_uri": "https://localhost:8080/"
        },
        "id": "PKd6zVVh3gZC",
        "outputId": "900817f7-40aa-44d3-9104-743a4d97fbee"
      },
      "outputs": [
        {
          "output_type": "stream",
          "name": "stdout",
          "text": [
            "Train accuracy\n",
            "Log. Reg. accuracy: 0.739\n",
            "Linear SVC accuracy: 0.740\n",
            "LDA accuracy: 0.740\n",
            "\n",
            "Validation accuracy\n",
            "Log. Reg. accuracy: 0.747\n",
            "Linear SVC accuracy: 0.738\n",
            "LDA accuracy: 0.740\n"
          ]
        }
      ],
      "source": [
        "print('Train accuracy')\n",
        "print('Log. Reg. accuracy: %.3f'%log_reg.score(X_train_t_tr, Y_train_t_tr))\n",
        "print('Linear SVC accuracy: %.3f'%svc.score(X_train_t_tr, Y_train_t_tr))\n",
        "print('LDA accuracy: %.3f'%lda.score(X_train_t_tr, Y_train_t_tr))\n",
        "\n",
        "print('\\nValidation accuracy')\n",
        "print('Log. Reg. accuracy: %.3f'%log_reg.score(X_train_t_val, Y_train_t_val))\n",
        "print('Linear SVC accuracy: %.3f'%svc.score(X_train_t_val, Y_train_t_val))\n",
        "print('LDA accuracy: %.3f'%lda.score(X_train_t_val, Y_train_t_val))"
      ]
    },
    {
      "cell_type": "code",
      "execution_count": null,
      "metadata": {
        "colab": {
          "base_uri": "https://localhost:8080/"
        },
        "id": "Ee16bE-vDvYF",
        "outputId": "af83660f-37ff-4a11-9070-9fddc3497b38"
      },
      "outputs": [
        {
          "output_type": "execute_result",
          "data": {
            "text/plain": [
              "array([-1.09480004,  0.86716163, -0.49886186, -0.7559918 ,  0.44355436,\n",
              "       -0.64876763, -0.40751303,  0.43602384, -0.3717591 , -0.2388531 ,\n",
              "        0.54488352,  0.32148276, -0.28023256, -0.23349655,  0.12962909,\n",
              "        0.2185445 ])"
            ]
          },
          "metadata": {},
          "execution_count": 148
        }
      ],
      "source": [
        "log_reg_coefficients = np.concatenate([log_reg.coef_[0], log_reg.intercept_])\n",
        "svc_coefficients = np.concatenate([svc.coef_[0], svc.intercept_])\n",
        "lda_coefficients = np.concatenate([lda.coef_[0], lda.intercept_])\n",
        "\n",
        "log_reg_coefficients"
      ]
    },
    {
      "cell_type": "code",
      "execution_count": null,
      "metadata": {
        "colab": {
          "base_uri": "https://localhost:8080/"
        },
        "id": "Z_T1J3PfKNb_",
        "outputId": "2bc53f7d-88f8-4e2a-fd9e-c51983175672"
      },
      "outputs": [
        {
          "output_type": "stream",
          "name": "stdout",
          "text": [
            "\n",
            "Validation accuracy\n",
            "Log. Reg. accuracy: 0.717\n",
            "Linear SVC accuracy: 0.716\n",
            "LDA accuracy: 0.714\n"
          ]
        }
      ],
      "source": [
        "print('\\nValidation accuracy')\n",
        "print('Log. Reg. accuracy: %.3f'%log_reg.score(X_test_t, Y_test))\n",
        "print('Linear SVC accuracy: %.3f'%svc.score(X_test_t, Y_test))\n",
        "print('LDA accuracy: %.3f'%lda.score(X_test_t, Y_test))"
      ]
    },
    {
      "cell_type": "code",
      "execution_count": null,
      "metadata": {
        "colab": {
          "base_uri": "https://localhost:8080/"
        },
        "id": "KVM9ZxlqIdKr",
        "outputId": "6c4df0fd-02e4-41f8-9974-e3eb15b496fd"
      },
      "outputs": [
        {
          "output_type": "execute_result",
          "data": {
            "text/plain": [
              "0.7470915528578654"
            ]
          },
          "metadata": {},
          "execution_count": 150
        }
      ],
      "source": [
        "# compute predicted probabilities for validation set\n",
        "val_probs = 1 / (1 + np.exp(-(np.dot(X_train_t_val, log_reg_coefficients[:-1]) + log_reg_coefficients[-1])))\n",
        "\n",
        "# convert probabilities to binary labels by thresholding at 0.5\n",
        "val_preds = np.where(val_probs >= 0.5, 1, 0)\n",
        "\n",
        "# compute validation set accuracy\n",
        "log_reg_val_accuracy = np.mean(val_preds == Y_train_t_val)\n",
        "log_reg_val_accuracy"
      ]
    },
    {
      "cell_type": "code",
      "execution_count": null,
      "metadata": {
        "colab": {
          "base_uri": "https://localhost:8080/"
        },
        "id": "LaIMIH17DPxD",
        "outputId": "1dad1e8c-62fc-47a9-c793-9bc57cd1a273"
      },
      "outputs": [
        {
          "output_type": "execute_result",
          "data": {
            "text/plain": [
              "0.7379868487607486"
            ]
          },
          "metadata": {},
          "execution_count": 151
        }
      ],
      "source": [
        "# compute predicted probabilities for validation set\n",
        "val_probs = 1 / (1 + np.exp(-(np.dot(X_train_t_val, svc_coefficients[:-1]) + svc_coefficients[-1])))\n",
        "\n",
        "# convert probabilities to binary labels by thresholding at 0.5\n",
        "val_preds = np.where(val_probs >= 0.5, 1, 0)\n",
        "\n",
        "# compute validation set accuracy\n",
        "svc_val_accuracy = np.mean(val_preds == Y_train_t_val)\n",
        "svc_val_accuracy\n"
      ]
    },
    {
      "cell_type": "code",
      "execution_count": null,
      "metadata": {
        "colab": {
          "base_uri": "https://localhost:8080/"
        },
        "id": "Y6FgFnH8IdSO",
        "outputId": "a640295e-84ec-4842-f626-4cbb42d20c41"
      },
      "outputs": [
        {
          "output_type": "execute_result",
          "data": {
            "text/plain": [
              "0.7400101163378857"
            ]
          },
          "metadata": {},
          "execution_count": 152
        }
      ],
      "source": [
        "# compute predicted probabilities for validation set\n",
        "val_probs = 1 / (1 + np.exp(-(np.dot(X_train_t_val, lda_coefficients[:-1]) + lda_coefficients[-1])))\n",
        "\n",
        "# convert probabilities to binary labels by thresholding at 0.5\n",
        "val_preds = np.where(val_probs >= 0.5, 1, 0)\n",
        "\n",
        "# compute validation set accuracy\n",
        "lda_val_accuracy = np.mean(val_preds == Y_train_t_val)\n",
        "lda_val_accuracy"
      ]
    },
    {
      "cell_type": "code",
      "execution_count": null,
      "metadata": {
        "id": "AFEt2EgWH_Rl"
      },
      "outputs": [],
      "source": [
        "# alternative way to calculate accuracy\n",
        "Y_train_t_val_pred= (np.dot(X_train_t_val.iloc[:,:],log_reg_coefficients[:-1]) + log_reg_coefficients[-1] >0).astype(int)\n",
        "log_reg_val_accuracy = np.mean(Y_train_t_val_pred == Y_train_t_val)"
      ]
    },
    {
      "cell_type": "code",
      "execution_count": null,
      "metadata": {
        "id": "d1GGztoXIHai"
      },
      "outputs": [],
      "source": [
        "Y_train_t_val_pred= (np.dot(X_train_t_val.iloc[:,:],log_reg_coefficients[:-1]) + log_reg_coefficients[-1] >0).astype(int)\n",
        "log_reg_val_accuracy = np.mean(Y_train_t_val_pred == Y_train_t_val)"
      ]
    },
    {
      "cell_type": "code",
      "execution_count": null,
      "metadata": {
        "colab": {
          "base_uri": "https://localhost:8080/"
        },
        "id": "6hjUaGZxSaUX",
        "outputId": "9ab4ba82-d693-414d-923f-5f4d236f344b"
      },
      "outputs": [
        {
          "output_type": "execute_result",
          "data": {
            "text/plain": [
              "7175    0\n",
              "8239    0\n",
              "4675    1\n",
              "2600    1\n",
              "1061    1\n",
              "       ..\n",
              "6833    0\n",
              "6137    0\n",
              "7540    1\n",
              "7221    0\n",
              "8915    1\n",
              "Name: RiskPerformance, Length: 7907, dtype: int64"
            ]
          },
          "metadata": {},
          "execution_count": 155
        }
      ],
      "source": [
        "Y_train"
      ]
    },
    {
      "cell_type": "code",
      "execution_count": null,
      "metadata": {
        "id": "w_vlxhgkRlc2"
      },
      "outputs": [],
      "source": [
        "# cross validation to find the optimum C\n",
        "#svc_linear = svm.SVC(kernel='linear',C=i).fit(X_train_t_tr, Y_train_t_tr)\n",
        "#svc_linear\n",
        "from sklearn.model_selection import cross_val_score\n",
        "# DO NOT RECOMMEND RUNNING!!! 5+ MIN\n",
        "#X, Y, results =X_train_t, Y_train, []\n",
        "#for i in np.linspace(0.01,2,20):\n",
        "#  clf = svm.SVC(kernel='linear',C=i)\n",
        " #   scores = cross_val_score(clf, X, Y, cv=3)\n",
        "  #  results.append([i,scores.mean(), scores.std()])\n",
        "#df_accuracy = pd.DataFrame(data=results,columns=['C','mean','std']).round(2)\n",
        "#df_accuracy.plot.bar(x='C',y='mean',yerr='std', title='CV Accuracy vs. C', figsize=(10,2));"
      ]
    },
    {
      "cell_type": "markdown",
      "metadata": {
        "id": "impcuoOTdHFK"
      },
      "source": [
        "**3. SVM**"
      ]
    },
    {
      "cell_type": "code",
      "execution_count": null,
      "metadata": {
        "colab": {
          "base_uri": "https://localhost:8080/"
        },
        "id": "Y6LbaKkAQG8o",
        "outputId": "6f8df12b-1206-42be-d033-25df13076b4b"
      },
      "outputs": [
        {
          "output_type": "stream",
          "name": "stdout",
          "text": [
            "SVM (polynomial kernel) accuracy: 0.7048903878583473\n"
          ]
        }
      ],
      "source": [
        "from sklearn.metrics import accuracy_score\n",
        "clf_svm_poly = svm.SVC(kernel='poly', degree=2).fit(X_train_t_tr, Y_train_t_tr)\n",
        "print('SVM (polynomial kernel) accuracy:', accuracy_score(Y_train_t_tr, clf_svm_poly.predict(X_train_t_tr)))"
      ]
    },
    {
      "cell_type": "code",
      "execution_count": null,
      "metadata": {
        "colab": {
          "background_save": true
        },
        "id": "h2MdD85VQIKP",
        "outputId": "594dd288-ac8a-46e3-f97e-42fea8589ad5"
      },
      "outputs": [
        {
          "name": "stdout",
          "output_type": "stream",
          "text": [
            "SVM (poly kernel) accuracy: 0.6780962128966224\n"
          ]
        }
      ],
      "source": [
        "# tuning C. DO NOT RECOMMEND RUNNING!!! 5 MIN\n",
        "from sklearn.model_selection import GridSearchCV\n",
        "\n",
        "# define the parameter grid\n",
        "param_grid = {'C': np.logspace(0.01, 2, 10)}\n",
        "\n",
        "# create the grid search object\n",
        "grid_search = GridSearchCV(svm.SVC(kernel='poly'), param_grid, cv=5)\n",
        "\n",
        "# fit the grid search to the data\n",
        "grid_search.fit(X_train_t_tr, Y_train_t_tr)\n",
        "\n",
        "# get the best estimator\n",
        "best_estimator = grid_search.best_estimator_\n",
        "\n",
        "# calculate the accuracy on the test set using the best estimator\n",
        "accuracy = accuracy_score(Y_test, best_estimator.predict(X_test_t))\n",
        "\n",
        "print('SVM (poly kernel) accuracy:', accuracy)"
      ]
    },
    {
      "cell_type": "code",
      "execution_count": null,
      "metadata": {
        "colab": {
          "base_uri": "https://localhost:8080/"
        },
        "id": "1txS1QTSQOUe",
        "outputId": "6b42af30-1974-4d86-ac4e-c71c65465acc"
      },
      "outputs": [
        {
          "output_type": "stream",
          "name": "stdout",
          "text": [
            "SVM (RBF kernel) accuracy: 0.7539629005059022\n"
          ]
        }
      ],
      "source": [
        "clf_svm_rbf = svm.SVC(kernel='rbf').fit(X_train_t_tr, Y_train_t_tr)\n",
        "print('SVM (RBF kernel) accuracy:', accuracy_score(Y_train_t_tr, clf_svm_rbf.predict(X_train_t_tr)))"
      ]
    },
    {
      "cell_type": "code",
      "source": [
        "print('SVM (RBF kernel) accuracy:', accuracy_score(Y_train_t_val, clf_svm_rbf.predict(X_train_t_val)))"
      ],
      "metadata": {
        "colab": {
          "base_uri": "https://localhost:8080/"
        },
        "id": "v5HbffSAp4Xl",
        "outputId": "e8da6e4c-9ec4-4892-8799-107d4d3a9998"
      },
      "execution_count": null,
      "outputs": [
        {
          "output_type": "stream",
          "name": "stdout",
          "text": [
            "SVM (RBF kernel) accuracy: 0.750126454223571\n"
          ]
        }
      ]
    },
    {
      "cell_type": "code",
      "execution_count": null,
      "metadata": {
        "colab": {
          "base_uri": "https://localhost:8080/"
        },
        "id": "jemNlAy3cbkg",
        "outputId": "8773770f-a813-4a1a-9747-ef3797c79f02"
      },
      "outputs": [
        {
          "output_type": "stream",
          "name": "stdout",
          "text": [
            "SVM (RBF kernel) accuracy: 0.7241555783009211\n"
          ]
        }
      ],
      "source": [
        "print('SVM (RBF kernel) accuracy:', accuracy_score(Y_test, clf_svm_rbf.predict(X_test_t)))"
      ]
    },
    {
      "cell_type": "code",
      "execution_count": null,
      "metadata": {
        "colab": {
          "background_save": true
        },
        "id": "McAAn27bbRnk",
        "outputId": "a0718381-0d32-4197-983b-e4c749c4d760"
      },
      "outputs": [
        {
          "name": "stdout",
          "output_type": "stream",
          "text": [
            "SVM (RBF kernel) accuracy: 0.7236438075742068\n"
          ]
        }
      ],
      "source": [
        "# tuning C DO NOT RECOMMEND RUNNING!!! 5 MIN\n",
        "from sklearn.model_selection import GridSearchCV\n",
        "\n",
        "# define the parameter grid\n",
        "param_grid = {'C': np.logspace(0.01, 1, 10)}\n",
        "\n",
        "# create the grid search object\n",
        "grid_search = GridSearchCV(svm.SVC(kernel='rbf'), param_grid, cv=5)\n",
        "\n",
        "# fit the grid search to the data\n",
        "grid_search.fit(X_train_t_tr, Y_train_t_tr)\n",
        "\n",
        "# get the best estimator\n",
        "best_estimator = grid_search.best_estimator_\n",
        "\n",
        "# calculate the accuracy on the test set using the best estimator\n",
        "accuracy = accuracy_score(Y_test, best_estimator.predict(X_test_t))\n",
        "\n",
        "print('SVM (RBF kernel) accuracy:', accuracy)\n"
      ]
    },
    {
      "cell_type": "code",
      "source": [
        "with open('clf_svm_rbf .p', 'wb') as f:\n",
        "\tpickle.dump(clf_svm_rbf , f)"
      ],
      "metadata": {
        "id": "KVULY_950LP6"
      },
      "execution_count": null,
      "outputs": []
    },
    {
      "cell_type": "code",
      "source": [
        "from sklearn.metrics import confusion_matrix\n",
        "conf_matrix_rbf = confusion_matrix(Y_train_t_val, clf_svm_rbf.predict(X_train_t_val))\n",
        "conf_matrix_rbf"
      ],
      "metadata": {
        "colab": {
          "base_uri": "https://localhost:8080/",
          "height": 201
        },
        "id": "mID1nDqL9PRt",
        "outputId": "34e5ed5c-6088-47bf-c120-e3eb1798efc5"
      },
      "execution_count": null,
      "outputs": [
        {
          "output_type": "error",
          "ename": "NameError",
          "evalue": "ignored",
          "traceback": [
            "\u001b[0;31m---------------------------------------------------------------------------\u001b[0m",
            "\u001b[0;31mNameError\u001b[0m                                 Traceback (most recent call last)",
            "\u001b[0;32m<ipython-input-40-d4f9c6c5628a>\u001b[0m in \u001b[0;36m<cell line: 2>\u001b[0;34m()\u001b[0m\n\u001b[1;32m      1\u001b[0m \u001b[0;32mfrom\u001b[0m \u001b[0msklearn\u001b[0m\u001b[0;34m.\u001b[0m\u001b[0mmetrics\u001b[0m \u001b[0;32mimport\u001b[0m \u001b[0mconfusion_matrix\u001b[0m\u001b[0;34m\u001b[0m\u001b[0;34m\u001b[0m\u001b[0m\n\u001b[0;32m----> 2\u001b[0;31m \u001b[0mconf_matrix_rbf\u001b[0m \u001b[0;34m=\u001b[0m \u001b[0mconfusion_matrix\u001b[0m\u001b[0;34m(\u001b[0m\u001b[0mY_train_t_val\u001b[0m\u001b[0;34m,\u001b[0m \u001b[0mclf_svm_rbf\u001b[0m\u001b[0;34m.\u001b[0m\u001b[0mpredict\u001b[0m\u001b[0;34m(\u001b[0m\u001b[0mX_train_t_val\u001b[0m\u001b[0;34m)\u001b[0m\u001b[0;34m)\u001b[0m\u001b[0;34m\u001b[0m\u001b[0;34m\u001b[0m\u001b[0m\n\u001b[0m\u001b[1;32m      3\u001b[0m \u001b[0mconf_matrix_rbf\u001b[0m\u001b[0;34m\u001b[0m\u001b[0;34m\u001b[0m\u001b[0m\n",
            "\u001b[0;31mNameError\u001b[0m: name 'clf_svm_rbf' is not defined"
          ]
        }
      ]
    },
    {
      "cell_type": "code",
      "source": [
        "tn, fp, fn, tp = conf_matrix_rbf.ravel()\n",
        "tn, fp, fn, tp\n",
        "accuracy = (tp+tn)/(tn+fp+fn+tp)\n",
        "tpr = tp/(tp+fn)\n",
        "fpr = fp/(fp+tn)\n",
        "tnr = tn/(tn+fp)\n",
        "fnr = fn/(fn+tp)\n",
        "recall = tpr\n",
        "precision = tp/(tp+fp)\n",
        "print('False positive rate: %.3f'%fpr)\n",
        "print('False negative rate: %.3f'%fnr)\n",
        "print('True positive rate: %.3f'%tpr)\n",
        "print(tp, fp, tp/(tp+fp))"
      ],
      "metadata": {
        "colab": {
          "base_uri": "https://localhost:8080/"
        },
        "id": "oS5rBZPU-att",
        "outputId": "57604f05-4e03-4a0f-b4ee-9265290ff2a7"
      },
      "execution_count": null,
      "outputs": [
        {
          "output_type": "stream",
          "name": "stdout",
          "text": [
            "False positive rate: 0.282\n",
            "False negative rate: 0.221\n",
            "True positive rate: 0.779\n",
            "819 261 0.7583333333333333\n"
          ]
        }
      ]
    },
    {
      "cell_type": "code",
      "source": [
        "from sklearn import metrics\n",
        "\n",
        "# calculate ROC curve and AUC\n",
        "scores = clf_svm_rbf.decision_function(X_train_t_val)\n",
        "fpr, tpr, thresholds = metrics.roc_curve(Y_train_t_val, scores)\n",
        "auc = metrics.auc(fpr, tpr)\n",
        "\n",
        "# plot ROC curve with black dot for model accuracy\n",
        "plt.figure(figsize=(5,5))\n",
        "lw = 2\n",
        "plt.plot(fpr, tpr, color='darkorange', lw=lw, label='ROC curve (area = %0.2f)' % auc)\n",
        "plt.plot([0, 1], [0, 1], color='navy', lw=lw, linestyle='--')\n",
        "plt.scatter(0.282, 0.779, color='black', label='Our Model TPR/FPR', s=50)\n",
        "plt.xlim([0.0, 1.0])\n",
        "plt.ylim([0.0, 1.05])\n",
        "plt.xlabel('False Positive Rate')\n",
        "plt.ylabel('True Positive Rate (Recall)')\n",
        "plt.title('Receiver operating characteristic example')\n",
        "plt.legend(loc=\"lower right\")\n",
        "plt.show()\n"
      ],
      "metadata": {
        "colab": {
          "base_uri": "https://localhost:8080/",
          "height": 487
        },
        "id": "4ASIIwnYpRdV",
        "outputId": "db89d0a7-bc84-42bb-e591-93ba44e020be"
      },
      "execution_count": null,
      "outputs": [
        {
          "output_type": "display_data",
          "data": {
            "text/plain": [
              "<Figure size 500x500 with 1 Axes>"
            ],
            "image/png": "[encoded data removed]"
          },
          "metadata": {}
        }
      ]
    },
    {
      "cell_type": "markdown",
      "metadata": {
        "id": "F7_gd2vAcv0v"
      },
      "source": [
        "**4. Tree-Based Model**"
      ]
    },
    {
      "cell_type": "markdown",
      "metadata": {
        "id": "pvLSjtlAUpjW"
      },
      "source": [
        "4.1 Decision Tree"
      ]
    },
    {
      "cell_type": "code",
      "execution_count": null,
      "metadata": {
        "id": "jtemydMCXZun"
      },
      "outputs": [],
      "source": [
        "from sklearn import tree\n",
        "from sklearn.tree import DecisionTreeClassifier\n",
        "from sklearn.ensemble import BaggingClassifier\n",
        "from sklearn.ensemble import RandomForestClassifier\n",
        "from sklearn.ensemble import AdaBoostClassifier\n",
        "from sklearn.model_selection import train_test_split\n",
        "from sklearn.model_selection import cross_val_score\n",
        "from sklearn.model_selection import GridSearchCV\n",
        "from sklearn.model_selection import StratifiedKFold\n",
        "from IPython.display import Image\n",
        "from IPython.display import IFrame\n",
        "import pydot_ng as pydot"
      ]
    },
    {
      "cell_type": "code",
      "execution_count": null,
      "metadata": {
        "colab": {
          "base_uri": "https://localhost:8080/"
        },
        "id": "b4t-QVJYUoH8",
        "outputId": "ff19513d-0658-4576-c468-56e0d6983f9b"
      },
      "outputs": [
        {
          "output_type": "stream",
          "name": "stdout",
          "text": [
            "Train accuracy: 0.711\n",
            "Validation accuracy: 0.704\n",
            "Test accuracy: 0.686\n"
          ]
        }
      ],
      "source": [
        "\n",
        "clf_tree = DecisionTreeClassifier(max_depth=1, random_state=0).fit(X_train_t_tr, Y_train_t_tr)\n",
        "train_accuracy_DT = clf_tree.score(X_train_t_tr, Y_train_t_tr)\n",
        "val_accuracy_DT = clf_tree.score(X_train_t_val, Y_train_t_val)\n",
        "test_accuracy_DT = clf_tree.score(X_test_t, Y_test)\n",
        "print('Train accuracy: %.3f'%train_accuracy_DT)\n",
        "print('Validation accuracy: %.3f'%val_accuracy_DT)\n",
        "print('Test accuracy: %.3f'%test_accuracy_DT)"
      ]
    },
    {
      "cell_type": "code",
      "execution_count": null,
      "metadata": {
        "id": "RelTJKteVPSy"
      },
      "outputs": [],
      "source": [
        "d_range = range(1, 13)\n",
        "tree_accuracy = pd.DataFrame(index=d_range, columns=['Train accuracy', 'Validation accuracy'])\n",
        "\n",
        "for d in d_range:\n",
        "    clf_tree = DecisionTreeClassifier(max_depth=d, random_state=0).fit(X_train_t_tr, Y_train_t_tr)\n",
        "    Y_train_pred_DT = clf_tree.predict(X_train_t_tr)\n",
        "    train_accuracy = np.mean(Y_train_pred_DT == Y_train_t_tr)\n",
        "    Y_val_pred_DT = clf_tree.predict(X_train_t_val)\n",
        "    val_accuracy = np.mean(Y_val_pred_DT == Y_train_t_val)\n",
        "    tree_accuracy.loc[d, 'Train accuracy'] = train_accuracy.round(2)\n",
        "    tree_accuracy.loc[d, 'Validation accuracy'] = val_accuracy.round(2)\n",
        "tree_accuracy.rename_axis('Depth', inplace=True)"
      ]
    },
    {
      "cell_type": "code",
      "execution_count": null,
      "metadata": {
        "colab": {
          "base_uri": "https://localhost:8080/",
          "height": 449
        },
        "id": "fRw4veYYVPgI",
        "outputId": "14bc9ce7-890b-43a4-d717-ee2857391350"
      },
      "outputs": [
        {
          "output_type": "display_data",
          "data": {
            "text/plain": [
              "<Figure size 640x480 with 1 Axes>"
            ],
            "image/png": "[encoded data removed]"
          },
          "metadata": {}
        }
      ],
      "source": [
        "tree_accuracy.plot();"
      ]
    },
    {
      "cell_type": "code",
      "execution_count": null,
      "metadata": {
        "colab": {
          "base_uri": "https://localhost:8080/",
          "height": 116
        },
        "id": "AZMYSI9AVPmi",
        "outputId": "b1cdb828-26e9-48b1-b336-aebece1f300e"
      },
      "outputs": [
        {
          "output_type": "execute_result",
          "data": {
            "text/plain": [
              "GridSearchCV(cv=StratifiedKFold(n_splits=5, random_state=0, shuffle=True),\n",
              "             estimator=DecisionTreeClassifier(random_state=0),\n",
              "             param_grid=[{'max_depth': range(1, 13),\n",
              "                          'max_leaf_nodes': [2, 4, 6, 20, 100, 10000],\n",
              "                          'min_samples_leaf': [10, 20, 100]}],\n",
              "             scoring='accuracy')"
            ],
            "text/html": [
              "<style>#sk-container-id-1 {color: black;background-color: white;}#sk-container-id-1 pre{padding: 0;}#sk-container-id-1 div.sk-toggleable {background-color: white;}#sk-container-id-1 label.sk-toggleable__label {cursor: pointer;display: block;width: 100%;margin-bottom: 0;padding: 0.3em;box-sizing: border-box;text-align: center;}#sk-container-id-1 label.sk-toggleable__label-arrow:before {content: \"▸\";float: left;margin-right: 0.25em;color: #696969;}#sk-container-id-1 label.sk-toggleable__label-arrow:hover:before {color: black;}#sk-container-id-1 div.sk-estimator:hover label.sk-toggleable__label-arrow:before {color: black;}#sk-container-id-1 div.sk-toggleable__content {max-height: 0;max-width: 0;overflow: hidden;text-align: left;background-color: #f0f8ff;}#sk-container-id-1 div.sk-toggleable__content pre {margin: 0.2em;color: black;border-radius: 0.25em;background-color: #f0f8ff;}#sk-container-id-1 input.sk-toggleable__control:checked~div.sk-toggleable__content {max-height: 200px;max-width: 100%;overflow: auto;}#sk-container-id-1 input.sk-toggleable__control:checked~label.sk-toggleable__label-arrow:before {content: \"▾\";}#sk-container-id-1 div.sk-estimator input.sk-toggleable__control:checked~label.sk-toggleable__label {background-color: #d4ebff;}#sk-container-id-1 div.sk-label input.sk-toggleable__control:checked~label.sk-toggleable__label {background-color: #d4ebff;}#sk-container-id-1 input.sk-hidden--visually {border: 0;clip: rect(1px 1px 1px 1px);clip: rect(1px, 1px, 1px, 1px);height: 1px;margin: -1px;overflow: hidden;padding: 0;position: absolute;width: 1px;}#sk-container-id-1 div.sk-estimator {font-family: monospace;background-color: #f0f8ff;border: 1px dotted black;border-radius: 0.25em;box-sizing: border-box;margin-bottom: 0.5em;}#sk-container-id-1 div.sk-estimator:hover {background-color: #d4ebff;}#sk-container-id-1 div.sk-parallel-item::after {content: \"\";width: 100%;border-bottom: 1px solid gray;flex-grow: 1;}#sk-container-id-1 div.sk-label:hover label.sk-toggleable__label {background-color: #d4ebff;}#sk-container-id-1 div.sk-serial::before {content: \"\";position: absolute;border-left: 1px solid gray;box-sizing: border-box;top: 0;bottom: 0;left: 50%;z-index: 0;}#sk-container-id-1 div.sk-serial {display: flex;flex-direction: column;align-items: center;background-color: white;padding-right: 0.2em;padding-left: 0.2em;position: relative;}#sk-container-id-1 div.sk-item {position: relative;z-index: 1;}#sk-container-id-1 div.sk-parallel {display: flex;align-items: stretch;justify-content: center;background-color: white;position: relative;}#sk-container-id-1 div.sk-item::before, #sk-container-id-1 div.sk-parallel-item::before {content: \"\";position: absolute;border-left: 1px solid gray;box-sizing: border-box;top: 0;bottom: 0;left: 50%;z-index: -1;}#sk-container-id-1 div.sk-parallel-item {display: flex;flex-direction: column;z-index: 1;position: relative;background-color: white;}#sk-container-id-1 div.sk-parallel-item:first-child::after {align-self: flex-end;width: 50%;}#sk-container-id-1 div.sk-parallel-item:last-child::after {align-self: flex-start;width: 50%;}#sk-container-id-1 div.sk-parallel-item:only-child::after {width: 0;}#sk-container-id-1 div.sk-dashed-wrapped {border: 1px dashed gray;margin: 0 0.4em 0.5em 0.4em;box-sizing: border-box;padding-bottom: 0.4em;background-color: white;}#sk-container-id-1 div.sk-label label {font-family: monospace;font-weight: bold;display: inline-block;line-height: 1.2em;}#sk-container-id-1 div.sk-label-container {text-align: center;}#sk-container-id-1 div.sk-container {/* jupyter's `normalize.less` sets `[hidden] { display: none; }` but bootstrap.min.css set `[hidden] { display: none !important; }` so we also need the `!important` here to be able to override the default hidden behavior on the sphinx rendered scikit-learn.org. See: https://github.com/scikit-learn/scikit-learn/issues/21755 */display: inline-block !important;position: relative;}#sk-container-id-1 div.sk-text-repr-fallback {display: none;}</style><div id=\"sk-container-id-1\" class=\"sk-top-container\"><div class=\"sk-text-repr-fallback\"><pre>GridSearchCV(cv=StratifiedKFold(n_splits=5, random_state=0, shuffle=True),\n",
              "             estimator=DecisionTreeClassifier(random_state=0),\n",
              "             param_grid=[{&#x27;max_depth&#x27;: range(1, 13),\n",
              "                          &#x27;max_leaf_nodes&#x27;: [2, 4, 6, 20, 100, 10000],\n",
              "                          &#x27;min_samples_leaf&#x27;: [10, 20, 100]}],\n",
              "             scoring=&#x27;accuracy&#x27;)</pre><b>In a Jupyter environment, please rerun this cell to show the HTML representation or trust the notebook. <br />On GitHub, the HTML representation is unable to render, please try loading this page with nbviewer.org.</b></div><div class=\"sk-container\" hidden><div class=\"sk-item sk-dashed-wrapped\"><div class=\"sk-label-container\"><div class=\"sk-label sk-toggleable\"><input class=\"sk-toggleable__control sk-hidden--visually\" id=\"sk-estimator-id-1\" type=\"checkbox\" ><label for=\"sk-estimator-id-1\" class=\"sk-toggleable__label sk-toggleable__label-arrow\">GridSearchCV</label><div class=\"sk-toggleable__content\"><pre>GridSearchCV(cv=StratifiedKFold(n_splits=5, random_state=0, shuffle=True),\n",
              "             estimator=DecisionTreeClassifier(random_state=0),\n",
              "             param_grid=[{&#x27;max_depth&#x27;: range(1, 13),\n",
              "                          &#x27;max_leaf_nodes&#x27;: [2, 4, 6, 20, 100, 10000],\n",
              "                          &#x27;min_samples_leaf&#x27;: [10, 20, 100]}],\n",
              "             scoring=&#x27;accuracy&#x27;)</pre></div></div></div><div class=\"sk-parallel\"><div class=\"sk-parallel-item\"><div class=\"sk-item\"><div class=\"sk-label-container\"><div class=\"sk-label sk-toggleable\"><input class=\"sk-toggleable__control sk-hidden--visually\" id=\"sk-estimator-id-2\" type=\"checkbox\" ><label for=\"sk-estimator-id-2\" class=\"sk-toggleable__label sk-toggleable__label-arrow\">estimator: DecisionTreeClassifier</label><div class=\"sk-toggleable__content\"><pre>DecisionTreeClassifier(random_state=0)</pre></div></div></div><div class=\"sk-serial\"><div class=\"sk-item\"><div class=\"sk-estimator sk-toggleable\"><input class=\"sk-toggleable__control sk-hidden--visually\" id=\"sk-estimator-id-3\" type=\"checkbox\" ><label for=\"sk-estimator-id-3\" class=\"sk-toggleable__label sk-toggleable__label-arrow\">DecisionTreeClassifier</label><div class=\"sk-toggleable__content\"><pre>DecisionTreeClassifier(random_state=0)</pre></div></div></div></div></div></div></div></div></div></div>"
            ]
          },
          "metadata": {},
          "execution_count": 25
        }
      ],
      "source": [
        "param_grid = [{'max_depth':range(1,13),\n",
        "               'min_samples_leaf':[10,20,100],\n",
        "               'max_leaf_nodes':[2,4,6,20,100,10000]}]\n",
        "\n",
        "grid_search = GridSearchCV(DecisionTreeClassifier(random_state=0),\n",
        "                           param_grid,\n",
        "                           cv=StratifiedKFold(n_splits=5, shuffle=True, random_state=0),\n",
        "                           scoring='accuracy')\n",
        "\n",
        "grid_search.fit(X_train_t_tr, Y_train_t_tr)"
      ]
    },
    {
      "cell_type": "code",
      "execution_count": null,
      "metadata": {
        "colab": {
          "base_uri": "https://localhost:8080/",
          "height": 423
        },
        "id": "_smSGXjfVPpc",
        "outputId": "6d60c623-f255-4a9a-9f21-32e58e717051"
      },
      "outputs": [
        {
          "output_type": "execute_result",
          "data": {
            "text/plain": [
              "    max_depth max_leaf_nodes min_samples_leaf  Accuracy\n",
              "0           1              2               10  0.708938\n",
              "1           1              2               20  0.708938\n",
              "2           1              2              100  0.708938\n",
              "3           1              4               10  0.708938\n",
              "4           1              4               20  0.708938\n",
              "..        ...            ...              ...       ...\n",
              "211        12            100               20  0.706745\n",
              "212        12            100              100  0.715514\n",
              "213        12          10000               10  0.677909\n",
              "214        12          10000               20  0.699663\n",
              "215        12          10000              100  0.715514\n",
              "\n",
              "[216 rows x 4 columns]"
            ],
            "text/html": [
              "\n",
              "  <div id=\"df-aa6e3b60-731a-4c5e-80ff-63459c24473e\">\n",
              "    <div class=\"colab-df-container\">\n",
              "      <div>\n",
              "<style scoped>\n",
              "    .dataframe tbody tr th:only-of-type {\n",
              "        vertical-align: middle;\n",
              "    }\n",
              "\n",
              "    .dataframe tbody tr th {\n",
              "        vertical-align: top;\n",
              "    }\n",
              "\n",
              "    .dataframe thead th {\n",
              "        text-align: right;\n",
              "    }\n",
              "</style>\n",
              "<table border=\"1\" class=\"dataframe\">\n",
              "  <thead>\n",
              "    <tr style=\"text-align: right;\">\n",
              "      <th></th>\n",
              "      <th>max_depth</th>\n",
              "      <th>max_leaf_nodes</th>\n",
              "      <th>min_samples_leaf</th>\n",
              "      <th>Accuracy</th>\n",
              "    </tr>\n",
              "  </thead>\n",
              "  <tbody>\n",
              "    <tr>\n",
              "      <th>0</th>\n",
              "      <td>1</td>\n",
              "      <td>2</td>\n",
              "      <td>10</td>\n",
              "      <td>0.708938</td>\n",
              "    </tr>\n",
              "    <tr>\n",
              "      <th>1</th>\n",
              "      <td>1</td>\n",
              "      <td>2</td>\n",
              "      <td>20</td>\n",
              "      <td>0.708938</td>\n",
              "    </tr>\n",
              "    <tr>\n",
              "      <th>2</th>\n",
              "      <td>1</td>\n",
              "      <td>2</td>\n",
              "      <td>100</td>\n",
              "      <td>0.708938</td>\n",
              "    </tr>\n",
              "    <tr>\n",
              "      <th>3</th>\n",
              "      <td>1</td>\n",
              "      <td>4</td>\n",
              "      <td>10</td>\n",
              "      <td>0.708938</td>\n",
              "    </tr>\n",
              "    <tr>\n",
              "      <th>4</th>\n",
              "      <td>1</td>\n",
              "      <td>4</td>\n",
              "      <td>20</td>\n",
              "      <td>0.708938</td>\n",
              "    </tr>\n",
              "    <tr>\n",
              "      <th>...</th>\n",
              "      <td>...</td>\n",
              "      <td>...</td>\n",
              "      <td>...</td>\n",
              "      <td>...</td>\n",
              "    </tr>\n",
              "    <tr>\n",
              "      <th>211</th>\n",
              "      <td>12</td>\n",
              "      <td>100</td>\n",
              "      <td>20</td>\n",
              "      <td>0.706745</td>\n",
              "    </tr>\n",
              "    <tr>\n",
              "      <th>212</th>\n",
              "      <td>12</td>\n",
              "      <td>100</td>\n",
              "      <td>100</td>\n",
              "      <td>0.715514</td>\n",
              "    </tr>\n",
              "    <tr>\n",
              "      <th>213</th>\n",
              "      <td>12</td>\n",
              "      <td>10000</td>\n",
              "      <td>10</td>\n",
              "      <td>0.677909</td>\n",
              "    </tr>\n",
              "    <tr>\n",
              "      <th>214</th>\n",
              "      <td>12</td>\n",
              "      <td>10000</td>\n",
              "      <td>20</td>\n",
              "      <td>0.699663</td>\n",
              "    </tr>\n",
              "    <tr>\n",
              "      <th>215</th>\n",
              "      <td>12</td>\n",
              "      <td>10000</td>\n",
              "      <td>100</td>\n",
              "      <td>0.715514</td>\n",
              "    </tr>\n",
              "  </tbody>\n",
              "</table>\n",
              "<p>216 rows × 4 columns</p>\n",
              "</div>\n",
              "      <button class=\"colab-df-convert\" onclick=\"convertToInteractive('df-aa6e3b60-731a-4c5e-80ff-63459c24473e')\"\n",
              "              title=\"Convert this dataframe to an interactive table.\"\n",
              "              style=\"display:none;\">\n",
              "        \n",
              "  <svg xmlns=\"http://www.w3.org/2000/svg\" height=\"24px\"viewBox=\"0 0 24 24\"\n",
              "       width=\"24px\">\n",
              "    <path d=\"M0 0h24v24H0V0z\" fill=\"none\"/>\n",
              "    <path d=\"M18.56 5.44l.94 2.06.94-2.06 2.06-.94-2.06-.94-.94-2.06-.94 2.06-2.06.94zm-11 1L8.5 8.5l.94-2.06 2.06-.94-2.06-.94L8.5 2.5l-.94 2.06-2.06.94zm10 10l.94 2.06.94-2.06 2.06-.94-2.06-.94-.94-2.06-.94 2.06-2.06.94z\"/><path d=\"M17.41 7.96l-1.37-1.37c-.4-.4-.92-.59-1.43-.59-.52 0-1.04.2-1.43.59L10.3 9.45l-7.72 7.72c-.78.78-.78 2.05 0 2.83L4 21.41c.39.39.9.59 1.41.59.51 0 1.02-.2 1.41-.59l7.78-7.78 2.81-2.81c.8-.78.8-2.07 0-2.86zM5.41 20L4 18.59l7.72-7.72 1.47 1.35L5.41 20z\"/>\n",
              "  </svg>\n",
              "      </button>\n",
              "      \n",
              "  <style>\n",
              "    .colab-df-container {\n",
              "      display:flex;\n",
              "      flex-wrap:wrap;\n",
              "      gap: 12px;\n",
              "    }\n",
              "\n",
              "    .colab-df-convert {\n",
              "      background-color: #E8F0FE;\n",
              "      border: none;\n",
              "      border-radius: 50%;\n",
              "      cursor: pointer;\n",
              "      display: none;\n",
              "      fill: #1967D2;\n",
              "      height: 32px;\n",
              "      padding: 0 0 0 0;\n",
              "      width: 32px;\n",
              "    }\n",
              "\n",
              "    .colab-df-convert:hover {\n",
              "      background-color: #E2EBFA;\n",
              "      box-shadow: 0px 1px 2px rgba(60, 64, 67, 0.3), 0px 1px 3px 1px rgba(60, 64, 67, 0.15);\n",
              "      fill: #174EA6;\n",
              "    }\n",
              "\n",
              "    [theme=dark] .colab-df-convert {\n",
              "      background-color: #3B4455;\n",
              "      fill: #D2E3FC;\n",
              "    }\n",
              "\n",
              "    [theme=dark] .colab-df-convert:hover {\n",
              "      background-color: #434B5C;\n",
              "      box-shadow: 0px 1px 3px 1px rgba(0, 0, 0, 0.15);\n",
              "      filter: drop-shadow(0px 1px 2px rgba(0, 0, 0, 0.3));\n",
              "      fill: #FFFFFF;\n",
              "    }\n",
              "  </style>\n",
              "\n",
              "      <script>\n",
              "        const buttonEl =\n",
              "          document.querySelector('#df-aa6e3b60-731a-4c5e-80ff-63459c24473e button.colab-df-convert');\n",
              "        buttonEl.style.display =\n",
              "          google.colab.kernel.accessAllowed ? 'block' : 'none';\n",
              "\n",
              "        async function convertToInteractive(key) {\n",
              "          const element = document.querySelector('#df-aa6e3b60-731a-4c5e-80ff-63459c24473e');\n",
              "          const dataTable =\n",
              "            await google.colab.kernel.invokeFunction('convertToInteractive',\n",
              "                                                     [key], {});\n",
              "          if (!dataTable) return;\n",
              "\n",
              "          const docLinkHtml = 'Like what you see? Visit the ' +\n",
              "            '<a target=\"_blank\" href=https://colab.research.google.com/notebooks/data_table.ipynb>data table notebook</a>'\n",
              "            + ' to learn more about interactive tables.';\n",
              "          element.innerHTML = '';\n",
              "          dataTable['output_type'] = 'display_data';\n",
              "          await google.colab.output.renderOutput(dataTable, element);\n",
              "          const docLink = document.createElement('div');\n",
              "          docLink.innerHTML = docLinkHtml;\n",
              "          element.appendChild(docLink);\n",
              "        }\n",
              "      </script>\n",
              "    </div>\n",
              "  </div>\n",
              "  "
            ]
          },
          "metadata": {},
          "execution_count": 26
        }
      ],
      "source": [
        "# extract the results of the grid search\n",
        "results = grid_search.cv_results_\n",
        "\n",
        "# create a dataframe from the results\n",
        "tree_accuracy_grid = pd.DataFrame({\n",
        "    'max_depth': results['param_max_depth'],\n",
        "    'max_leaf_nodes': results['param_max_leaf_nodes'],\n",
        "    'min_samples_leaf': results['param_min_samples_leaf'],\n",
        "    'Accuracy': results['mean_test_score']\n",
        "})\n",
        "tree_accuracy_grid"
      ]
    },
    {
      "cell_type": "code",
      "execution_count": null,
      "metadata": {
        "colab": {
          "base_uri": "https://localhost:8080/",
          "height": 369
        },
        "id": "cbh_0UVEVPrc",
        "outputId": "68d5c68e-c53d-4929-c5ca-2f7f25a5f00d"
      },
      "outputs": [
        {
          "output_type": "display_data",
          "data": {
            "text/plain": [
              "<Figure size 2000x500 with 2 Axes>"
            ],
            "image/png": "[encoded data removed]"
          },
          "metadata": {}
        }
      ],
      "source": [
        "import seaborn as sns\n",
        "fig, axes = plt.subplots(1,2,figsize=(20,5))\n",
        "plt.suptitle('Decision trees: CV Accuracy vs. depth \\n(Distribution over hyperparameters that share the same tree depth)')\n",
        "sns.boxplot(x=\"max_depth\", y='Accuracy', data=tree_accuracy_grid, ax=axes[0]);\n",
        "tree_accuracy.plot(ax=axes[1]);\n",
        "\n",
        "# Overfitting while depth increases"
      ]
    },
    {
      "cell_type": "code",
      "source": [
        "grid_search.best_params_"
      ],
      "metadata": {
        "colab": {
          "base_uri": "https://localhost:8080/"
        },
        "id": "ydAyPWzYtGYY",
        "outputId": "4807981e-f4df-4eac-c95b-a32811c909d7"
      },
      "execution_count": null,
      "outputs": [
        {
          "output_type": "execute_result",
          "data": {
            "text/plain": [
              "{'max_depth': 4, 'max_leaf_nodes': 20, 'min_samples_leaf': 100}"
            ]
          },
          "metadata": {},
          "execution_count": 28
        }
      ]
    },
    {
      "cell_type": "code",
      "source": [
        "best_DT_model = grid_search.best_estimator_\n",
        "best_DT_model"
      ],
      "metadata": {
        "colab": {
          "base_uri": "https://localhost:8080/",
          "height": 91
        },
        "id": "KRwNHUQxtmpg",
        "outputId": "58c4d574-5a18-4f91-996a-9e509046c1e4"
      },
      "execution_count": null,
      "outputs": [
        {
          "output_type": "execute_result",
          "data": {
            "text/plain": [
              "DecisionTreeClassifier(max_depth=4, max_leaf_nodes=20, min_samples_leaf=100,\n",
              "                       random_state=0)"
            ],
            "text/html": [
              "<style>#sk-container-id-2 {color: black;background-color: white;}#sk-container-id-2 pre{padding: 0;}#sk-container-id-2 div.sk-toggleable {background-color: white;}#sk-container-id-2 label.sk-toggleable__label {cursor: pointer;display: block;width: 100%;margin-bottom: 0;padding: 0.3em;box-sizing: border-box;text-align: center;}#sk-container-id-2 label.sk-toggleable__label-arrow:before {content: \"▸\";float: left;margin-right: 0.25em;color: #696969;}#sk-container-id-2 label.sk-toggleable__label-arrow:hover:before {color: black;}#sk-container-id-2 div.sk-estimator:hover label.sk-toggleable__label-arrow:before {color: black;}#sk-container-id-2 div.sk-toggleable__content {max-height: 0;max-width: 0;overflow: hidden;text-align: left;background-color: #f0f8ff;}#sk-container-id-2 div.sk-toggleable__content pre {margin: 0.2em;color: black;border-radius: 0.25em;background-color: #f0f8ff;}#sk-container-id-2 input.sk-toggleable__control:checked~div.sk-toggleable__content {max-height: 200px;max-width: 100%;overflow: auto;}#sk-container-id-2 input.sk-toggleable__control:checked~label.sk-toggleable__label-arrow:before {content: \"▾\";}#sk-container-id-2 div.sk-estimator input.sk-toggleable__control:checked~label.sk-toggleable__label {background-color: #d4ebff;}#sk-container-id-2 div.sk-label input.sk-toggleable__control:checked~label.sk-toggleable__label {background-color: #d4ebff;}#sk-container-id-2 input.sk-hidden--visually {border: 0;clip: rect(1px 1px 1px 1px);clip: rect(1px, 1px, 1px, 1px);height: 1px;margin: -1px;overflow: hidden;padding: 0;position: absolute;width: 1px;}#sk-container-id-2 div.sk-estimator {font-family: monospace;background-color: #f0f8ff;border: 1px dotted black;border-radius: 0.25em;box-sizing: border-box;margin-bottom: 0.5em;}#sk-container-id-2 div.sk-estimator:hover {background-color: #d4ebff;}#sk-container-id-2 div.sk-parallel-item::after {content: \"\";width: 100%;border-bottom: 1px solid gray;flex-grow: 1;}#sk-container-id-2 div.sk-label:hover label.sk-toggleable__label {background-color: #d4ebff;}#sk-container-id-2 div.sk-serial::before {content: \"\";position: absolute;border-left: 1px solid gray;box-sizing: border-box;top: 0;bottom: 0;left: 50%;z-index: 0;}#sk-container-id-2 div.sk-serial {display: flex;flex-direction: column;align-items: center;background-color: white;padding-right: 0.2em;padding-left: 0.2em;position: relative;}#sk-container-id-2 div.sk-item {position: relative;z-index: 1;}#sk-container-id-2 div.sk-parallel {display: flex;align-items: stretch;justify-content: center;background-color: white;position: relative;}#sk-container-id-2 div.sk-item::before, #sk-container-id-2 div.sk-parallel-item::before {content: \"\";position: absolute;border-left: 1px solid gray;box-sizing: border-box;top: 0;bottom: 0;left: 50%;z-index: -1;}#sk-container-id-2 div.sk-parallel-item {display: flex;flex-direction: column;z-index: 1;position: relative;background-color: white;}#sk-container-id-2 div.sk-parallel-item:first-child::after {align-self: flex-end;width: 50%;}#sk-container-id-2 div.sk-parallel-item:last-child::after {align-self: flex-start;width: 50%;}#sk-container-id-2 div.sk-parallel-item:only-child::after {width: 0;}#sk-container-id-2 div.sk-dashed-wrapped {border: 1px dashed gray;margin: 0 0.4em 0.5em 0.4em;box-sizing: border-box;padding-bottom: 0.4em;background-color: white;}#sk-container-id-2 div.sk-label label {font-family: monospace;font-weight: bold;display: inline-block;line-height: 1.2em;}#sk-container-id-2 div.sk-label-container {text-align: center;}#sk-container-id-2 div.sk-container {/* jupyter's `normalize.less` sets `[hidden] { display: none; }` but bootstrap.min.css set `[hidden] { display: none !important; }` so we also need the `!important` here to be able to override the default hidden behavior on the sphinx rendered scikit-learn.org. See: https://github.com/scikit-learn/scikit-learn/issues/21755 */display: inline-block !important;position: relative;}#sk-container-id-2 div.sk-text-repr-fallback {display: none;}</style><div id=\"sk-container-id-2\" class=\"sk-top-container\"><div class=\"sk-text-repr-fallback\"><pre>DecisionTreeClassifier(max_depth=4, max_leaf_nodes=20, min_samples_leaf=100,\n",
              "                       random_state=0)</pre><b>In a Jupyter environment, please rerun this cell to show the HTML representation or trust the notebook. <br />On GitHub, the HTML representation is unable to render, please try loading this page with nbviewer.org.</b></div><div class=\"sk-container\" hidden><div class=\"sk-item\"><div class=\"sk-estimator sk-toggleable\"><input class=\"sk-toggleable__control sk-hidden--visually\" id=\"sk-estimator-id-4\" type=\"checkbox\" checked><label for=\"sk-estimator-id-4\" class=\"sk-toggleable__label sk-toggleable__label-arrow\">DecisionTreeClassifier</label><div class=\"sk-toggleable__content\"><pre>DecisionTreeClassifier(max_depth=4, max_leaf_nodes=20, min_samples_leaf=100,\n",
              "                       random_state=0)</pre></div></div></div></div></div>"
            ]
          },
          "metadata": {},
          "execution_count": 29
        }
      ]
    },
    {
      "cell_type": "code",
      "source": [
        "# Compute the training accuracy\n",
        "train_accuracy_DT_opt = best_DT_model.score(X_train_t_tr, Y_train_t_tr)\n",
        "\n",
        "# Compute the validation accuracy\n",
        "val_accuracy_DT_opt = best_DT_model.score(X_train_t_val, Y_train_t_val)\n",
        "\n",
        "test_accuracy_DT_opt = best_DT_model.score(X_test_t, Y_test)\n",
        "\n",
        "print('Train accuracy (RF optimized): %.3f'%train_accuracy_DT_opt)\n",
        "print('Validation accuracy (RF optimized): %.3f'%val_accuracy_DT_opt)\n",
        "print('Test accuracy (RF optimized): %.3f'%test_accuracy_DT_opt)"
      ],
      "metadata": {
        "colab": {
          "base_uri": "https://localhost:8080/"
        },
        "id": "yA8S5kYwtuTS",
        "outputId": "8add81c2-5132-4e21-9555-c7de7acc321d"
      },
      "execution_count": null,
      "outputs": [
        {
          "output_type": "stream",
          "name": "stdout",
          "text": [
            "Train accuracy (RF optimized): 0.727\n",
            "Validation accuracy (RF optimized): 0.723\n",
            "Test accuracy (RF optimized): 0.701\n"
          ]
        }
      ]
    },
    {
      "cell_type": "markdown",
      "metadata": {
        "id": "fTYRhUu7WoKD"
      },
      "source": [
        "4.2 Random Forest"
      ]
    },
    {
      "cell_type": "code",
      "execution_count": null,
      "metadata": {
        "id": "YXZo1M7yWmxO"
      },
      "outputs": [],
      "source": [
        "from sklearn.ensemble import RandomForestClassifier\n",
        "rf = RandomForestClassifier(max_depth=1, random_state=0).fit(X_train_t_tr, Y_train_t_tr)"
      ]
    },
    {
      "cell_type": "code",
      "execution_count": null,
      "metadata": {
        "colab": {
          "base_uri": "https://localhost:8080/"
        },
        "id": "UYqCkNrHWm0L",
        "outputId": "2af305d5-cdcc-4653-8dfa-561fa01c6260"
      },
      "outputs": [
        {
          "output_type": "stream",
          "name": "stdout",
          "text": [
            "Train accuracy: 0.719\n",
            "Validation accuracy: 0.715\n"
          ]
        }
      ],
      "source": [
        "rf.fit(X_train_t_tr, Y_train_t_tr)\n",
        "train_accuracy_RF = rf.score(X_train_t_tr, Y_train_t_tr)\n",
        "val_accuracy_RF = rf.score(X_train_t_val, Y_train_t_val)\n",
        "print('Train accuracy: %.3f'%train_accuracy_RF)\n",
        "print('Validation accuracy: %.3f'%val_accuracy_RF)"
      ]
    },
    {
      "cell_type": "code",
      "execution_count": null,
      "metadata": {
        "colab": {
          "base_uri": "https://localhost:8080/",
          "height": 116
        },
        "id": "V4MYQr4WWm3D",
        "outputId": "2dec415e-b747-42c2-d0db-79fb01bd6b43"
      },
      "outputs": [
        {
          "output_type": "execute_result",
          "data": {
            "text/plain": [
              "GridSearchCV(cv=StratifiedKFold(n_splits=5, random_state=0, shuffle=True),\n",
              "             estimator=RandomForestClassifier(random_state=0),\n",
              "             param_grid=[{'max_depth': range(1, 10),\n",
              "                          'max_leaf_nodes': [2, 4, 8, 16],\n",
              "                          'min_samples_leaf': [10, 20, 100],\n",
              "                          'n_estimators': [10, 20, 50]}],\n",
              "             scoring='accuracy')"
            ],
            "text/html": [
              "<style>#sk-container-id-3 {color: black;background-color: white;}#sk-container-id-3 pre{padding: 0;}#sk-container-id-3 div.sk-toggleable {background-color: white;}#sk-container-id-3 label.sk-toggleable__label {cursor: pointer;display: block;width: 100%;margin-bottom: 0;padding: 0.3em;box-sizing: border-box;text-align: center;}#sk-container-id-3 label.sk-toggleable__label-arrow:before {content: \"▸\";float: left;margin-right: 0.25em;color: #696969;}#sk-container-id-3 label.sk-toggleable__label-arrow:hover:before {color: black;}#sk-container-id-3 div.sk-estimator:hover label.sk-toggleable__label-arrow:before {color: black;}#sk-container-id-3 div.sk-toggleable__content {max-height: 0;max-width: 0;overflow: hidden;text-align: left;background-color: #f0f8ff;}#sk-container-id-3 div.sk-toggleable__content pre {margin: 0.2em;color: black;border-radius: 0.25em;background-color: #f0f8ff;}#sk-container-id-3 input.sk-toggleable__control:checked~div.sk-toggleable__content {max-height: 200px;max-width: 100%;overflow: auto;}#sk-container-id-3 input.sk-toggleable__control:checked~label.sk-toggleable__label-arrow:before {content: \"▾\";}#sk-container-id-3 div.sk-estimator input.sk-toggleable__control:checked~label.sk-toggleable__label {background-color: #d4ebff;}#sk-container-id-3 div.sk-label input.sk-toggleable__control:checked~label.sk-toggleable__label {background-color: #d4ebff;}#sk-container-id-3 input.sk-hidden--visually {border: 0;clip: rect(1px 1px 1px 1px);clip: rect(1px, 1px, 1px, 1px);height: 1px;margin: -1px;overflow: hidden;padding: 0;position: absolute;width: 1px;}#sk-container-id-3 div.sk-estimator {font-family: monospace;background-color: #f0f8ff;border: 1px dotted black;border-radius: 0.25em;box-sizing: border-box;margin-bottom: 0.5em;}#sk-container-id-3 div.sk-estimator:hover {background-color: #d4ebff;}#sk-container-id-3 div.sk-parallel-item::after {content: \"\";width: 100%;border-bottom: 1px solid gray;flex-grow: 1;}#sk-container-id-3 div.sk-label:hover label.sk-toggleable__label {background-color: #d4ebff;}#sk-container-id-3 div.sk-serial::before {content: \"\";position: absolute;border-left: 1px solid gray;box-sizing: border-box;top: 0;bottom: 0;left: 50%;z-index: 0;}#sk-container-id-3 div.sk-serial {display: flex;flex-direction: column;align-items: center;background-color: white;padding-right: 0.2em;padding-left: 0.2em;position: relative;}#sk-container-id-3 div.sk-item {position: relative;z-index: 1;}#sk-container-id-3 div.sk-parallel {display: flex;align-items: stretch;justify-content: center;background-color: white;position: relative;}#sk-container-id-3 div.sk-item::before, #sk-container-id-3 div.sk-parallel-item::before {content: \"\";position: absolute;border-left: 1px solid gray;box-sizing: border-box;top: 0;bottom: 0;left: 50%;z-index: -1;}#sk-container-id-3 div.sk-parallel-item {display: flex;flex-direction: column;z-index: 1;position: relative;background-color: white;}#sk-container-id-3 div.sk-parallel-item:first-child::after {align-self: flex-end;width: 50%;}#sk-container-id-3 div.sk-parallel-item:last-child::after {align-self: flex-start;width: 50%;}#sk-container-id-3 div.sk-parallel-item:only-child::after {width: 0;}#sk-container-id-3 div.sk-dashed-wrapped {border: 1px dashed gray;margin: 0 0.4em 0.5em 0.4em;box-sizing: border-box;padding-bottom: 0.4em;background-color: white;}#sk-container-id-3 div.sk-label label {font-family: monospace;font-weight: bold;display: inline-block;line-height: 1.2em;}#sk-container-id-3 div.sk-label-container {text-align: center;}#sk-container-id-3 div.sk-container {/* jupyter's `normalize.less` sets `[hidden] { display: none; }` but bootstrap.min.css set `[hidden] { display: none !important; }` so we also need the `!important` here to be able to override the default hidden behavior on the sphinx rendered scikit-learn.org. See: https://github.com/scikit-learn/scikit-learn/issues/21755 */display: inline-block !important;position: relative;}#sk-container-id-3 div.sk-text-repr-fallback {display: none;}</style><div id=\"sk-container-id-3\" class=\"sk-top-container\"><div class=\"sk-text-repr-fallback\"><pre>GridSearchCV(cv=StratifiedKFold(n_splits=5, random_state=0, shuffle=True),\n",
              "             estimator=RandomForestClassifier(random_state=0),\n",
              "             param_grid=[{&#x27;max_depth&#x27;: range(1, 10),\n",
              "                          &#x27;max_leaf_nodes&#x27;: [2, 4, 8, 16],\n",
              "                          &#x27;min_samples_leaf&#x27;: [10, 20, 100],\n",
              "                          &#x27;n_estimators&#x27;: [10, 20, 50]}],\n",
              "             scoring=&#x27;accuracy&#x27;)</pre><b>In a Jupyter environment, please rerun this cell to show the HTML representation or trust the notebook. <br />On GitHub, the HTML representation is unable to render, please try loading this page with nbviewer.org.</b></div><div class=\"sk-container\" hidden><div class=\"sk-item sk-dashed-wrapped\"><div class=\"sk-label-container\"><div class=\"sk-label sk-toggleable\"><input class=\"sk-toggleable__control sk-hidden--visually\" id=\"sk-estimator-id-5\" type=\"checkbox\" ><label for=\"sk-estimator-id-5\" class=\"sk-toggleable__label sk-toggleable__label-arrow\">GridSearchCV</label><div class=\"sk-toggleable__content\"><pre>GridSearchCV(cv=StratifiedKFold(n_splits=5, random_state=0, shuffle=True),\n",
              "             estimator=RandomForestClassifier(random_state=0),\n",
              "             param_grid=[{&#x27;max_depth&#x27;: range(1, 10),\n",
              "                          &#x27;max_leaf_nodes&#x27;: [2, 4, 8, 16],\n",
              "                          &#x27;min_samples_leaf&#x27;: [10, 20, 100],\n",
              "                          &#x27;n_estimators&#x27;: [10, 20, 50]}],\n",
              "             scoring=&#x27;accuracy&#x27;)</pre></div></div></div><div class=\"sk-parallel\"><div class=\"sk-parallel-item\"><div class=\"sk-item\"><div class=\"sk-label-container\"><div class=\"sk-label sk-toggleable\"><input class=\"sk-toggleable__control sk-hidden--visually\" id=\"sk-estimator-id-6\" type=\"checkbox\" ><label for=\"sk-estimator-id-6\" class=\"sk-toggleable__label sk-toggleable__label-arrow\">estimator: RandomForestClassifier</label><div class=\"sk-toggleable__content\"><pre>RandomForestClassifier(random_state=0)</pre></div></div></div><div class=\"sk-serial\"><div class=\"sk-item\"><div class=\"sk-estimator sk-toggleable\"><input class=\"sk-toggleable__control sk-hidden--visually\" id=\"sk-estimator-id-7\" type=\"checkbox\" ><label for=\"sk-estimator-id-7\" class=\"sk-toggleable__label sk-toggleable__label-arrow\">RandomForestClassifier</label><div class=\"sk-toggleable__content\"><pre>RandomForestClassifier(random_state=0)</pre></div></div></div></div></div></div></div></div></div></div>"
            ]
          },
          "metadata": {},
          "execution_count": 33
        }
      ],
      "source": [
        "param_grid = [{'n_estimators':[10,20,50],\n",
        "               'max_depth':range(1,10),\n",
        "               'min_samples_leaf':[10,20,100],\n",
        "               'max_leaf_nodes':[2,4,8,16]}]\n",
        "\n",
        "grid_search = GridSearchCV(RandomForestClassifier(random_state=0),\n",
        "                           param_grid,\n",
        "                           cv=StratifiedKFold(n_splits=5, shuffle=True, random_state=0),\n",
        "                           scoring='accuracy')\n",
        "\n",
        "grid_search.fit(X_train_t_tr, Y_train_t_tr)"
      ]
    },
    {
      "cell_type": "code",
      "execution_count": null,
      "metadata": {
        "colab": {
          "base_uri": "https://localhost:8080/",
          "height": 423
        },
        "id": "jQjehTYXWm5X",
        "outputId": "f127c1a5-bd7f-43dc-ae28-6270386bbe6f"
      },
      "outputs": [
        {
          "output_type": "execute_result",
          "data": {
            "text/plain": [
              "    n_estimators max_depth max_leaf_nodes min_samples_leaf  Accuracy\n",
              "0             10         1              2               10  0.691062\n",
              "1             20         1              2               10  0.714334\n",
              "2             50         1              2               10  0.717032\n",
              "3             10         1              2               20  0.691062\n",
              "4             20         1              2               20  0.714334\n",
              "..           ...       ...            ...              ...       ...\n",
              "319           20         9             16               20  0.732378\n",
              "320           50         9             16               20  0.730691\n",
              "321           10         9             16              100  0.729174\n",
              "322           20         9             16              100  0.731535\n",
              "323           50         9             16              100  0.728499\n",
              "\n",
              "[324 rows x 5 columns]"
            ],
            "text/html": [
              "\n",
              "  <div id=\"df-59650bc3-6b4f-45c3-8f5e-bfa6a033bde4\">\n",
              "    <div class=\"colab-df-container\">\n",
              "      <div>\n",
              "<style scoped>\n",
              "    .dataframe tbody tr th:only-of-type {\n",
              "        vertical-align: middle;\n",
              "    }\n",
              "\n",
              "    .dataframe tbody tr th {\n",
              "        vertical-align: top;\n",
              "    }\n",
              "\n",
              "    .dataframe thead th {\n",
              "        text-align: right;\n",
              "    }\n",
              "</style>\n",
              "<table border=\"1\" class=\"dataframe\">\n",
              "  <thead>\n",
              "    <tr style=\"text-align: right;\">\n",
              "      <th></th>\n",
              "      <th>n_estimators</th>\n",
              "      <th>max_depth</th>\n",
              "      <th>max_leaf_nodes</th>\n",
              "      <th>min_samples_leaf</th>\n",
              "      <th>Accuracy</th>\n",
              "    </tr>\n",
              "  </thead>\n",
              "  <tbody>\n",
              "    <tr>\n",
              "      <th>0</th>\n",
              "      <td>10</td>\n",
              "      <td>1</td>\n",
              "      <td>2</td>\n",
              "      <td>10</td>\n",
              "      <td>0.691062</td>\n",
              "    </tr>\n",
              "    <tr>\n",
              "      <th>1</th>\n",
              "      <td>20</td>\n",
              "      <td>1</td>\n",
              "      <td>2</td>\n",
              "      <td>10</td>\n",
              "      <td>0.714334</td>\n",
              "    </tr>\n",
              "    <tr>\n",
              "      <th>2</th>\n",
              "      <td>50</td>\n",
              "      <td>1</td>\n",
              "      <td>2</td>\n",
              "      <td>10</td>\n",
              "      <td>0.717032</td>\n",
              "    </tr>\n",
              "    <tr>\n",
              "      <th>3</th>\n",
              "      <td>10</td>\n",
              "      <td>1</td>\n",
              "      <td>2</td>\n",
              "      <td>20</td>\n",
              "      <td>0.691062</td>\n",
              "    </tr>\n",
              "    <tr>\n",
              "      <th>4</th>\n",
              "      <td>20</td>\n",
              "      <td>1</td>\n",
              "      <td>2</td>\n",
              "      <td>20</td>\n",
              "      <td>0.714334</td>\n",
              "    </tr>\n",
              "    <tr>\n",
              "      <th>...</th>\n",
              "      <td>...</td>\n",
              "      <td>...</td>\n",
              "      <td>...</td>\n",
              "      <td>...</td>\n",
              "      <td>...</td>\n",
              "    </tr>\n",
              "    <tr>\n",
              "      <th>319</th>\n",
              "      <td>20</td>\n",
              "      <td>9</td>\n",
              "      <td>16</td>\n",
              "      <td>20</td>\n",
              "      <td>0.732378</td>\n",
              "    </tr>\n",
              "    <tr>\n",
              "      <th>320</th>\n",
              "      <td>50</td>\n",
              "      <td>9</td>\n",
              "      <td>16</td>\n",
              "      <td>20</td>\n",
              "      <td>0.730691</td>\n",
              "    </tr>\n",
              "    <tr>\n",
              "      <th>321</th>\n",
              "      <td>10</td>\n",
              "      <td>9</td>\n",
              "      <td>16</td>\n",
              "      <td>100</td>\n",
              "      <td>0.729174</td>\n",
              "    </tr>\n",
              "    <tr>\n",
              "      <th>322</th>\n",
              "      <td>20</td>\n",
              "      <td>9</td>\n",
              "      <td>16</td>\n",
              "      <td>100</td>\n",
              "      <td>0.731535</td>\n",
              "    </tr>\n",
              "    <tr>\n",
              "      <th>323</th>\n",
              "      <td>50</td>\n",
              "      <td>9</td>\n",
              "      <td>16</td>\n",
              "      <td>100</td>\n",
              "      <td>0.728499</td>\n",
              "    </tr>\n",
              "  </tbody>\n",
              "</table>\n",
              "<p>324 rows × 5 columns</p>\n",
              "</div>\n",
              "      <button class=\"colab-df-convert\" onclick=\"convertToInteractive('df-59650bc3-6b4f-45c3-8f5e-bfa6a033bde4')\"\n",
              "              title=\"Convert this dataframe to an interactive table.\"\n",
              "              style=\"display:none;\">\n",
              "        \n",
              "  <svg xmlns=\"http://www.w3.org/2000/svg\" height=\"24px\"viewBox=\"0 0 24 24\"\n",
              "       width=\"24px\">\n",
              "    <path d=\"M0 0h24v24H0V0z\" fill=\"none\"/>\n",
              "    <path d=\"M18.56 5.44l.94 2.06.94-2.06 2.06-.94-2.06-.94-.94-2.06-.94 2.06-2.06.94zm-11 1L8.5 8.5l.94-2.06 2.06-.94-2.06-.94L8.5 2.5l-.94 2.06-2.06.94zm10 10l.94 2.06.94-2.06 2.06-.94-2.06-.94-.94-2.06-.94 2.06-2.06.94z\"/><path d=\"M17.41 7.96l-1.37-1.37c-.4-.4-.92-.59-1.43-.59-.52 0-1.04.2-1.43.59L10.3 9.45l-7.72 7.72c-.78.78-.78 2.05 0 2.83L4 21.41c.39.39.9.59 1.41.59.51 0 1.02-.2 1.41-.59l7.78-7.78 2.81-2.81c.8-.78.8-2.07 0-2.86zM5.41 20L4 18.59l7.72-7.72 1.47 1.35L5.41 20z\"/>\n",
              "  </svg>\n",
              "      </button>\n",
              "      \n",
              "  <style>\n",
              "    .colab-df-container {\n",
              "      display:flex;\n",
              "      flex-wrap:wrap;\n",
              "      gap: 12px;\n",
              "    }\n",
              "\n",
              "    .colab-df-convert {\n",
              "      background-color: #E8F0FE;\n",
              "      border: none;\n",
              "      border-radius: 50%;\n",
              "      cursor: pointer;\n",
              "      display: none;\n",
              "      fill: #1967D2;\n",
              "      height: 32px;\n",
              "      padding: 0 0 0 0;\n",
              "      width: 32px;\n",
              "    }\n",
              "\n",
              "    .colab-df-convert:hover {\n",
              "      background-color: #E2EBFA;\n",
              "      box-shadow: 0px 1px 2px rgba(60, 64, 67, 0.3), 0px 1px 3px 1px rgba(60, 64, 67, 0.15);\n",
              "      fill: #174EA6;\n",
              "    }\n",
              "\n",
              "    [theme=dark] .colab-df-convert {\n",
              "      background-color: #3B4455;\n",
              "      fill: #D2E3FC;\n",
              "    }\n",
              "\n",
              "    [theme=dark] .colab-df-convert:hover {\n",
              "      background-color: #434B5C;\n",
              "      box-shadow: 0px 1px 3px 1px rgba(0, 0, 0, 0.15);\n",
              "      filter: drop-shadow(0px 1px 2px rgba(0, 0, 0, 0.3));\n",
              "      fill: #FFFFFF;\n",
              "    }\n",
              "  </style>\n",
              "\n",
              "      <script>\n",
              "        const buttonEl =\n",
              "          document.querySelector('#df-59650bc3-6b4f-45c3-8f5e-bfa6a033bde4 button.colab-df-convert');\n",
              "        buttonEl.style.display =\n",
              "          google.colab.kernel.accessAllowed ? 'block' : 'none';\n",
              "\n",
              "        async function convertToInteractive(key) {\n",
              "          const element = document.querySelector('#df-59650bc3-6b4f-45c3-8f5e-bfa6a033bde4');\n",
              "          const dataTable =\n",
              "            await google.colab.kernel.invokeFunction('convertToInteractive',\n",
              "                                                     [key], {});\n",
              "          if (!dataTable) return;\n",
              "\n",
              "          const docLinkHtml = 'Like what you see? Visit the ' +\n",
              "            '<a target=\"_blank\" href=https://colab.research.google.com/notebooks/data_table.ipynb>data table notebook</a>'\n",
              "            + ' to learn more about interactive tables.';\n",
              "          element.innerHTML = '';\n",
              "          dataTable['output_type'] = 'display_data';\n",
              "          await google.colab.output.renderOutput(dataTable, element);\n",
              "          const docLink = document.createElement('div');\n",
              "          docLink.innerHTML = docLinkHtml;\n",
              "          element.appendChild(docLink);\n",
              "        }\n",
              "      </script>\n",
              "    </div>\n",
              "  </div>\n",
              "  "
            ]
          },
          "metadata": {},
          "execution_count": 34
        }
      ],
      "source": [
        "rf_accuracy_grid = pd.DataFrame(grid_search.cv_results_)\n",
        "rf_accuracy_grid = rf_accuracy_grid[['param_n_estimators', 'param_max_depth', 'param_max_leaf_nodes', 'param_min_samples_leaf', 'mean_test_score']]\n",
        "rf_accuracy_grid = rf_accuracy_grid.rename(columns={\n",
        "    'param_n_estimators': 'n_estimators',\n",
        "    'param_max_depth': 'max_depth',\n",
        "    'param_max_leaf_nodes': 'max_leaf_nodes',\n",
        "    'param_min_samples_leaf': 'min_samples_leaf',\n",
        "    'mean_test_score': 'Accuracy'\n",
        "})\n",
        "rf_accuracy_grid"
      ]
    },
    {
      "cell_type": "code",
      "execution_count": null,
      "metadata": {
        "colab": {
          "base_uri": "https://localhost:8080/",
          "height": 214
        },
        "id": "ykH7ODrgX6pA",
        "outputId": "9207d0f4-478d-49b2-fd06-0906babe36d2"
      },
      "outputs": [
        {
          "output_type": "display_data",
          "data": {
            "text/plain": [
              "<Figure size 2000x500 with 2 Axes>"
            ],
            "image/png": "[encoded data removed]"
          },
          "metadata": {}
        }
      ],
      "source": [
        "fig, axes = plt.subplots(1,2,figsize=(20,5))\n",
        "plt.suptitle('CV Accuracy vs. depth: DT (left) and RF (right)\\n(Distribution over hyperparameters that share tree depth)')\n",
        "sns.boxplot(x=\"max_depth\", y='Accuracy', data=tree_accuracy_grid, ax=axes[0]);\n",
        "sns.boxplot(x=\"max_depth\", y='Accuracy', data=rf_accuracy_grid, ax=axes[1]);\n",
        "axes[0].set_ylim(0.65,0.75);axes[1].set_ylim(0.65,0.75);"
      ]
    },
    {
      "cell_type": "code",
      "execution_count": null,
      "metadata": {
        "colab": {
          "base_uri": "https://localhost:8080/"
        },
        "id": "-tEqOTLFX6tW",
        "outputId": "d77e64bc-3e7a-46c8-f971-25263fb5ba6e"
      },
      "outputs": [
        {
          "output_type": "execute_result",
          "data": {
            "text/plain": [
              "{'max_depth': 8,\n",
              " 'max_leaf_nodes': 16,\n",
              " 'min_samples_leaf': 10,\n",
              " 'n_estimators': 20}"
            ]
          },
          "metadata": {},
          "execution_count": 35
        }
      ],
      "source": [
        "# the best configuration\n",
        "grid_search.best_params_"
      ]
    },
    {
      "cell_type": "code",
      "execution_count": null,
      "metadata": {
        "colab": {
          "base_uri": "https://localhost:8080/",
          "height": 91
        },
        "id": "NvMvfGLfX90E",
        "outputId": "ac38b2c4-60ee-40a0-f50f-f99a4e2532d5"
      },
      "outputs": [
        {
          "output_type": "execute_result",
          "data": {
            "text/plain": [
              "RandomForestClassifier(max_depth=8, max_leaf_nodes=16, min_samples_leaf=10,\n",
              "                       n_estimators=20, random_state=0)"
            ],
            "text/html": [
              "<style>#sk-container-id-4 {color: black;background-color: white;}#sk-container-id-4 pre{padding: 0;}#sk-container-id-4 div.sk-toggleable {background-color: white;}#sk-container-id-4 label.sk-toggleable__label {cursor: pointer;display: block;width: 100%;margin-bottom: 0;padding: 0.3em;box-sizing: border-box;text-align: center;}#sk-container-id-4 label.sk-toggleable__label-arrow:before {content: \"▸\";float: left;margin-right: 0.25em;color: #696969;}#sk-container-id-4 label.sk-toggleable__label-arrow:hover:before {color: black;}#sk-container-id-4 div.sk-estimator:hover label.sk-toggleable__label-arrow:before {color: black;}#sk-container-id-4 div.sk-toggleable__content {max-height: 0;max-width: 0;overflow: hidden;text-align: left;background-color: #f0f8ff;}#sk-container-id-4 div.sk-toggleable__content pre {margin: 0.2em;color: black;border-radius: 0.25em;background-color: #f0f8ff;}#sk-container-id-4 input.sk-toggleable__control:checked~div.sk-toggleable__content {max-height: 200px;max-width: 100%;overflow: auto;}#sk-container-id-4 input.sk-toggleable__control:checked~label.sk-toggleable__label-arrow:before {content: \"▾\";}#sk-container-id-4 div.sk-estimator input.sk-toggleable__control:checked~label.sk-toggleable__label {background-color: #d4ebff;}#sk-container-id-4 div.sk-label input.sk-toggleable__control:checked~label.sk-toggleable__label {background-color: #d4ebff;}#sk-container-id-4 input.sk-hidden--visually {border: 0;clip: rect(1px 1px 1px 1px);clip: rect(1px, 1px, 1px, 1px);height: 1px;margin: -1px;overflow: hidden;padding: 0;position: absolute;width: 1px;}#sk-container-id-4 div.sk-estimator {font-family: monospace;background-color: #f0f8ff;border: 1px dotted black;border-radius: 0.25em;box-sizing: border-box;margin-bottom: 0.5em;}#sk-container-id-4 div.sk-estimator:hover {background-color: #d4ebff;}#sk-container-id-4 div.sk-parallel-item::after {content: \"\";width: 100%;border-bottom: 1px solid gray;flex-grow: 1;}#sk-container-id-4 div.sk-label:hover label.sk-toggleable__label {background-color: #d4ebff;}#sk-container-id-4 div.sk-serial::before {content: \"\";position: absolute;border-left: 1px solid gray;box-sizing: border-box;top: 0;bottom: 0;left: 50%;z-index: 0;}#sk-container-id-4 div.sk-serial {display: flex;flex-direction: column;align-items: center;background-color: white;padding-right: 0.2em;padding-left: 0.2em;position: relative;}#sk-container-id-4 div.sk-item {position: relative;z-index: 1;}#sk-container-id-4 div.sk-parallel {display: flex;align-items: stretch;justify-content: center;background-color: white;position: relative;}#sk-container-id-4 div.sk-item::before, #sk-container-id-4 div.sk-parallel-item::before {content: \"\";position: absolute;border-left: 1px solid gray;box-sizing: border-box;top: 0;bottom: 0;left: 50%;z-index: -1;}#sk-container-id-4 div.sk-parallel-item {display: flex;flex-direction: column;z-index: 1;position: relative;background-color: white;}#sk-container-id-4 div.sk-parallel-item:first-child::after {align-self: flex-end;width: 50%;}#sk-container-id-4 div.sk-parallel-item:last-child::after {align-self: flex-start;width: 50%;}#sk-container-id-4 div.sk-parallel-item:only-child::after {width: 0;}#sk-container-id-4 div.sk-dashed-wrapped {border: 1px dashed gray;margin: 0 0.4em 0.5em 0.4em;box-sizing: border-box;padding-bottom: 0.4em;background-color: white;}#sk-container-id-4 div.sk-label label {font-family: monospace;font-weight: bold;display: inline-block;line-height: 1.2em;}#sk-container-id-4 div.sk-label-container {text-align: center;}#sk-container-id-4 div.sk-container {/* jupyter's `normalize.less` sets `[hidden] { display: none; }` but bootstrap.min.css set `[hidden] { display: none !important; }` so we also need the `!important` here to be able to override the default hidden behavior on the sphinx rendered scikit-learn.org. See: https://github.com/scikit-learn/scikit-learn/issues/21755 */display: inline-block !important;position: relative;}#sk-container-id-4 div.sk-text-repr-fallback {display: none;}</style><div id=\"sk-container-id-4\" class=\"sk-top-container\"><div class=\"sk-text-repr-fallback\"><pre>RandomForestClassifier(max_depth=8, max_leaf_nodes=16, min_samples_leaf=10,\n",
              "                       n_estimators=20, random_state=0)</pre><b>In a Jupyter environment, please rerun this cell to show the HTML representation or trust the notebook. <br />On GitHub, the HTML representation is unable to render, please try loading this page with nbviewer.org.</b></div><div class=\"sk-container\" hidden><div class=\"sk-item\"><div class=\"sk-estimator sk-toggleable\"><input class=\"sk-toggleable__control sk-hidden--visually\" id=\"sk-estimator-id-8\" type=\"checkbox\" checked><label for=\"sk-estimator-id-8\" class=\"sk-toggleable__label sk-toggleable__label-arrow\">RandomForestClassifier</label><div class=\"sk-toggleable__content\"><pre>RandomForestClassifier(max_depth=8, max_leaf_nodes=16, min_samples_leaf=10,\n",
              "                       n_estimators=20, random_state=0)</pre></div></div></div></div></div>"
            ]
          },
          "metadata": {},
          "execution_count": 36
        }
      ],
      "source": [
        "# a model trained using the best configuration on all folds\n",
        "best_RF_model = grid_search.best_estimator_\n",
        "best_RF_model"
      ]
    },
    {
      "cell_type": "code",
      "execution_count": null,
      "metadata": {
        "colab": {
          "base_uri": "https://localhost:8080/"
        },
        "id": "HT-GHrxiX93n",
        "outputId": "495ea031-a593-4287-b556-ae60e5807fb5"
      },
      "outputs": [
        {
          "output_type": "stream",
          "name": "stdout",
          "text": [
            "Train accuracy (RF optimized): 0.739\n",
            "Validation accuracy (RF optimized): 0.733\n",
            "Test accuracy (RF optimized): 0.712\n"
          ]
        }
      ],
      "source": [
        "#best_RF_model.fit(X_train_t_tr, Y_train_t_tr)\n",
        "# Compute the training accuracy\n",
        "train_accuracy_RF_opt = best_RF_model.score(X_train_t_tr, Y_train_t_tr)\n",
        "\n",
        "# Compute the validation accuracy\n",
        "val_accuracy_RF_opt = best_RF_model.score(X_train_t_val, Y_train_t_val)\n",
        "\n",
        "test_accuracy_RF_opt = best_RF_model.score(X_test_t, Y_test)\n",
        "\n",
        "print('Train accuracy (RF optimized): %.3f'%train_accuracy_RF_opt)\n",
        "print('Validation accuracy (RF optimized): %.3f'%val_accuracy_RF_opt)\n",
        "print('Test accuracy (RF optimized): %.3f'%test_accuracy_RF_opt)"
      ]
    },
    {
      "cell_type": "code",
      "source": [
        "conf_matrix_RF = confusion_matrix(Y_train_t_val, best_RF_model.predict(X_train_t_val))\n",
        "conf_matrix_RF"
      ],
      "metadata": {
        "colab": {
          "base_uri": "https://localhost:8080/"
        },
        "id": "Ij7Xxu8aDno2",
        "outputId": "8076b38f-a807-46c4-cc76-9b1517e5afee"
      },
      "execution_count": null,
      "outputs": [
        {
          "output_type": "execute_result",
          "data": {
            "text/plain": [
              "array([[636, 289],\n",
              "       [239, 813]])"
            ]
          },
          "metadata": {},
          "execution_count": 41
        }
      ]
    },
    {
      "cell_type": "code",
      "source": [
        "tn, fp, fn, tp = conf_matrix_RF.ravel()\n",
        "tn, fp, fn, tp\n",
        "accuracy = (tp+tn)/(tn+fp+fn+tp)\n",
        "tpr = tp/(tp+fn)\n",
        "fpr = fp/(fp+tn)\n",
        "tnr = tn/(tn+fp)\n",
        "fnr = fn/(fn+tp)\n",
        "recall = tpr\n",
        "precision = tp/(tp+fp)\n",
        "print('False positive rate: %.3f'%fpr)\n",
        "print('False negative rate: %.3f'%fnr)\n",
        "print('True negative rate: %.3f'%tpr)\n",
        "\n",
        "print(tp, fp, tp/(tp+fp))"
      ],
      "metadata": {
        "colab": {
          "base_uri": "https://localhost:8080/"
        },
        "id": "ufHoIaRVDsgi",
        "outputId": "35f73c45-fc13-443d-94e4-cc666990ef38"
      },
      "execution_count": null,
      "outputs": [
        {
          "output_type": "stream",
          "name": "stdout",
          "text": [
            "False positive rate: 0.312\n",
            "False negative rate: 0.227\n",
            "True negative rate: 0.773\n",
            "813 289 0.7377495462794919\n"
          ]
        }
      ]
    },
    {
      "cell_type": "code",
      "source": [
        "from sklearn import metrics\n",
        "\n",
        "y_pred_proba = best_RF_model.predict_proba(X_train_t_val)[:,1]\n",
        "fpr, tpr, thresholds = metrics.roc_curve(Y_train_t_val, y_pred_proba)\n",
        "roc_auc = metrics.auc(fpr, tpr)\n",
        "plt.figure()\n",
        "plt.plot(fpr, tpr, color='darkorange', lw=2, label='ROC curve (area = %0.2f)' % roc_auc)\n",
        "plt.plot([0, 1], [0, 1], color='navy', lw=2, linestyle='--')\n",
        "plt.scatter(0.312, 0.773, color='black', label='Our Model TPR/FPR', s=50)\n",
        "plt.xlim([0.0, 1.0])\n",
        "plt.ylim([0.0, 1.05])\n",
        "plt.xlabel('False Positive Rate')\n",
        "plt.ylabel('True Positive Rate')\n",
        "plt.title('Receiver operating characteristic')\n",
        "plt.legend(loc=\"lower right\")\n"
      ],
      "metadata": {
        "colab": {
          "base_uri": "https://localhost:8080/",
          "height": 489
        },
        "id": "BcV_Tu2aELH0",
        "outputId": "c7b11838-fa47-48aa-e360-e6b86459b5dc"
      },
      "execution_count": null,
      "outputs": [
        {
          "output_type": "execute_result",
          "data": {
            "text/plain": [
              "<matplotlib.legend.Legend at 0x7f110beb6cb0>"
            ]
          },
          "metadata": {},
          "execution_count": 45
        },
        {
          "output_type": "display_data",
          "data": {
            "text/plain": [
              "<Figure size 640x480 with 1 Axes>"
            ],
            "image/png": "[encoded data removed]"
          },
          "metadata": {}
        }
      ]
    },
    {
      "cell_type": "code",
      "source": [],
      "metadata": {
        "id": "7jRl84jwI5y1"
      },
      "execution_count": null,
      "outputs": []
    },
    {
      "cell_type": "markdown",
      "metadata": {
        "id": "xnUUtsa-dmHr"
      },
      "source": [
        "4.3 Boosting"
      ]
    },
    {
      "cell_type": "code",
      "execution_count": null,
      "metadata": {
        "id": "2uf8kIyFYBao"
      },
      "outputs": [],
      "source": [
        "clf_boosting = AdaBoostClassifier(random_state=0).fit(X_train_t_tr, Y_train_t_tr)"
      ]
    },
    {
      "cell_type": "code",
      "execution_count": null,
      "metadata": {
        "id": "Dbm2JCpCdouW"
      },
      "outputs": [],
      "source": [
        "train_accuracy_boosting =  clf_boosting.score(X_train_t_tr, Y_train_t_tr)\n",
        "val_accuracy_boosting = clf_boosting.score(X_train_t_val, Y_train_t_val)"
      ]
    },
    {
      "cell_type": "code",
      "execution_count": null,
      "metadata": {
        "colab": {
          "base_uri": "https://localhost:8080/"
        },
        "id": "vC5EBmTWdq2a",
        "outputId": "83febd4b-185a-424c-eac0-f8f86762cc3d"
      },
      "outputs": [
        {
          "output_type": "stream",
          "name": "stdout",
          "text": [
            "Train accuracy (boosting): 0.748\n",
            "Validation accuracy (boosting): 0.741\n",
            "\n",
            "Train accuracy (RF optimized): 0.739\n",
            "Validation accuracy (RF optimized): 0.733\n",
            "\n",
            "Train accuracy (DT): 0.711\n",
            "Validation accuracy (DT): 0.704\n"
          ]
        }
      ],
      "source": [
        "print('Train accuracy (boosting): %.3f'%train_accuracy_boosting)\n",
        "print('Validation accuracy (boosting): %.3f'%val_accuracy_boosting)\n",
        "print('\\nTrain accuracy (RF optimized): %.3f'%train_accuracy_RF_opt)\n",
        "print('Validation accuracy (RF optimized): %.3f'%val_accuracy_RF_opt)\n",
        "print('\\nTrain accuracy (DT): %.3f'%train_accuracy_DT)\n",
        "print('Validation accuracy (DT): %.3f'%val_accuracy_DT)"
      ]
    },
    {
      "cell_type": "code",
      "execution_count": null,
      "metadata": {
        "id": "gllx54mBdtEy"
      },
      "outputs": [],
      "source": [
        "n_estimators_ensemble = list(range(10, 200, 10))\n",
        "boosting_accuracy_learning_rate_0_01 = pd.DataFrame(index=n_estimators_ensemble, columns=['Train accuracy', 'Validation accuracy'])\n",
        "\n",
        "for n in n_estimators_ensemble:\n",
        "\n",
        "    boosting_model = AdaBoostClassifier(n_estimators=n, random_state=0, learning_rate=0.01)\n",
        "\n",
        "    boosting_model.fit(X_train_t_tr, Y_train_t_tr)\n",
        "\n",
        "    # Compute the training accuracy\n",
        "    train_accuracy = boosting_model.score(X_train_t_tr, Y_train_t_tr)\n",
        "\n",
        "    # Compute the validation accuracy\n",
        "    val_accuracy = boosting_model.score(X_train_t_val, Y_train_t_val)\n",
        "\n",
        "    boosting_accuracy_learning_rate_0_01.loc[n] = [train_accuracy.round(2), val_accuracy.round(2)]"
      ]
    },
    {
      "cell_type": "code",
      "execution_count": null,
      "metadata": {
        "colab": {
          "base_uri": "https://localhost:8080/",
          "height": 430
        },
        "id": "L9vKK5gkdtHT",
        "outputId": "9ccbcb88-e946-4ada-bd5a-a0f6d4492e3b"
      },
      "outputs": [
        {
          "output_type": "display_data",
          "data": {
            "text/plain": [
              "<Figure size 640x480 with 1 Axes>"
            ],
            "image/png": "[encoded data removed]"
          },
          "metadata": {}
        }
      ],
      "source": [
        "boosting_accuracy_learning_rate_0_01.plot();"
      ]
    },
    {
      "cell_type": "code",
      "execution_count": null,
      "metadata": {
        "id": "LuOidOWhdtLL"
      },
      "outputs": [],
      "source": [
        "n_estimators_ensemble = list(range(10, 400, 10))\n",
        "boosting_accuracy_learning_rate_1 = pd.DataFrame(index=n_estimators_ensemble, columns=['Train accuracy', 'Validation accuracy'])\n",
        "\n",
        "for n in n_estimators_ensemble:\n",
        "\n",
        "    boosting_model = AdaBoostClassifier(n_estimators=n, random_state=0, learning_rate=1)\n",
        "\n",
        "    boosting_model.fit(X_train_t_tr, Y_train_t_tr)\n",
        "\n",
        "    # Compute the training accuracy\n",
        "    train_accuracy = boosting_model.score(X_train_t_tr, Y_train_t_tr)\n",
        "\n",
        "    # Compute the validation accuracy\n",
        "    val_accuracy = boosting_model.score(X_train_t_val, Y_train_t_val)\n",
        "\n",
        "    boosting_accuracy_learning_rate_1.loc[n] = [train_accuracy.round(2), val_accuracy.round(2)]"
      ]
    },
    {
      "cell_type": "code",
      "execution_count": null,
      "metadata": {
        "colab": {
          "base_uri": "https://localhost:8080/",
          "height": 447
        },
        "id": "BlqpdO86dtN4",
        "outputId": "37f9c015-ca71-4813-fc94-962b66660b70"
      },
      "outputs": [
        {
          "output_type": "execute_result",
          "data": {
            "text/plain": [
              "<Axes: >"
            ]
          },
          "metadata": {},
          "execution_count": 191
        },
        {
          "output_type": "display_data",
          "data": {
            "text/plain": [
              "<Figure size 640x480 with 1 Axes>"
            ],
            "image/png": "[encoded data removed]"
          },
          "metadata": {}
        }
      ],
      "source": [
        "boosting_accuracy_learning_rate_1.plot()"
      ]
    },
    {
      "cell_type": "code",
      "execution_count": null,
      "metadata": {
        "id": "amf1w3aWdtPz"
      },
      "outputs": [],
      "source": [
        "clf_boosting_opt = AdaBoostClassifier(n_estimators=80, random_state=0).fit(X_train_t_tr, Y_train_t_tr)"
      ]
    },
    {
      "cell_type": "code",
      "execution_count": null,
      "metadata": {
        "id": "1LDV1BuGdtRu"
      },
      "outputs": [],
      "source": [
        "train_accuracy_boosting_opt =  clf_boosting_opt.score(X_train_t_tr, Y_train_t_tr)\n",
        "val_accuracy_boosting_opt = clf_boosting_opt.score(X_train_t_val, Y_train_t_val)\n",
        "test_accuracy_boosting_opt = clf_boosting_opt.score(X_test_t, Y_test)"
      ]
    },
    {
      "cell_type": "code",
      "execution_count": null,
      "metadata": {
        "colab": {
          "base_uri": "https://localhost:8080/"
        },
        "id": "WFNK9E6Ed04p",
        "outputId": "b8817ad7-7259-46da-a67c-c89758c15f82"
      },
      "outputs": [
        {
          "output_type": "stream",
          "name": "stdout",
          "text": [
            "Train accuracy (boosting): 0.747\n",
            "Validation accuracy (boosting): 0.735\n",
            "Test accuracy (boosting): 0.712\n"
          ]
        }
      ],
      "source": [
        "print('Train accuracy (boosting): %.3f'%train_accuracy_boosting_opt)\n",
        "print('Validation accuracy (boosting): %.3f'%val_accuracy_boosting_opt)\n",
        "print('Test accuracy (boosting): %.3f'%test_accuracy_boosting_opt)"
      ]
    },
    {
      "cell_type": "markdown",
      "metadata": {
        "id": "8VQJoOHNz4Cc"
      },
      "source": [
        "**5. KNN**"
      ]
    },
    {
      "cell_type": "code",
      "execution_count": null,
      "metadata": {
        "colab": {
          "base_uri": "https://localhost:8080/"
        },
        "id": "N67NOB_l9iyh",
        "outputId": "d3f43c96-1baf-4238-b18c-514878873c6c"
      },
      "outputs": [
        {
          "output_type": "stream",
          "name": "stdout",
          "text": [
            "KNN train accuracy: 0.795\n",
            "KNN val accuracy: 0.702\n",
            "KNN test accuracy: 0.685\n"
          ]
        }
      ],
      "source": [
        "knn     = neighbors.KNeighborsClassifier().fit(X_train_t_tr, Y_train_t_tr)\n",
        "from sklearn.metrics import accuracy_score\n",
        "\n",
        "print('KNN train accuracy: %.3f'%accuracy_score(Y_train_t_tr, knn.predict(X_train_t_tr)))\n",
        "print('KNN val accuracy: %.3f'%accuracy_score(Y_train_t_val, knn.predict(X_train_t_val)))\n",
        "print('KNN test accuracy: %.3f'%accuracy_score(Y_test, knn.predict(X_test_t)))"
      ]
    },
    {
      "cell_type": "code",
      "execution_count": null,
      "metadata": {
        "id": "oihVyHW7mb9m",
        "colab": {
          "base_uri": "https://localhost:8080/"
        },
        "outputId": "f548403b-7c8d-4770-ebba-c9c18ef759bc"
      },
      "outputs": [
        {
          "output_type": "stream",
          "name": "stdout",
          "text": [
            "Optimum k value: 27\n",
            "KNN best train accuracy: 0.7480607082630691\n",
            "KNN best validation accuracy: 0.7567020738492666\n",
            "KNN best test accuracy: 0.7077789150460594\n"
          ]
        }
      ],
      "source": [
        "# K tuning\n",
        "\n",
        "knn = neighbors.KNeighborsClassifier()\n",
        "param_grid = {'n_neighbors': range(1,30), 'metric': ['euclidean', 'manhattan']}\n",
        "grid_search = GridSearchCV(knn, param_grid, cv=5)\n",
        "grid_search.fit(X_train_t, Y_train)\n",
        "\n",
        "knn_best = grid_search.best_estimator_\n",
        "print(\"Optimum k value:\", grid_search.best_params_['n_neighbors'])\n",
        "print('KNN best train accuracy:', knn_best.score(X_train_t_tr, Y_train_t_tr))\n",
        "print('KNN best validation accuracy:', knn_best.score(X_train_t_val, Y_train_t_val))\n",
        "accuracy = accuracy_score(Y_test, knn_best.predict(X_test_t))\n",
        "print('KNN best test accuracy:', accuracy)\n"
      ]
    },
    {
      "cell_type": "code",
      "source": [
        "conf_matrix_KNN = confusion_matrix(Y_train_t_val, knn_best.predict(X_train_t_val))\n",
        "conf_matrix_KNN"
      ],
      "metadata": {
        "colab": {
          "base_uri": "https://localhost:8080/"
        },
        "id": "o6XUWjx8LqiH",
        "outputId": "7bd443b7-b6a8-4325-915f-77d5eee496cc"
      },
      "execution_count": null,
      "outputs": [
        {
          "output_type": "execute_result",
          "data": {
            "text/plain": [
              "array([[666, 259],\n",
              "       [222, 830]])"
            ]
          },
          "metadata": {},
          "execution_count": 50
        }
      ]
    },
    {
      "cell_type": "code",
      "source": [
        "tn, fp, fn, tp = conf_matrix_KNN.ravel()\n",
        "tn, fp, fn, tp\n",
        "accuracy = (tp+tn)/(tn+fp+fn+tp)\n",
        "tpr = tp/(tp+fn)\n",
        "fpr = fp/(fp+tn)\n",
        "tnr = tn/(tn+fp)\n",
        "fnr = fn/(fn+tp)\n",
        "recall = tpr\n",
        "precision = tp/(tp+fp)\n",
        "print('False positive rate: %.3f'%fpr)\n",
        "print('False negative rate: %.3f'%fnr)\n",
        "print('True negative rate: %.3f'%tpr)\n",
        "\n",
        "print(tp, fp, tp/(tp+fp))"
      ],
      "metadata": {
        "colab": {
          "base_uri": "https://localhost:8080/"
        },
        "id": "mYw0HI6MMDy_",
        "outputId": "15893f87-7428-4c67-e7ed-a0c4699a101f"
      },
      "execution_count": null,
      "outputs": [
        {
          "output_type": "stream",
          "name": "stdout",
          "text": [
            "False positive rate: 0.280\n",
            "False negative rate: 0.211\n",
            "True negative rate: 0.789\n",
            "830 259 0.7621671258034894\n"
          ]
        }
      ]
    },
    {
      "cell_type": "code",
      "source": [
        "y_pred_proba = knn_best.predict_proba(X_train_t_val)[:,1]\n",
        "fpr, tpr, thresholds = metrics.roc_curve(Y_train_t_val, y_pred_proba)\n",
        "roc_auc = metrics.auc(fpr, tpr)\n",
        "plt.figure()\n",
        "plt.plot(fpr, tpr, color='darkorange', lw=2, label='ROC curve (area = %0.2f)' % roc_auc)\n",
        "plt.plot([0, 1], [0, 1], color='navy', lw=2, linestyle='--')\n",
        "plt.scatter(0.280, 0.789, color='black', label='Our Model TPR/FPR', s=50)\n",
        "plt.xlim([0.0, 1.0])\n",
        "plt.ylim([0.0, 1.05])\n",
        "plt.xlabel('False Positive Rate')\n",
        "plt.ylabel('True Positive Rate')\n",
        "plt.title('Receiver operating characteristic')\n",
        "plt.legend(loc=\"lower right\");"
      ],
      "metadata": {
        "colab": {
          "base_uri": "https://localhost:8080/",
          "height": 472
        },
        "id": "BGY8JIEQMRHJ",
        "outputId": "ff9c0066-a640-482f-d53e-f1740f28d8cc"
      },
      "execution_count": null,
      "outputs": [
        {
          "output_type": "display_data",
          "data": {
            "text/plain": [
              "<Figure size 640x480 with 1 Axes>"
            ],
            "image/png": "[encoded data removed]"
          },
          "metadata": {}
        }
      ]
    }
  ],
  "metadata": {
    "colab": {
      "provenance": [],
      "include_colab_link": true
    },
    "kernelspec": {
      "display_name": "Python 3",
      "name": "python3"
    },
    "language_info": {
      "name": "python"
    }
  },
  "nbformat": 4,
  "nbformat_minor": 0
}